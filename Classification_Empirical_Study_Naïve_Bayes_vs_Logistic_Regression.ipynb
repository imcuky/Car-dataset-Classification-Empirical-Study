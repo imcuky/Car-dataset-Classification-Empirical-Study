{
  "nbformat": 4,
  "nbformat_minor": 0,
  "metadata": {
    "colab": {
      "provenance": [],
      "toc_visible": true,
      "authorship_tag": "ABX9TyOZ3Y6ifk1Lkl1SaaIkrjX7",
      "include_colab_link": true
    },
    "kernelspec": {
      "name": "python3",
      "display_name": "Python 3"
    },
    "language_info": {
      "name": "python"
    }
  },
  "cells": [
    {
      "cell_type": "markdown",
      "metadata": {
        "id": "view-in-github",
        "colab_type": "text"
      },
      "source": [
        "<a href=\"https://colab.research.google.com/github/imcuky/Classification/blob/main/Classification_Empirical_Study_Na%C3%AFve_Bayes_vs_Logistic_Regression.ipynb\" target=\"_parent\"><img src=\"https://colab.research.google.com/assets/colab-badge.svg\" alt=\"Open In Colab\"/></a>"
      ]
    },
    {
      "cell_type": "markdown",
      "source": [
        "#**Classification Empirical Study: Naïve Bayes vs Logistic Regression**"
      ],
      "metadata": {
        "id": "ewgoDHrlsRJG"
      }
    },
    {
      "cell_type": "markdown",
      "source": [
        "**Author: Catherine Lee**<br>\n",
        "catherine.lee.le@gmail.com"
      ],
      "metadata": {
        "id": "XhwT7axIsZUr"
      }
    },
    {
      "cell_type": "markdown",
      "source": [
        "##**1. Classification task and the dataset**"
      ],
      "metadata": {
        "id": "ffmCDxKr40mF"
      }
    },
    {
      "cell_type": "markdown",
      "source": [
        "###**a. Goal of The Task**\n"
      ],
      "metadata": {
        "id": "s97r4GDTSJsd"
      }
    },
    {
      "cell_type": "markdown",
      "source": [
        "<img src=\"data:image/jpeg;base64,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\"></img>\n",
        "\n",
        "Source: https://www.educba.com/naive-bayes-vs-logistic-regression/"
      ],
      "metadata": {
        "id": "f31rYoTwmZnp"
      }
    },
    {
      "cell_type": "markdown",
      "source": [
        "The process of purchasing a car is a multifaceted task that requires careful consideration of several factors, including reliability, performance, safety, and price. One of the most challenging aspects of this process is evaluating the available options. Our dataset simulates a real-world scenario where individuals appraise and make decisions about car purchases based on multiple criteria."
      ],
      "metadata": {
        "id": "OP2TqhynajyL"
      }
    },
    {
      "cell_type": "markdown",
      "source": [
        "In this Jupyter Notebook, an empirical study is presented to compare **discriminative** and **generative** models evaluated on a [Car Evaluation Database](https://archive.ics.uci.edu/dataset/19/car+evaluation) hosted at UC Irvine Repository. The dataset provides valuable insights to the learners about the factors that influence car buying decisions.The primary focus is to obtain the best classification performance in order to predict the acceptability of a car based on its characteristics. The goal of the task is to set up an experimental classification problem and explore on different parameters on discriminative and generative classification algorithms. Six different models will be used and compared to provide an accurate estimate of a class based on the given information."
      ],
      "metadata": {
        "id": "8w1CU4zhYoq4"
      }
    },
    {
      "cell_type": "markdown",
      "source": [
        "###**b.The Dataset**\n"
      ],
      "metadata": {
        "id": "QoCC9ONiSNjy"
      }
    },
    {
      "cell_type": "markdown",
      "source": [
        "The models will be train and compare with the proposed classification dataset under the data sources hosted at [UC Irvine Repository](https://archive.ics.uci.edu/dataset/19/car+evaluation)\n",
        ".\n"
      ],
      "metadata": {
        "id": "IGrqH8h-vvMA"
      }
    },
    {
      "cell_type": "markdown",
      "source": [
        "Import important libraries"
      ],
      "metadata": {
        "id": "p3aEHNPqnwOc"
      }
    },
    {
      "cell_type": "code",
      "source": [
        "import pandas as pd\n",
        "import numpy as np\n",
        "import random\n",
        "import sklearn as sk"
      ],
      "metadata": {
        "id": "aeqKvU05SCdJ"
      },
      "execution_count": null,
      "outputs": []
    },
    {
      "cell_type": "markdown",
      "source": [
        "Read Dataset"
      ],
      "metadata": {
        "id": "7yGFS5pT1zAy"
      }
    },
    {
      "cell_type": "code",
      "source": [
        "url = \"https://raw.githubusercontent.com/imcuky/Datasets/main/car.csv\"\n",
        "\n",
        "dataset = pd.read_csv(url)"
      ],
      "metadata": {
        "id": "hZo80sO51124"
      },
      "execution_count": null,
      "outputs": []
    },
    {
      "cell_type": "markdown",
      "source": [
        "The 10-item raw source data is shown."
      ],
      "metadata": {
        "id": "5LF4U8nzfnQE"
      }
    },
    {
      "cell_type": "code",
      "source": [
        "dataset.head(10) # Show the first 10 rows of the dataset to understand the dataframe's structure\n"
      ],
      "metadata": {
        "colab": {
          "base_uri": "https://localhost:8080/",
          "height": 363
        },
        "id": "ZVdUBZrB2ljg",
        "outputId": "d8a5a0ae-7f03-4b7a-d2c9-e6dd8ac9f15a"
      },
      "execution_count": null,
      "outputs": [
        {
          "output_type": "execute_result",
          "data": {
            "text/plain": [
              "  buying  maint doors persons lug_boot safety  class\n",
              "0  vhigh  vhigh     2       2    small    low  unacc\n",
              "1  vhigh  vhigh     2       2    small    med  unacc\n",
              "2  vhigh  vhigh     2       2    small   high  unacc\n",
              "3  vhigh  vhigh     2       2      med    low  unacc\n",
              "4  vhigh  vhigh     2       2      med    med  unacc\n",
              "5  vhigh  vhigh     2       2      med   high  unacc\n",
              "6  vhigh  vhigh     2       2      big    low  unacc\n",
              "7  vhigh  vhigh     2       2      big    med  unacc\n",
              "8  vhigh  vhigh     2       2      big   high  unacc\n",
              "9  vhigh  vhigh     2       4    small    low  unacc"
            ],
            "text/html": [
              "\n",
              "  <div id=\"df-9e2cf076-037e-4e91-9773-660966c44f48\" class=\"colab-df-container\">\n",
              "    <div>\n",
              "<style scoped>\n",
              "    .dataframe tbody tr th:only-of-type {\n",
              "        vertical-align: middle;\n",
              "    }\n",
              "\n",
              "    .dataframe tbody tr th {\n",
              "        vertical-align: top;\n",
              "    }\n",
              "\n",
              "    .dataframe thead th {\n",
              "        text-align: right;\n",
              "    }\n",
              "</style>\n",
              "<table border=\"1\" class=\"dataframe\">\n",
              "  <thead>\n",
              "    <tr style=\"text-align: right;\">\n",
              "      <th></th>\n",
              "      <th>buying</th>\n",
              "      <th>maint</th>\n",
              "      <th>doors</th>\n",
              "      <th>persons</th>\n",
              "      <th>lug_boot</th>\n",
              "      <th>safety</th>\n",
              "      <th>class</th>\n",
              "    </tr>\n",
              "  </thead>\n",
              "  <tbody>\n",
              "    <tr>\n",
              "      <th>0</th>\n",
              "      <td>vhigh</td>\n",
              "      <td>vhigh</td>\n",
              "      <td>2</td>\n",
              "      <td>2</td>\n",
              "      <td>small</td>\n",
              "      <td>low</td>\n",
              "      <td>unacc</td>\n",
              "    </tr>\n",
              "    <tr>\n",
              "      <th>1</th>\n",
              "      <td>vhigh</td>\n",
              "      <td>vhigh</td>\n",
              "      <td>2</td>\n",
              "      <td>2</td>\n",
              "      <td>small</td>\n",
              "      <td>med</td>\n",
              "      <td>unacc</td>\n",
              "    </tr>\n",
              "    <tr>\n",
              "      <th>2</th>\n",
              "      <td>vhigh</td>\n",
              "      <td>vhigh</td>\n",
              "      <td>2</td>\n",
              "      <td>2</td>\n",
              "      <td>small</td>\n",
              "      <td>high</td>\n",
              "      <td>unacc</td>\n",
              "    </tr>\n",
              "    <tr>\n",
              "      <th>3</th>\n",
              "      <td>vhigh</td>\n",
              "      <td>vhigh</td>\n",
              "      <td>2</td>\n",
              "      <td>2</td>\n",
              "      <td>med</td>\n",
              "      <td>low</td>\n",
              "      <td>unacc</td>\n",
              "    </tr>\n",
              "    <tr>\n",
              "      <th>4</th>\n",
              "      <td>vhigh</td>\n",
              "      <td>vhigh</td>\n",
              "      <td>2</td>\n",
              "      <td>2</td>\n",
              "      <td>med</td>\n",
              "      <td>med</td>\n",
              "      <td>unacc</td>\n",
              "    </tr>\n",
              "    <tr>\n",
              "      <th>5</th>\n",
              "      <td>vhigh</td>\n",
              "      <td>vhigh</td>\n",
              "      <td>2</td>\n",
              "      <td>2</td>\n",
              "      <td>med</td>\n",
              "      <td>high</td>\n",
              "      <td>unacc</td>\n",
              "    </tr>\n",
              "    <tr>\n",
              "      <th>6</th>\n",
              "      <td>vhigh</td>\n",
              "      <td>vhigh</td>\n",
              "      <td>2</td>\n",
              "      <td>2</td>\n",
              "      <td>big</td>\n",
              "      <td>low</td>\n",
              "      <td>unacc</td>\n",
              "    </tr>\n",
              "    <tr>\n",
              "      <th>7</th>\n",
              "      <td>vhigh</td>\n",
              "      <td>vhigh</td>\n",
              "      <td>2</td>\n",
              "      <td>2</td>\n",
              "      <td>big</td>\n",
              "      <td>med</td>\n",
              "      <td>unacc</td>\n",
              "    </tr>\n",
              "    <tr>\n",
              "      <th>8</th>\n",
              "      <td>vhigh</td>\n",
              "      <td>vhigh</td>\n",
              "      <td>2</td>\n",
              "      <td>2</td>\n",
              "      <td>big</td>\n",
              "      <td>high</td>\n",
              "      <td>unacc</td>\n",
              "    </tr>\n",
              "    <tr>\n",
              "      <th>9</th>\n",
              "      <td>vhigh</td>\n",
              "      <td>vhigh</td>\n",
              "      <td>2</td>\n",
              "      <td>4</td>\n",
              "      <td>small</td>\n",
              "      <td>low</td>\n",
              "      <td>unacc</td>\n",
              "    </tr>\n",
              "  </tbody>\n",
              "</table>\n",
              "</div>\n",
              "    <div class=\"colab-df-buttons\">\n",
              "\n",
              "  <div class=\"colab-df-container\">\n",
              "    <button class=\"colab-df-convert\" onclick=\"convertToInteractive('df-9e2cf076-037e-4e91-9773-660966c44f48')\"\n",
              "            title=\"Convert this dataframe to an interactive table.\"\n",
              "            style=\"display:none;\">\n",
              "\n",
              "  <svg xmlns=\"http://www.w3.org/2000/svg\" height=\"24px\" viewBox=\"0 -960 960 960\">\n",
              "    <path d=\"M120-120v-720h720v720H120Zm60-500h600v-160H180v160Zm220 220h160v-160H400v160Zm0 220h160v-160H400v160ZM180-400h160v-160H180v160Zm440 0h160v-160H620v160ZM180-180h160v-160H180v160Zm440 0h160v-160H620v160Z\"/>\n",
              "  </svg>\n",
              "    </button>\n",
              "\n",
              "  <style>\n",
              "    .colab-df-container {\n",
              "      display:flex;\n",
              "      gap: 12px;\n",
              "    }\n",
              "\n",
              "    .colab-df-convert {\n",
              "      background-color: #E8F0FE;\n",
              "      border: none;\n",
              "      border-radius: 50%;\n",
              "      cursor: pointer;\n",
              "      display: none;\n",
              "      fill: #1967D2;\n",
              "      height: 32px;\n",
              "      padding: 0 0 0 0;\n",
              "      width: 32px;\n",
              "    }\n",
              "\n",
              "    .colab-df-convert:hover {\n",
              "      background-color: #E2EBFA;\n",
              "      box-shadow: 0px 1px 2px rgba(60, 64, 67, 0.3), 0px 1px 3px 1px rgba(60, 64, 67, 0.15);\n",
              "      fill: #174EA6;\n",
              "    }\n",
              "\n",
              "    .colab-df-buttons div {\n",
              "      margin-bottom: 4px;\n",
              "    }\n",
              "\n",
              "    [theme=dark] .colab-df-convert {\n",
              "      background-color: #3B4455;\n",
              "      fill: #D2E3FC;\n",
              "    }\n",
              "\n",
              "    [theme=dark] .colab-df-convert:hover {\n",
              "      background-color: #434B5C;\n",
              "      box-shadow: 0px 1px 3px 1px rgba(0, 0, 0, 0.15);\n",
              "      filter: drop-shadow(0px 1px 2px rgba(0, 0, 0, 0.3));\n",
              "      fill: #FFFFFF;\n",
              "    }\n",
              "  </style>\n",
              "\n",
              "    <script>\n",
              "      const buttonEl =\n",
              "        document.querySelector('#df-9e2cf076-037e-4e91-9773-660966c44f48 button.colab-df-convert');\n",
              "      buttonEl.style.display =\n",
              "        google.colab.kernel.accessAllowed ? 'block' : 'none';\n",
              "\n",
              "      async function convertToInteractive(key) {\n",
              "        const element = document.querySelector('#df-9e2cf076-037e-4e91-9773-660966c44f48');\n",
              "        const dataTable =\n",
              "          await google.colab.kernel.invokeFunction('convertToInteractive',\n",
              "                                                    [key], {});\n",
              "        if (!dataTable) return;\n",
              "\n",
              "        const docLinkHtml = 'Like what you see? Visit the ' +\n",
              "          '<a target=\"_blank\" href=https://colab.research.google.com/notebooks/data_table.ipynb>data table notebook</a>'\n",
              "          + ' to learn more about interactive tables.';\n",
              "        element.innerHTML = '';\n",
              "        dataTable['output_type'] = 'display_data';\n",
              "        await google.colab.output.renderOutput(dataTable, element);\n",
              "        const docLink = document.createElement('div');\n",
              "        docLink.innerHTML = docLinkHtml;\n",
              "        element.appendChild(docLink);\n",
              "      }\n",
              "    </script>\n",
              "  </div>\n",
              "\n",
              "\n",
              "<div id=\"df-31f47f4c-6f84-44af-8360-0b07cdc5d088\">\n",
              "  <button class=\"colab-df-quickchart\" onclick=\"quickchart('df-31f47f4c-6f84-44af-8360-0b07cdc5d088')\"\n",
              "            title=\"Suggest charts\"\n",
              "            style=\"display:none;\">\n",
              "\n",
              "<svg xmlns=\"http://www.w3.org/2000/svg\" height=\"24px\"viewBox=\"0 0 24 24\"\n",
              "     width=\"24px\">\n",
              "    <g>\n",
              "        <path d=\"M19 3H5c-1.1 0-2 .9-2 2v14c0 1.1.9 2 2 2h14c1.1 0 2-.9 2-2V5c0-1.1-.9-2-2-2zM9 17H7v-7h2v7zm4 0h-2V7h2v10zm4 0h-2v-4h2v4z\"/>\n",
              "    </g>\n",
              "</svg>\n",
              "  </button>\n",
              "\n",
              "<style>\n",
              "  .colab-df-quickchart {\n",
              "      --bg-color: #E8F0FE;\n",
              "      --fill-color: #1967D2;\n",
              "      --hover-bg-color: #E2EBFA;\n",
              "      --hover-fill-color: #174EA6;\n",
              "      --disabled-fill-color: #AAA;\n",
              "      --disabled-bg-color: #DDD;\n",
              "  }\n",
              "\n",
              "  [theme=dark] .colab-df-quickchart {\n",
              "      --bg-color: #3B4455;\n",
              "      --fill-color: #D2E3FC;\n",
              "      --hover-bg-color: #434B5C;\n",
              "      --hover-fill-color: #FFFFFF;\n",
              "      --disabled-bg-color: #3B4455;\n",
              "      --disabled-fill-color: #666;\n",
              "  }\n",
              "\n",
              "  .colab-df-quickchart {\n",
              "    background-color: var(--bg-color);\n",
              "    border: none;\n",
              "    border-radius: 50%;\n",
              "    cursor: pointer;\n",
              "    display: none;\n",
              "    fill: var(--fill-color);\n",
              "    height: 32px;\n",
              "    padding: 0;\n",
              "    width: 32px;\n",
              "  }\n",
              "\n",
              "  .colab-df-quickchart:hover {\n",
              "    background-color: var(--hover-bg-color);\n",
              "    box-shadow: 0 1px 2px rgba(60, 64, 67, 0.3), 0 1px 3px 1px rgba(60, 64, 67, 0.15);\n",
              "    fill: var(--button-hover-fill-color);\n",
              "  }\n",
              "\n",
              "  .colab-df-quickchart-complete:disabled,\n",
              "  .colab-df-quickchart-complete:disabled:hover {\n",
              "    background-color: var(--disabled-bg-color);\n",
              "    fill: var(--disabled-fill-color);\n",
              "    box-shadow: none;\n",
              "  }\n",
              "\n",
              "  .colab-df-spinner {\n",
              "    border: 2px solid var(--fill-color);\n",
              "    border-color: transparent;\n",
              "    border-bottom-color: var(--fill-color);\n",
              "    animation:\n",
              "      spin 1s steps(1) infinite;\n",
              "  }\n",
              "\n",
              "  @keyframes spin {\n",
              "    0% {\n",
              "      border-color: transparent;\n",
              "      border-bottom-color: var(--fill-color);\n",
              "      border-left-color: var(--fill-color);\n",
              "    }\n",
              "    20% {\n",
              "      border-color: transparent;\n",
              "      border-left-color: var(--fill-color);\n",
              "      border-top-color: var(--fill-color);\n",
              "    }\n",
              "    30% {\n",
              "      border-color: transparent;\n",
              "      border-left-color: var(--fill-color);\n",
              "      border-top-color: var(--fill-color);\n",
              "      border-right-color: var(--fill-color);\n",
              "    }\n",
              "    40% {\n",
              "      border-color: transparent;\n",
              "      border-right-color: var(--fill-color);\n",
              "      border-top-color: var(--fill-color);\n",
              "    }\n",
              "    60% {\n",
              "      border-color: transparent;\n",
              "      border-right-color: var(--fill-color);\n",
              "    }\n",
              "    80% {\n",
              "      border-color: transparent;\n",
              "      border-right-color: var(--fill-color);\n",
              "      border-bottom-color: var(--fill-color);\n",
              "    }\n",
              "    90% {\n",
              "      border-color: transparent;\n",
              "      border-bottom-color: var(--fill-color);\n",
              "    }\n",
              "  }\n",
              "</style>\n",
              "\n",
              "  <script>\n",
              "    async function quickchart(key) {\n",
              "      const quickchartButtonEl =\n",
              "        document.querySelector('#' + key + ' button');\n",
              "      quickchartButtonEl.disabled = true;  // To prevent multiple clicks.\n",
              "      quickchartButtonEl.classList.add('colab-df-spinner');\n",
              "      try {\n",
              "        const charts = await google.colab.kernel.invokeFunction(\n",
              "            'suggestCharts', [key], {});\n",
              "      } catch (error) {\n",
              "        console.error('Error during call to suggestCharts:', error);\n",
              "      }\n",
              "      quickchartButtonEl.classList.remove('colab-df-spinner');\n",
              "      quickchartButtonEl.classList.add('colab-df-quickchart-complete');\n",
              "    }\n",
              "    (() => {\n",
              "      let quickchartButtonEl =\n",
              "        document.querySelector('#df-31f47f4c-6f84-44af-8360-0b07cdc5d088 button');\n",
              "      quickchartButtonEl.style.display =\n",
              "        google.colab.kernel.accessAllowed ? 'block' : 'none';\n",
              "    })();\n",
              "  </script>\n",
              "</div>\n",
              "    </div>\n",
              "  </div>\n"
            ]
          },
          "metadata": {},
          "execution_count": 3
        }
      ]
    },
    {
      "cell_type": "markdown",
      "source": [
        "The dataset contains of a total of 1728 data samples and 7 variables."
      ],
      "metadata": {
        "id": "TcrmfWeU-j7Z"
      }
    },
    {
      "cell_type": "code",
      "source": [
        "dataset.shape"
      ],
      "metadata": {
        "colab": {
          "base_uri": "https://localhost:8080/"
        },
        "id": "7JAMLumX5-9N",
        "outputId": "a1cf8fd3-70b0-4428-9210-47a5d7732394"
      },
      "execution_count": null,
      "outputs": [
        {
          "output_type": "execute_result",
          "data": {
            "text/plain": [
              "(1728, 7)"
            ]
          },
          "metadata": {},
          "execution_count": 4
        }
      ]
    },
    {
      "cell_type": "markdown",
      "source": [
        "The variables in the dataframe."
      ],
      "metadata": {
        "id": "8Seqhex0a7hd"
      }
    },
    {
      "cell_type": "markdown",
      "source": [
        "| Variable Name | Role | Type | Demographic | Description | Units | Missing Values |\n",
        "| --- | --- | --- | --- | --- | --- | --- |\n",
        "| buying | Feature | Categorical |  | buying price |  | no |\n",
        "| maint | Feature | Categorical |  | price of the maintenance |  | no |\n",
        "| doors | Feature | Categorical |  | number of doors |  | no |\n",
        "| persons | Feature | Categorical |  | capacity in terms of persons to carry |  | no |\n",
        "| lug_boot | Feature | Categorical |  | the size of luggage boot |  | no |\n",
        "| safety | Feature | Categorical |  | estimated safety of the car |  | no |\n",
        "| class\t| Target\t| Categorical\t|\t| evaulation level (unacceptable, acceptable, good, very good)\t|\t| no |\n"
      ],
      "metadata": {
        "id": "CMW4ueXWYOo4"
      }
    },
    {
      "cell_type": "markdown",
      "source": [
        "The dataset comprises 7 variables, none of which contain any missing values. Each variable is assigned a **Role** and a **Type**. The Role indicates whether the data serves as a Feature or a Target, and whether it represents a class that our model will predict based on the provided feature attributes. The Type determines the attribute type. In this context, all our attributes have the type \"Categorical,\" which means that each variable has its own category, for instance, **class** has an evaulation level of unacceptable, acceptable, good, and very good."
      ],
      "metadata": {
        "id": "5d-R-biYXEsG"
      }
    },
    {
      "cell_type": "markdown",
      "source": [
        "##**2. Feature engineering**"
      ],
      "metadata": {
        "id": "J5H3Z2A74_lv"
      }
    },
    {
      "cell_type": "markdown",
      "source": [
        "Our attributes are categorical features, meaning they do not have numerical ranges like continuous or numerical variables. These features represent specific categories or labels, and do not possess inherent numerical values that can be compared linearly or scaled. As a result, categorical features can be easily converted into discrete attributes."
      ],
      "metadata": {
        "id": "DFhIIaDY6wKX"
      }
    },
    {
      "cell_type": "markdown",
      "source": [
        "We discussed that all of our variable has a type of Categorical. Let's see what category that each variables contains."
      ],
      "metadata": {
        "id": "3pVUbAt2B-AG"
      }
    },
    {
      "cell_type": "markdown",
      "source": [
        "> Variable Information\n",
        "\n",
        "- **buying**: vhigh, high, med, low.\n",
        "- **maint**: vhigh, high, med, low.\n",
        "- **doors**: 2, 3, 4, 5more.\n",
        "- **persons**: 2, 4, or more.\n",
        "- **lug_boot**: small, med, big.\n",
        "- **safety**: low, med, high.\n",
        "\n",
        "> Class Labels\n",
        "\n",
        "- **unacc**\n",
        "- **acc**\n",
        "- **good**\n",
        "- **vgood**\n"
      ],
      "metadata": {
        "id": "tHEfEFEV-yd_"
      }
    },
    {
      "cell_type": "markdown",
      "source": [
        "In order to identify potential features and evaluate existing ones, it is valuable to have domain knowledge. When considering the buying price of a car, it is important to note that a higher cost may decrease acceptability for people who have budget constraints. However, if a higher price brings higher quality, the acceptability may decrease, but not by much since there is a trade-off. Similarly, the higher cost of maintaining a car can also affect its acceptability. However, unlike the buying price, there is no trade-off for maintenance cost, as higher costs mean lower quality.\n",
        "\n",
        "The concept of 2-door and 4-door cars is well known, but there are other options that may not be understood. In a hatchback, the hatch is typically considered a door. Therefore, a hatchback with two passenger doors is referred to as a \"three-door,\" while a hatchback with four passenger doors is labeled as a \"five-door.\" Hatchbacks can provide easy access to the primary interior of the vehicle, serving as a cargo area rather than merely accessing a separate trunk. The choice between 4-door vs. 5-door cars and 2-doors vs. 3-doors may depend on the car's utility and appeal with different preferences for each.\n",
        "\n",
        "The capacity of the car seems an important consideration for acceptability. The buyer's family size or intended usage can influence the choice of a car. For example, a person with a larger family may prefer a car with more seating capacity, while someone who live singly may prefer a car with better fuel efficiency, which is a small capacity. Although practicability is a concern, it ultimately depends on the individual's preferences.\n",
        "\n",
        "The luggage boot of a car is related to its size and can bring practicability, increasing priority. A larger car tends to have a larger luggage boot, which is beneficial for those who need more storage space. However, having a larger luggage boot can also decrease fuel efficiency, which may not be desirable for some buyers.\n",
        "\n",
        "Lastly, safety is a significant concern for car evaulation. Car user want to make sure that the car they are purchasing is safe for themselves. Safety features such as airbags, anti-lock brakes, and backup cameras are becoming increasingly important for car buyers. Additional safety features, such as blind spot warning and lane departure warning, which can increase the evaulation level of the car for some buyers.\n",
        "\n",
        "\n"
      ],
      "metadata": {
        "id": "gD20cLrY6vu-"
      }
    },
    {
      "cell_type": "markdown",
      "source": [
        "It is assumed that the features, **buying**, **maint** and **safety** are significant for the classification task, while **doors** is the least significant. However, since the dataset comprises only 6 features, it is difficult to determine whether the elimination of one feature will affect the others. Therefore, all features will be kept for the analysis."
      ],
      "metadata": {
        "id": "b422tt8IOMoo"
      }
    },
    {
      "cell_type": "markdown",
      "source": [
        "*List Source from domain expertise: [Hatchback](https://en.wikipedia.org/wiki/Hatchback), [Car Safety Features](https://mycardoeswhat.org/safety-features/)*"
      ],
      "metadata": {
        "id": "qJW17g4icCIh"
      }
    },
    {
      "cell_type": "markdown",
      "source": [
        "##**3. Encode the features**"
      ],
      "metadata": {
        "id": "p_lmpYOF5IU9"
      }
    },
    {
      "cell_type": "markdown",
      "source": [
        "###**a. Data encoding and transformation**\n"
      ],
      "metadata": {
        "id": "nVl3AgXmmju2"
      }
    },
    {
      "cell_type": "markdown",
      "source": [
        "We have saw that each attribute in our dataset is categorical, which means it can be decoded into a discrete form. To achieve this, we can assign an index to each string category in the attribute. For example, the buying attribute with the categories \"vhigh\", \"high\", \"med\", and \"low,\" we can assign the values 0, 1, 2, and 3 to each of these categories, respectively. For classifiers that require continuous attributes, we can use one-hot encoding by creating a binary vector for each category in the attribute. For example, the buying attribute with the categories \"vhigh\", \"high\", \"med\", and \"low,\" the vector for \"vhigh\" would be [1, 0, 0, 0], the vector for \"high\" would be [0, 1, 0, 0], the vector for \"med\" would be [0, 0, 1, 0], and the vector for \"low\" would be [0, 0, 0, 1]."
      ],
      "metadata": {
        "id": "svpknBbBMFSe"
      }
    },
    {
      "cell_type": "markdown",
      "source": [
        "###**b. continuous attributes**\n",
        "\n",
        "\n"
      ],
      "metadata": {
        "id": "z09omoMY5PE0"
      }
    },
    {
      "cell_type": "markdown",
      "source": [
        "For Logistic Regression classifier, it expects continuous attributes. We will use one-hot encoding for our attributes by converting each categorical value into a new categorical column and assign a binary value of 1 or 0 to those columns."
      ],
      "metadata": {
        "id": "TnHYtogZZ4tO"
      }
    },
    {
      "cell_type": "code",
      "source": [
        "def defineLR():\n",
        "\n",
        "  '''\n",
        "    Apply the one-hot encoding on the dataset and assign it to a global variable onehot\n",
        "  '''\n",
        "  # define the global variables\n",
        "  # 'onehot' contains the dataframe after applying the onehot encoding on the original dataframe\n",
        "  global onehot\n",
        "\n",
        "  #reset the dataset to make sure the data is not modified\n",
        "  dataset = pd.read_csv(url)\n",
        "\n",
        "  # convert categorical variable into dummy/indicator variables.\n",
        "  onehot = pd.get_dummies(dataset, columns =['buying', 'maint', 'doors', 'persons', 'lug_boot', 'safety'])\n",
        "\n",
        "  # reset the dataset back to it's initial form\n",
        "  dataset = pd.read_csv(url)\n"
      ],
      "metadata": {
        "id": "xpu7NAPv3dto"
      },
      "execution_count": null,
      "outputs": []
    },
    {
      "cell_type": "markdown",
      "source": [
        "Let's see the attributes after applying one hot encoding."
      ],
      "metadata": {
        "id": "SRAU1PWF_FlN"
      }
    },
    {
      "cell_type": "code",
      "source": [
        "defineLR()# apply the encoding\n",
        "onehot.columns# display all the columns for onehot"
      ],
      "metadata": {
        "colab": {
          "base_uri": "https://localhost:8080/"
        },
        "id": "IELXSW9kxKXf",
        "outputId": "a3ce44c6-86b0-4d19-e642-ee41768d3102"
      },
      "execution_count": null,
      "outputs": [
        {
          "output_type": "execute_result",
          "data": {
            "text/plain": [
              "Index(['class', 'buying_high', 'buying_low', 'buying_med', 'buying_vhigh',\n",
              "       'maint_high', 'maint_low', 'maint_med', 'maint_vhigh', 'doors_2',\n",
              "       'doors_3', 'doors_4', 'doors_5more', 'persons_2', 'persons_4',\n",
              "       'persons_more', 'lug_boot_big', 'lug_boot_med', 'lug_boot_small',\n",
              "       'safety_high', 'safety_low', 'safety_med'],\n",
              "      dtype='object')"
            ]
          },
          "metadata": {},
          "execution_count": 6
        }
      ]
    },
    {
      "cell_type": "code",
      "source": [
        "onehot # Show the encoded of the dataset to understand the dataframe's structure"
      ],
      "metadata": {
        "colab": {
          "base_uri": "https://localhost:8080/",
          "height": 444
        },
        "id": "iuXnhaL-5VeE",
        "outputId": "0b803659-93eb-440b-9c37-816144e9fc57"
      },
      "execution_count": null,
      "outputs": [
        {
          "output_type": "execute_result",
          "data": {
            "text/plain": [
              "      class  buying_high  buying_low  buying_med  buying_vhigh  maint_high  \\\n",
              "0     unacc            0           0           0             1           0   \n",
              "1     unacc            0           0           0             1           0   \n",
              "2     unacc            0           0           0             1           0   \n",
              "3     unacc            0           0           0             1           0   \n",
              "4     unacc            0           0           0             1           0   \n",
              "...     ...          ...         ...         ...           ...         ...   \n",
              "1723   good            0           1           0             0           0   \n",
              "1724  vgood            0           1           0             0           0   \n",
              "1725  unacc            0           1           0             0           0   \n",
              "1726   good            0           1           0             0           0   \n",
              "1727  vgood            0           1           0             0           0   \n",
              "\n",
              "      maint_low  maint_med  maint_vhigh  doors_2  ...  doors_5more  persons_2  \\\n",
              "0             0          0            1        1  ...            0          1   \n",
              "1             0          0            1        1  ...            0          1   \n",
              "2             0          0            1        1  ...            0          1   \n",
              "3             0          0            1        1  ...            0          1   \n",
              "4             0          0            1        1  ...            0          1   \n",
              "...         ...        ...          ...      ...  ...          ...        ...   \n",
              "1723          1          0            0        0  ...            1          0   \n",
              "1724          1          0            0        0  ...            1          0   \n",
              "1725          1          0            0        0  ...            1          0   \n",
              "1726          1          0            0        0  ...            1          0   \n",
              "1727          1          0            0        0  ...            1          0   \n",
              "\n",
              "      persons_4  persons_more  lug_boot_big  lug_boot_med  lug_boot_small  \\\n",
              "0             0             0             0             0               1   \n",
              "1             0             0             0             0               1   \n",
              "2             0             0             0             0               1   \n",
              "3             0             0             0             1               0   \n",
              "4             0             0             0             1               0   \n",
              "...         ...           ...           ...           ...             ...   \n",
              "1723          0             1             0             1               0   \n",
              "1724          0             1             0             1               0   \n",
              "1725          0             1             1             0               0   \n",
              "1726          0             1             1             0               0   \n",
              "1727          0             1             1             0               0   \n",
              "\n",
              "      safety_high  safety_low  safety_med  \n",
              "0               0           1           0  \n",
              "1               0           0           1  \n",
              "2               1           0           0  \n",
              "3               0           1           0  \n",
              "4               0           0           1  \n",
              "...           ...         ...         ...  \n",
              "1723            0           0           1  \n",
              "1724            1           0           0  \n",
              "1725            0           1           0  \n",
              "1726            0           0           1  \n",
              "1727            1           0           0  \n",
              "\n",
              "[1728 rows x 22 columns]"
            ],
            "text/html": [
              "\n",
              "  <div id=\"df-f40d8041-c958-4aad-90a3-af076084396b\" class=\"colab-df-container\">\n",
              "    <div>\n",
              "<style scoped>\n",
              "    .dataframe tbody tr th:only-of-type {\n",
              "        vertical-align: middle;\n",
              "    }\n",
              "\n",
              "    .dataframe tbody tr th {\n",
              "        vertical-align: top;\n",
              "    }\n",
              "\n",
              "    .dataframe thead th {\n",
              "        text-align: right;\n",
              "    }\n",
              "</style>\n",
              "<table border=\"1\" class=\"dataframe\">\n",
              "  <thead>\n",
              "    <tr style=\"text-align: right;\">\n",
              "      <th></th>\n",
              "      <th>class</th>\n",
              "      <th>buying_high</th>\n",
              "      <th>buying_low</th>\n",
              "      <th>buying_med</th>\n",
              "      <th>buying_vhigh</th>\n",
              "      <th>maint_high</th>\n",
              "      <th>maint_low</th>\n",
              "      <th>maint_med</th>\n",
              "      <th>maint_vhigh</th>\n",
              "      <th>doors_2</th>\n",
              "      <th>...</th>\n",
              "      <th>doors_5more</th>\n",
              "      <th>persons_2</th>\n",
              "      <th>persons_4</th>\n",
              "      <th>persons_more</th>\n",
              "      <th>lug_boot_big</th>\n",
              "      <th>lug_boot_med</th>\n",
              "      <th>lug_boot_small</th>\n",
              "      <th>safety_high</th>\n",
              "      <th>safety_low</th>\n",
              "      <th>safety_med</th>\n",
              "    </tr>\n",
              "  </thead>\n",
              "  <tbody>\n",
              "    <tr>\n",
              "      <th>0</th>\n",
              "      <td>unacc</td>\n",
              "      <td>0</td>\n",
              "      <td>0</td>\n",
              "      <td>0</td>\n",
              "      <td>1</td>\n",
              "      <td>0</td>\n",
              "      <td>0</td>\n",
              "      <td>0</td>\n",
              "      <td>1</td>\n",
              "      <td>1</td>\n",
              "      <td>...</td>\n",
              "      <td>0</td>\n",
              "      <td>1</td>\n",
              "      <td>0</td>\n",
              "      <td>0</td>\n",
              "      <td>0</td>\n",
              "      <td>0</td>\n",
              "      <td>1</td>\n",
              "      <td>0</td>\n",
              "      <td>1</td>\n",
              "      <td>0</td>\n",
              "    </tr>\n",
              "    <tr>\n",
              "      <th>1</th>\n",
              "      <td>unacc</td>\n",
              "      <td>0</td>\n",
              "      <td>0</td>\n",
              "      <td>0</td>\n",
              "      <td>1</td>\n",
              "      <td>0</td>\n",
              "      <td>0</td>\n",
              "      <td>0</td>\n",
              "      <td>1</td>\n",
              "      <td>1</td>\n",
              "      <td>...</td>\n",
              "      <td>0</td>\n",
              "      <td>1</td>\n",
              "      <td>0</td>\n",
              "      <td>0</td>\n",
              "      <td>0</td>\n",
              "      <td>0</td>\n",
              "      <td>1</td>\n",
              "      <td>0</td>\n",
              "      <td>0</td>\n",
              "      <td>1</td>\n",
              "    </tr>\n",
              "    <tr>\n",
              "      <th>2</th>\n",
              "      <td>unacc</td>\n",
              "      <td>0</td>\n",
              "      <td>0</td>\n",
              "      <td>0</td>\n",
              "      <td>1</td>\n",
              "      <td>0</td>\n",
              "      <td>0</td>\n",
              "      <td>0</td>\n",
              "      <td>1</td>\n",
              "      <td>1</td>\n",
              "      <td>...</td>\n",
              "      <td>0</td>\n",
              "      <td>1</td>\n",
              "      <td>0</td>\n",
              "      <td>0</td>\n",
              "      <td>0</td>\n",
              "      <td>0</td>\n",
              "      <td>1</td>\n",
              "      <td>1</td>\n",
              "      <td>0</td>\n",
              "      <td>0</td>\n",
              "    </tr>\n",
              "    <tr>\n",
              "      <th>3</th>\n",
              "      <td>unacc</td>\n",
              "      <td>0</td>\n",
              "      <td>0</td>\n",
              "      <td>0</td>\n",
              "      <td>1</td>\n",
              "      <td>0</td>\n",
              "      <td>0</td>\n",
              "      <td>0</td>\n",
              "      <td>1</td>\n",
              "      <td>1</td>\n",
              "      <td>...</td>\n",
              "      <td>0</td>\n",
              "      <td>1</td>\n",
              "      <td>0</td>\n",
              "      <td>0</td>\n",
              "      <td>0</td>\n",
              "      <td>1</td>\n",
              "      <td>0</td>\n",
              "      <td>0</td>\n",
              "      <td>1</td>\n",
              "      <td>0</td>\n",
              "    </tr>\n",
              "    <tr>\n",
              "      <th>4</th>\n",
              "      <td>unacc</td>\n",
              "      <td>0</td>\n",
              "      <td>0</td>\n",
              "      <td>0</td>\n",
              "      <td>1</td>\n",
              "      <td>0</td>\n",
              "      <td>0</td>\n",
              "      <td>0</td>\n",
              "      <td>1</td>\n",
              "      <td>1</td>\n",
              "      <td>...</td>\n",
              "      <td>0</td>\n",
              "      <td>1</td>\n",
              "      <td>0</td>\n",
              "      <td>0</td>\n",
              "      <td>0</td>\n",
              "      <td>1</td>\n",
              "      <td>0</td>\n",
              "      <td>0</td>\n",
              "      <td>0</td>\n",
              "      <td>1</td>\n",
              "    </tr>\n",
              "    <tr>\n",
              "      <th>...</th>\n",
              "      <td>...</td>\n",
              "      <td>...</td>\n",
              "      <td>...</td>\n",
              "      <td>...</td>\n",
              "      <td>...</td>\n",
              "      <td>...</td>\n",
              "      <td>...</td>\n",
              "      <td>...</td>\n",
              "      <td>...</td>\n",
              "      <td>...</td>\n",
              "      <td>...</td>\n",
              "      <td>...</td>\n",
              "      <td>...</td>\n",
              "      <td>...</td>\n",
              "      <td>...</td>\n",
              "      <td>...</td>\n",
              "      <td>...</td>\n",
              "      <td>...</td>\n",
              "      <td>...</td>\n",
              "      <td>...</td>\n",
              "      <td>...</td>\n",
              "    </tr>\n",
              "    <tr>\n",
              "      <th>1723</th>\n",
              "      <td>good</td>\n",
              "      <td>0</td>\n",
              "      <td>1</td>\n",
              "      <td>0</td>\n",
              "      <td>0</td>\n",
              "      <td>0</td>\n",
              "      <td>1</td>\n",
              "      <td>0</td>\n",
              "      <td>0</td>\n",
              "      <td>0</td>\n",
              "      <td>...</td>\n",
              "      <td>1</td>\n",
              "      <td>0</td>\n",
              "      <td>0</td>\n",
              "      <td>1</td>\n",
              "      <td>0</td>\n",
              "      <td>1</td>\n",
              "      <td>0</td>\n",
              "      <td>0</td>\n",
              "      <td>0</td>\n",
              "      <td>1</td>\n",
              "    </tr>\n",
              "    <tr>\n",
              "      <th>1724</th>\n",
              "      <td>vgood</td>\n",
              "      <td>0</td>\n",
              "      <td>1</td>\n",
              "      <td>0</td>\n",
              "      <td>0</td>\n",
              "      <td>0</td>\n",
              "      <td>1</td>\n",
              "      <td>0</td>\n",
              "      <td>0</td>\n",
              "      <td>0</td>\n",
              "      <td>...</td>\n",
              "      <td>1</td>\n",
              "      <td>0</td>\n",
              "      <td>0</td>\n",
              "      <td>1</td>\n",
              "      <td>0</td>\n",
              "      <td>1</td>\n",
              "      <td>0</td>\n",
              "      <td>1</td>\n",
              "      <td>0</td>\n",
              "      <td>0</td>\n",
              "    </tr>\n",
              "    <tr>\n",
              "      <th>1725</th>\n",
              "      <td>unacc</td>\n",
              "      <td>0</td>\n",
              "      <td>1</td>\n",
              "      <td>0</td>\n",
              "      <td>0</td>\n",
              "      <td>0</td>\n",
              "      <td>1</td>\n",
              "      <td>0</td>\n",
              "      <td>0</td>\n",
              "      <td>0</td>\n",
              "      <td>...</td>\n",
              "      <td>1</td>\n",
              "      <td>0</td>\n",
              "      <td>0</td>\n",
              "      <td>1</td>\n",
              "      <td>1</td>\n",
              "      <td>0</td>\n",
              "      <td>0</td>\n",
              "      <td>0</td>\n",
              "      <td>1</td>\n",
              "      <td>0</td>\n",
              "    </tr>\n",
              "    <tr>\n",
              "      <th>1726</th>\n",
              "      <td>good</td>\n",
              "      <td>0</td>\n",
              "      <td>1</td>\n",
              "      <td>0</td>\n",
              "      <td>0</td>\n",
              "      <td>0</td>\n",
              "      <td>1</td>\n",
              "      <td>0</td>\n",
              "      <td>0</td>\n",
              "      <td>0</td>\n",
              "      <td>...</td>\n",
              "      <td>1</td>\n",
              "      <td>0</td>\n",
              "      <td>0</td>\n",
              "      <td>1</td>\n",
              "      <td>1</td>\n",
              "      <td>0</td>\n",
              "      <td>0</td>\n",
              "      <td>0</td>\n",
              "      <td>0</td>\n",
              "      <td>1</td>\n",
              "    </tr>\n",
              "    <tr>\n",
              "      <th>1727</th>\n",
              "      <td>vgood</td>\n",
              "      <td>0</td>\n",
              "      <td>1</td>\n",
              "      <td>0</td>\n",
              "      <td>0</td>\n",
              "      <td>0</td>\n",
              "      <td>1</td>\n",
              "      <td>0</td>\n",
              "      <td>0</td>\n",
              "      <td>0</td>\n",
              "      <td>...</td>\n",
              "      <td>1</td>\n",
              "      <td>0</td>\n",
              "      <td>0</td>\n",
              "      <td>1</td>\n",
              "      <td>1</td>\n",
              "      <td>0</td>\n",
              "      <td>0</td>\n",
              "      <td>1</td>\n",
              "      <td>0</td>\n",
              "      <td>0</td>\n",
              "    </tr>\n",
              "  </tbody>\n",
              "</table>\n",
              "<p>1728 rows × 22 columns</p>\n",
              "</div>\n",
              "    <div class=\"colab-df-buttons\">\n",
              "\n",
              "  <div class=\"colab-df-container\">\n",
              "    <button class=\"colab-df-convert\" onclick=\"convertToInteractive('df-f40d8041-c958-4aad-90a3-af076084396b')\"\n",
              "            title=\"Convert this dataframe to an interactive table.\"\n",
              "            style=\"display:none;\">\n",
              "\n",
              "  <svg xmlns=\"http://www.w3.org/2000/svg\" height=\"24px\" viewBox=\"0 -960 960 960\">\n",
              "    <path d=\"M120-120v-720h720v720H120Zm60-500h600v-160H180v160Zm220 220h160v-160H400v160Zm0 220h160v-160H400v160ZM180-400h160v-160H180v160Zm440 0h160v-160H620v160ZM180-180h160v-160H180v160Zm440 0h160v-160H620v160Z\"/>\n",
              "  </svg>\n",
              "    </button>\n",
              "\n",
              "  <style>\n",
              "    .colab-df-container {\n",
              "      display:flex;\n",
              "      gap: 12px;\n",
              "    }\n",
              "\n",
              "    .colab-df-convert {\n",
              "      background-color: #E8F0FE;\n",
              "      border: none;\n",
              "      border-radius: 50%;\n",
              "      cursor: pointer;\n",
              "      display: none;\n",
              "      fill: #1967D2;\n",
              "      height: 32px;\n",
              "      padding: 0 0 0 0;\n",
              "      width: 32px;\n",
              "    }\n",
              "\n",
              "    .colab-df-convert:hover {\n",
              "      background-color: #E2EBFA;\n",
              "      box-shadow: 0px 1px 2px rgba(60, 64, 67, 0.3), 0px 1px 3px 1px rgba(60, 64, 67, 0.15);\n",
              "      fill: #174EA6;\n",
              "    }\n",
              "\n",
              "    .colab-df-buttons div {\n",
              "      margin-bottom: 4px;\n",
              "    }\n",
              "\n",
              "    [theme=dark] .colab-df-convert {\n",
              "      background-color: #3B4455;\n",
              "      fill: #D2E3FC;\n",
              "    }\n",
              "\n",
              "    [theme=dark] .colab-df-convert:hover {\n",
              "      background-color: #434B5C;\n",
              "      box-shadow: 0px 1px 3px 1px rgba(0, 0, 0, 0.15);\n",
              "      filter: drop-shadow(0px 1px 2px rgba(0, 0, 0, 0.3));\n",
              "      fill: #FFFFFF;\n",
              "    }\n",
              "  </style>\n",
              "\n",
              "    <script>\n",
              "      const buttonEl =\n",
              "        document.querySelector('#df-f40d8041-c958-4aad-90a3-af076084396b button.colab-df-convert');\n",
              "      buttonEl.style.display =\n",
              "        google.colab.kernel.accessAllowed ? 'block' : 'none';\n",
              "\n",
              "      async function convertToInteractive(key) {\n",
              "        const element = document.querySelector('#df-f40d8041-c958-4aad-90a3-af076084396b');\n",
              "        const dataTable =\n",
              "          await google.colab.kernel.invokeFunction('convertToInteractive',\n",
              "                                                    [key], {});\n",
              "        if (!dataTable) return;\n",
              "\n",
              "        const docLinkHtml = 'Like what you see? Visit the ' +\n",
              "          '<a target=\"_blank\" href=https://colab.research.google.com/notebooks/data_table.ipynb>data table notebook</a>'\n",
              "          + ' to learn more about interactive tables.';\n",
              "        element.innerHTML = '';\n",
              "        dataTable['output_type'] = 'display_data';\n",
              "        await google.colab.output.renderOutput(dataTable, element);\n",
              "        const docLink = document.createElement('div');\n",
              "        docLink.innerHTML = docLinkHtml;\n",
              "        element.appendChild(docLink);\n",
              "      }\n",
              "    </script>\n",
              "  </div>\n",
              "\n",
              "\n",
              "<div id=\"df-f4638ddd-8883-4ba9-94ab-d34501d28d5f\">\n",
              "  <button class=\"colab-df-quickchart\" onclick=\"quickchart('df-f4638ddd-8883-4ba9-94ab-d34501d28d5f')\"\n",
              "            title=\"Suggest charts\"\n",
              "            style=\"display:none;\">\n",
              "\n",
              "<svg xmlns=\"http://www.w3.org/2000/svg\" height=\"24px\"viewBox=\"0 0 24 24\"\n",
              "     width=\"24px\">\n",
              "    <g>\n",
              "        <path d=\"M19 3H5c-1.1 0-2 .9-2 2v14c0 1.1.9 2 2 2h14c1.1 0 2-.9 2-2V5c0-1.1-.9-2-2-2zM9 17H7v-7h2v7zm4 0h-2V7h2v10zm4 0h-2v-4h2v4z\"/>\n",
              "    </g>\n",
              "</svg>\n",
              "  </button>\n",
              "\n",
              "<style>\n",
              "  .colab-df-quickchart {\n",
              "      --bg-color: #E8F0FE;\n",
              "      --fill-color: #1967D2;\n",
              "      --hover-bg-color: #E2EBFA;\n",
              "      --hover-fill-color: #174EA6;\n",
              "      --disabled-fill-color: #AAA;\n",
              "      --disabled-bg-color: #DDD;\n",
              "  }\n",
              "\n",
              "  [theme=dark] .colab-df-quickchart {\n",
              "      --bg-color: #3B4455;\n",
              "      --fill-color: #D2E3FC;\n",
              "      --hover-bg-color: #434B5C;\n",
              "      --hover-fill-color: #FFFFFF;\n",
              "      --disabled-bg-color: #3B4455;\n",
              "      --disabled-fill-color: #666;\n",
              "  }\n",
              "\n",
              "  .colab-df-quickchart {\n",
              "    background-color: var(--bg-color);\n",
              "    border: none;\n",
              "    border-radius: 50%;\n",
              "    cursor: pointer;\n",
              "    display: none;\n",
              "    fill: var(--fill-color);\n",
              "    height: 32px;\n",
              "    padding: 0;\n",
              "    width: 32px;\n",
              "  }\n",
              "\n",
              "  .colab-df-quickchart:hover {\n",
              "    background-color: var(--hover-bg-color);\n",
              "    box-shadow: 0 1px 2px rgba(60, 64, 67, 0.3), 0 1px 3px 1px rgba(60, 64, 67, 0.15);\n",
              "    fill: var(--button-hover-fill-color);\n",
              "  }\n",
              "\n",
              "  .colab-df-quickchart-complete:disabled,\n",
              "  .colab-df-quickchart-complete:disabled:hover {\n",
              "    background-color: var(--disabled-bg-color);\n",
              "    fill: var(--disabled-fill-color);\n",
              "    box-shadow: none;\n",
              "  }\n",
              "\n",
              "  .colab-df-spinner {\n",
              "    border: 2px solid var(--fill-color);\n",
              "    border-color: transparent;\n",
              "    border-bottom-color: var(--fill-color);\n",
              "    animation:\n",
              "      spin 1s steps(1) infinite;\n",
              "  }\n",
              "\n",
              "  @keyframes spin {\n",
              "    0% {\n",
              "      border-color: transparent;\n",
              "      border-bottom-color: var(--fill-color);\n",
              "      border-left-color: var(--fill-color);\n",
              "    }\n",
              "    20% {\n",
              "      border-color: transparent;\n",
              "      border-left-color: var(--fill-color);\n",
              "      border-top-color: var(--fill-color);\n",
              "    }\n",
              "    30% {\n",
              "      border-color: transparent;\n",
              "      border-left-color: var(--fill-color);\n",
              "      border-top-color: var(--fill-color);\n",
              "      border-right-color: var(--fill-color);\n",
              "    }\n",
              "    40% {\n",
              "      border-color: transparent;\n",
              "      border-right-color: var(--fill-color);\n",
              "      border-top-color: var(--fill-color);\n",
              "    }\n",
              "    60% {\n",
              "      border-color: transparent;\n",
              "      border-right-color: var(--fill-color);\n",
              "    }\n",
              "    80% {\n",
              "      border-color: transparent;\n",
              "      border-right-color: var(--fill-color);\n",
              "      border-bottom-color: var(--fill-color);\n",
              "    }\n",
              "    90% {\n",
              "      border-color: transparent;\n",
              "      border-bottom-color: var(--fill-color);\n",
              "    }\n",
              "  }\n",
              "</style>\n",
              "\n",
              "  <script>\n",
              "    async function quickchart(key) {\n",
              "      const quickchartButtonEl =\n",
              "        document.querySelector('#' + key + ' button');\n",
              "      quickchartButtonEl.disabled = true;  // To prevent multiple clicks.\n",
              "      quickchartButtonEl.classList.add('colab-df-spinner');\n",
              "      try {\n",
              "        const charts = await google.colab.kernel.invokeFunction(\n",
              "            'suggestCharts', [key], {});\n",
              "      } catch (error) {\n",
              "        console.error('Error during call to suggestCharts:', error);\n",
              "      }\n",
              "      quickchartButtonEl.classList.remove('colab-df-spinner');\n",
              "      quickchartButtonEl.classList.add('colab-df-quickchart-complete');\n",
              "    }\n",
              "    (() => {\n",
              "      let quickchartButtonEl =\n",
              "        document.querySelector('#df-f4638ddd-8883-4ba9-94ab-d34501d28d5f button');\n",
              "      quickchartButtonEl.style.display =\n",
              "        google.colab.kernel.accessAllowed ? 'block' : 'none';\n",
              "    })();\n",
              "  </script>\n",
              "</div>\n",
              "    </div>\n",
              "  </div>\n"
            ]
          },
          "metadata": {},
          "execution_count": 7
        }
      ]
    },
    {
      "cell_type": "markdown",
      "source": [
        "We see that each attribute is converted into serval new categorical column and assign a binary value of 1 or 0 to those columns."
      ],
      "metadata": {
        "id": "CxozrqOFcVqP"
      }
    },
    {
      "cell_type": "markdown",
      "source": [
        "###**c. discrete attributes**"
      ],
      "metadata": {
        "id": "nIw1e3Nv5UnO"
      }
    },
    {
      "cell_type": "markdown",
      "source": [
        "For Naive Bayes classifiers expects discrete attributes. Assign each categorical with a integer index by assigning a unique numerical value to each category of the variable.\n",
        "The following table shows the encoded value for the original values, as we can see each values is assigned to a unique index in the category."
      ],
      "metadata": {
        "id": "ukLFSMKgCiZ8"
      }
    },
    {
      "cell_type": "markdown",
      "source": [
        "| Attribute   | Original Values           | New Values       |\n",
        "|-------------|---------------------------|------------------|\n",
        "| buying      | vhigh, high, med, low     | 0, 1, 2, 3       |\n",
        "| maint       | vhigh, high, med, low     | 0, 1, 2, 3       |\n",
        "| doors       | 2, 3, 4, 5more                     | 0, 1, 2, 3                |\n",
        "| persons     | 2, 4, or more                      | 0, 1, 2                |\n",
        "| lug_boot    | small, med, big           | 0, 1, 2          |\n",
        "| safety      | low, med, high            | 0, 1, 2          |\n",
        "| class       | unacc, acc, good, vgood   | 0, 1, 2, 3       |\n"
      ],
      "metadata": {
        "id": "EJugN4p303lS"
      }
    },
    {
      "cell_type": "code",
      "source": [
        "def defineNB():\n",
        "\n",
        "  '''\n",
        "  Apply the discretization encoding on the dataset and assign the result on a global varible 'discretization'\n",
        "\n",
        "  '''\n",
        "  # define the global variables\n",
        "  # discretization contains the dataframe after applying the discretization encoding\n",
        "  global discretization\n",
        "\n",
        "  # reset the dataset to make sure the data is not modified\n",
        "  dataset = pd.read_csv(url)\n",
        "\n",
        "  # Encode each categorical into an index form\n",
        "  dataset[\"buying\"] = dataset[\"buying\"].replace({\"vhigh\": 0, \"high\": 1, \"med\": 2, \"low\": 3})\n",
        "  dataset[\"maint\"] = dataset[\"maint\"].replace({\"vhigh\": 0, \"high\": 1, \"med\": 2, \"low\": 3})\n",
        "  dataset[\"doors\"] = dataset[\"doors\"].replace({ \"2\": 0, \"3\":1, \"4\": 2,\"5more\":3})\n",
        "  dataset[\"persons\"] = dataset[\"persons\"].replace({\"2\": 0, \"4\": 1,\"more\":2})\n",
        "  dataset[\"lug_boot\"] = dataset[\"lug_boot\"].replace({\"small\":0, \"med\":1, \"big\":2})\n",
        "  dataset[\"safety\"] = dataset[\"safety\"].replace({\"low\":0, \"med\":1, \"high\":2})\n",
        "\n",
        "  # assigned the discretization form of the dataframe into 'discretization'\n",
        "  discretization = dataset\n",
        "\n",
        "  # reset the dataset back to it's initial form\n",
        "  dataset = pd.read_csv(url)"
      ],
      "metadata": {
        "id": "TmQt62M42jIA"
      },
      "execution_count": null,
      "outputs": []
    },
    {
      "cell_type": "code",
      "source": [
        "defineNB()# apply the encoding\n",
        "discretization # Show the encoded of the dataset to understand the dataframe's structure"
      ],
      "metadata": {
        "colab": {
          "base_uri": "https://localhost:8080/",
          "height": 424
        },
        "id": "GPeBnIQJ4Rdl",
        "outputId": "1f4d6398-e77c-49fd-d0ba-af965a647a28"
      },
      "execution_count": null,
      "outputs": [
        {
          "output_type": "execute_result",
          "data": {
            "text/plain": [
              "      buying  maint  doors  persons  lug_boot  safety  class\n",
              "0          0      0      0        0         0       0  unacc\n",
              "1          0      0      0        0         0       1  unacc\n",
              "2          0      0      0        0         0       2  unacc\n",
              "3          0      0      0        0         1       0  unacc\n",
              "4          0      0      0        0         1       1  unacc\n",
              "...      ...    ...    ...      ...       ...     ...    ...\n",
              "1723       3      3      3        2         1       1   good\n",
              "1724       3      3      3        2         1       2  vgood\n",
              "1725       3      3      3        2         2       0  unacc\n",
              "1726       3      3      3        2         2       1   good\n",
              "1727       3      3      3        2         2       2  vgood\n",
              "\n",
              "[1728 rows x 7 columns]"
            ],
            "text/html": [
              "\n",
              "  <div id=\"df-9c57c4b6-3f5c-44b7-8a37-baab9eb8a7af\" class=\"colab-df-container\">\n",
              "    <div>\n",
              "<style scoped>\n",
              "    .dataframe tbody tr th:only-of-type {\n",
              "        vertical-align: middle;\n",
              "    }\n",
              "\n",
              "    .dataframe tbody tr th {\n",
              "        vertical-align: top;\n",
              "    }\n",
              "\n",
              "    .dataframe thead th {\n",
              "        text-align: right;\n",
              "    }\n",
              "</style>\n",
              "<table border=\"1\" class=\"dataframe\">\n",
              "  <thead>\n",
              "    <tr style=\"text-align: right;\">\n",
              "      <th></th>\n",
              "      <th>buying</th>\n",
              "      <th>maint</th>\n",
              "      <th>doors</th>\n",
              "      <th>persons</th>\n",
              "      <th>lug_boot</th>\n",
              "      <th>safety</th>\n",
              "      <th>class</th>\n",
              "    </tr>\n",
              "  </thead>\n",
              "  <tbody>\n",
              "    <tr>\n",
              "      <th>0</th>\n",
              "      <td>0</td>\n",
              "      <td>0</td>\n",
              "      <td>0</td>\n",
              "      <td>0</td>\n",
              "      <td>0</td>\n",
              "      <td>0</td>\n",
              "      <td>unacc</td>\n",
              "    </tr>\n",
              "    <tr>\n",
              "      <th>1</th>\n",
              "      <td>0</td>\n",
              "      <td>0</td>\n",
              "      <td>0</td>\n",
              "      <td>0</td>\n",
              "      <td>0</td>\n",
              "      <td>1</td>\n",
              "      <td>unacc</td>\n",
              "    </tr>\n",
              "    <tr>\n",
              "      <th>2</th>\n",
              "      <td>0</td>\n",
              "      <td>0</td>\n",
              "      <td>0</td>\n",
              "      <td>0</td>\n",
              "      <td>0</td>\n",
              "      <td>2</td>\n",
              "      <td>unacc</td>\n",
              "    </tr>\n",
              "    <tr>\n",
              "      <th>3</th>\n",
              "      <td>0</td>\n",
              "      <td>0</td>\n",
              "      <td>0</td>\n",
              "      <td>0</td>\n",
              "      <td>1</td>\n",
              "      <td>0</td>\n",
              "      <td>unacc</td>\n",
              "    </tr>\n",
              "    <tr>\n",
              "      <th>4</th>\n",
              "      <td>0</td>\n",
              "      <td>0</td>\n",
              "      <td>0</td>\n",
              "      <td>0</td>\n",
              "      <td>1</td>\n",
              "      <td>1</td>\n",
              "      <td>unacc</td>\n",
              "    </tr>\n",
              "    <tr>\n",
              "      <th>...</th>\n",
              "      <td>...</td>\n",
              "      <td>...</td>\n",
              "      <td>...</td>\n",
              "      <td>...</td>\n",
              "      <td>...</td>\n",
              "      <td>...</td>\n",
              "      <td>...</td>\n",
              "    </tr>\n",
              "    <tr>\n",
              "      <th>1723</th>\n",
              "      <td>3</td>\n",
              "      <td>3</td>\n",
              "      <td>3</td>\n",
              "      <td>2</td>\n",
              "      <td>1</td>\n",
              "      <td>1</td>\n",
              "      <td>good</td>\n",
              "    </tr>\n",
              "    <tr>\n",
              "      <th>1724</th>\n",
              "      <td>3</td>\n",
              "      <td>3</td>\n",
              "      <td>3</td>\n",
              "      <td>2</td>\n",
              "      <td>1</td>\n",
              "      <td>2</td>\n",
              "      <td>vgood</td>\n",
              "    </tr>\n",
              "    <tr>\n",
              "      <th>1725</th>\n",
              "      <td>3</td>\n",
              "      <td>3</td>\n",
              "      <td>3</td>\n",
              "      <td>2</td>\n",
              "      <td>2</td>\n",
              "      <td>0</td>\n",
              "      <td>unacc</td>\n",
              "    </tr>\n",
              "    <tr>\n",
              "      <th>1726</th>\n",
              "      <td>3</td>\n",
              "      <td>3</td>\n",
              "      <td>3</td>\n",
              "      <td>2</td>\n",
              "      <td>2</td>\n",
              "      <td>1</td>\n",
              "      <td>good</td>\n",
              "    </tr>\n",
              "    <tr>\n",
              "      <th>1727</th>\n",
              "      <td>3</td>\n",
              "      <td>3</td>\n",
              "      <td>3</td>\n",
              "      <td>2</td>\n",
              "      <td>2</td>\n",
              "      <td>2</td>\n",
              "      <td>vgood</td>\n",
              "    </tr>\n",
              "  </tbody>\n",
              "</table>\n",
              "<p>1728 rows × 7 columns</p>\n",
              "</div>\n",
              "    <div class=\"colab-df-buttons\">\n",
              "\n",
              "  <div class=\"colab-df-container\">\n",
              "    <button class=\"colab-df-convert\" onclick=\"convertToInteractive('df-9c57c4b6-3f5c-44b7-8a37-baab9eb8a7af')\"\n",
              "            title=\"Convert this dataframe to an interactive table.\"\n",
              "            style=\"display:none;\">\n",
              "\n",
              "  <svg xmlns=\"http://www.w3.org/2000/svg\" height=\"24px\" viewBox=\"0 -960 960 960\">\n",
              "    <path d=\"M120-120v-720h720v720H120Zm60-500h600v-160H180v160Zm220 220h160v-160H400v160Zm0 220h160v-160H400v160ZM180-400h160v-160H180v160Zm440 0h160v-160H620v160ZM180-180h160v-160H180v160Zm440 0h160v-160H620v160Z\"/>\n",
              "  </svg>\n",
              "    </button>\n",
              "\n",
              "  <style>\n",
              "    .colab-df-container {\n",
              "      display:flex;\n",
              "      gap: 12px;\n",
              "    }\n",
              "\n",
              "    .colab-df-convert {\n",
              "      background-color: #E8F0FE;\n",
              "      border: none;\n",
              "      border-radius: 50%;\n",
              "      cursor: pointer;\n",
              "      display: none;\n",
              "      fill: #1967D2;\n",
              "      height: 32px;\n",
              "      padding: 0 0 0 0;\n",
              "      width: 32px;\n",
              "    }\n",
              "\n",
              "    .colab-df-convert:hover {\n",
              "      background-color: #E2EBFA;\n",
              "      box-shadow: 0px 1px 2px rgba(60, 64, 67, 0.3), 0px 1px 3px 1px rgba(60, 64, 67, 0.15);\n",
              "      fill: #174EA6;\n",
              "    }\n",
              "\n",
              "    .colab-df-buttons div {\n",
              "      margin-bottom: 4px;\n",
              "    }\n",
              "\n",
              "    [theme=dark] .colab-df-convert {\n",
              "      background-color: #3B4455;\n",
              "      fill: #D2E3FC;\n",
              "    }\n",
              "\n",
              "    [theme=dark] .colab-df-convert:hover {\n",
              "      background-color: #434B5C;\n",
              "      box-shadow: 0px 1px 3px 1px rgba(0, 0, 0, 0.15);\n",
              "      filter: drop-shadow(0px 1px 2px rgba(0, 0, 0, 0.3));\n",
              "      fill: #FFFFFF;\n",
              "    }\n",
              "  </style>\n",
              "\n",
              "    <script>\n",
              "      const buttonEl =\n",
              "        document.querySelector('#df-9c57c4b6-3f5c-44b7-8a37-baab9eb8a7af button.colab-df-convert');\n",
              "      buttonEl.style.display =\n",
              "        google.colab.kernel.accessAllowed ? 'block' : 'none';\n",
              "\n",
              "      async function convertToInteractive(key) {\n",
              "        const element = document.querySelector('#df-9c57c4b6-3f5c-44b7-8a37-baab9eb8a7af');\n",
              "        const dataTable =\n",
              "          await google.colab.kernel.invokeFunction('convertToInteractive',\n",
              "                                                    [key], {});\n",
              "        if (!dataTable) return;\n",
              "\n",
              "        const docLinkHtml = 'Like what you see? Visit the ' +\n",
              "          '<a target=\"_blank\" href=https://colab.research.google.com/notebooks/data_table.ipynb>data table notebook</a>'\n",
              "          + ' to learn more about interactive tables.';\n",
              "        element.innerHTML = '';\n",
              "        dataTable['output_type'] = 'display_data';\n",
              "        await google.colab.output.renderOutput(dataTable, element);\n",
              "        const docLink = document.createElement('div');\n",
              "        docLink.innerHTML = docLinkHtml;\n",
              "        element.appendChild(docLink);\n",
              "      }\n",
              "    </script>\n",
              "  </div>\n",
              "\n",
              "\n",
              "<div id=\"df-e16f5c9f-0cd9-4bb9-ade5-85ddb868b8c0\">\n",
              "  <button class=\"colab-df-quickchart\" onclick=\"quickchart('df-e16f5c9f-0cd9-4bb9-ade5-85ddb868b8c0')\"\n",
              "            title=\"Suggest charts\"\n",
              "            style=\"display:none;\">\n",
              "\n",
              "<svg xmlns=\"http://www.w3.org/2000/svg\" height=\"24px\"viewBox=\"0 0 24 24\"\n",
              "     width=\"24px\">\n",
              "    <g>\n",
              "        <path d=\"M19 3H5c-1.1 0-2 .9-2 2v14c0 1.1.9 2 2 2h14c1.1 0 2-.9 2-2V5c0-1.1-.9-2-2-2zM9 17H7v-7h2v7zm4 0h-2V7h2v10zm4 0h-2v-4h2v4z\"/>\n",
              "    </g>\n",
              "</svg>\n",
              "  </button>\n",
              "\n",
              "<style>\n",
              "  .colab-df-quickchart {\n",
              "      --bg-color: #E8F0FE;\n",
              "      --fill-color: #1967D2;\n",
              "      --hover-bg-color: #E2EBFA;\n",
              "      --hover-fill-color: #174EA6;\n",
              "      --disabled-fill-color: #AAA;\n",
              "      --disabled-bg-color: #DDD;\n",
              "  }\n",
              "\n",
              "  [theme=dark] .colab-df-quickchart {\n",
              "      --bg-color: #3B4455;\n",
              "      --fill-color: #D2E3FC;\n",
              "      --hover-bg-color: #434B5C;\n",
              "      --hover-fill-color: #FFFFFF;\n",
              "      --disabled-bg-color: #3B4455;\n",
              "      --disabled-fill-color: #666;\n",
              "  }\n",
              "\n",
              "  .colab-df-quickchart {\n",
              "    background-color: var(--bg-color);\n",
              "    border: none;\n",
              "    border-radius: 50%;\n",
              "    cursor: pointer;\n",
              "    display: none;\n",
              "    fill: var(--fill-color);\n",
              "    height: 32px;\n",
              "    padding: 0;\n",
              "    width: 32px;\n",
              "  }\n",
              "\n",
              "  .colab-df-quickchart:hover {\n",
              "    background-color: var(--hover-bg-color);\n",
              "    box-shadow: 0 1px 2px rgba(60, 64, 67, 0.3), 0 1px 3px 1px rgba(60, 64, 67, 0.15);\n",
              "    fill: var(--button-hover-fill-color);\n",
              "  }\n",
              "\n",
              "  .colab-df-quickchart-complete:disabled,\n",
              "  .colab-df-quickchart-complete:disabled:hover {\n",
              "    background-color: var(--disabled-bg-color);\n",
              "    fill: var(--disabled-fill-color);\n",
              "    box-shadow: none;\n",
              "  }\n",
              "\n",
              "  .colab-df-spinner {\n",
              "    border: 2px solid var(--fill-color);\n",
              "    border-color: transparent;\n",
              "    border-bottom-color: var(--fill-color);\n",
              "    animation:\n",
              "      spin 1s steps(1) infinite;\n",
              "  }\n",
              "\n",
              "  @keyframes spin {\n",
              "    0% {\n",
              "      border-color: transparent;\n",
              "      border-bottom-color: var(--fill-color);\n",
              "      border-left-color: var(--fill-color);\n",
              "    }\n",
              "    20% {\n",
              "      border-color: transparent;\n",
              "      border-left-color: var(--fill-color);\n",
              "      border-top-color: var(--fill-color);\n",
              "    }\n",
              "    30% {\n",
              "      border-color: transparent;\n",
              "      border-left-color: var(--fill-color);\n",
              "      border-top-color: var(--fill-color);\n",
              "      border-right-color: var(--fill-color);\n",
              "    }\n",
              "    40% {\n",
              "      border-color: transparent;\n",
              "      border-right-color: var(--fill-color);\n",
              "      border-top-color: var(--fill-color);\n",
              "    }\n",
              "    60% {\n",
              "      border-color: transparent;\n",
              "      border-right-color: var(--fill-color);\n",
              "    }\n",
              "    80% {\n",
              "      border-color: transparent;\n",
              "      border-right-color: var(--fill-color);\n",
              "      border-bottom-color: var(--fill-color);\n",
              "    }\n",
              "    90% {\n",
              "      border-color: transparent;\n",
              "      border-bottom-color: var(--fill-color);\n",
              "    }\n",
              "  }\n",
              "</style>\n",
              "\n",
              "  <script>\n",
              "    async function quickchart(key) {\n",
              "      const quickchartButtonEl =\n",
              "        document.querySelector('#' + key + ' button');\n",
              "      quickchartButtonEl.disabled = true;  // To prevent multiple clicks.\n",
              "      quickchartButtonEl.classList.add('colab-df-spinner');\n",
              "      try {\n",
              "        const charts = await google.colab.kernel.invokeFunction(\n",
              "            'suggestCharts', [key], {});\n",
              "      } catch (error) {\n",
              "        console.error('Error during call to suggestCharts:', error);\n",
              "      }\n",
              "      quickchartButtonEl.classList.remove('colab-df-spinner');\n",
              "      quickchartButtonEl.classList.add('colab-df-quickchart-complete');\n",
              "    }\n",
              "    (() => {\n",
              "      let quickchartButtonEl =\n",
              "        document.querySelector('#df-e16f5c9f-0cd9-4bb9-ade5-85ddb868b8c0 button');\n",
              "      quickchartButtonEl.style.display =\n",
              "        google.colab.kernel.accessAllowed ? 'block' : 'none';\n",
              "    })();\n",
              "  </script>\n",
              "</div>\n",
              "    </div>\n",
              "  </div>\n"
            ]
          },
          "metadata": {},
          "execution_count": 9
        }
      ]
    },
    {
      "cell_type": "markdown",
      "source": [
        "##**4. Define 2 models using default parameters**"
      ],
      "metadata": {
        "id": "xGEZz9up5dCJ"
      }
    },
    {
      "cell_type": "markdown",
      "source": [
        "Import important libraries for this section."
      ],
      "metadata": {
        "id": "CfgQOuHPTOkX"
      }
    },
    {
      "cell_type": "code",
      "source": [
        "from sklearn.linear_model import LogisticRegression\n",
        "from sklearn.naive_bayes import CategoricalNB"
      ],
      "metadata": {
        "id": "cg6rW9nPDvzH"
      },
      "execution_count": null,
      "outputs": []
    },
    {
      "cell_type": "markdown",
      "source": [
        "Define the models using the default parameters (no parameter are passing to the models)."
      ],
      "metadata": {
        "id": "aAjBCF7eTTfv"
      }
    },
    {
      "cell_type": "markdown",
      "source": [
        "###**a. Logistic Regression Model**"
      ],
      "metadata": {
        "id": "2-BDQTUl5fMI"
      }
    },
    {
      "cell_type": "code",
      "source": [
        "ModelLR = LogisticRegression() # define the Logistic Regression model with default parameters"
      ],
      "metadata": {
        "id": "UaQPbrv4uDLQ"
      },
      "execution_count": null,
      "outputs": []
    },
    {
      "cell_type": "code",
      "source": [
        "ModelLR.get_params()# view the parameter value for each"
      ],
      "metadata": {
        "colab": {
          "base_uri": "https://localhost:8080/"
        },
        "id": "0dpqhBvtItiq",
        "outputId": "4192413f-9a94-42fc-9f1d-7b1536b47023"
      },
      "execution_count": null,
      "outputs": [
        {
          "output_type": "execute_result",
          "data": {
            "text/plain": [
              "{'C': 1.0,\n",
              " 'class_weight': None,\n",
              " 'dual': False,\n",
              " 'fit_intercept': True,\n",
              " 'intercept_scaling': 1,\n",
              " 'l1_ratio': None,\n",
              " 'max_iter': 100,\n",
              " 'multi_class': 'auto',\n",
              " 'n_jobs': None,\n",
              " 'penalty': 'l2',\n",
              " 'random_state': None,\n",
              " 'solver': 'lbfgs',\n",
              " 'tol': 0.0001,\n",
              " 'verbose': 0,\n",
              " 'warm_start': False}"
            ]
          },
          "metadata": {},
          "execution_count": 12
        }
      ]
    },
    {
      "cell_type": "markdown",
      "source": [
        "###**b. Naïve Bayes Model**"
      ],
      "metadata": {
        "id": "F47pm0Sa5hE0"
      }
    },
    {
      "cell_type": "code",
      "source": [
        "ModelNB = CategoricalNB() # define the Naïve Bayes model with default parameters"
      ],
      "metadata": {
        "id": "eOTs60hKqhT5"
      },
      "execution_count": null,
      "outputs": []
    },
    {
      "cell_type": "code",
      "source": [
        "ModelNB.get_params() # view the parameter value for each"
      ],
      "metadata": {
        "colab": {
          "base_uri": "https://localhost:8080/"
        },
        "id": "237C3Dx_JE5U",
        "outputId": "f17eb3cf-1b6a-41a6-c0ab-ab888fe01f8e"
      },
      "execution_count": null,
      "outputs": [
        {
          "output_type": "execute_result",
          "data": {
            "text/plain": [
              "{'alpha': 1.0,\n",
              " 'class_prior': None,\n",
              " 'fit_prior': True,\n",
              " 'force_alpha': 'warn',\n",
              " 'min_categories': None}"
            ]
          },
          "metadata": {},
          "execution_count": 14
        }
      ]
    },
    {
      "cell_type": "markdown",
      "source": [
        "##**5. Train/test/evaluate the 2 models in cross-validation**\n"
      ],
      "metadata": {
        "id": "Ljbl0FUY5jlo"
      }
    },
    {
      "cell_type": "markdown",
      "source": [
        "To evaluate the performance of a model, we will utilize a 4-fold cross-validation technique, which involves dividing the data sample into four equal parts or 'folds'. During each iteration of cross-validation, three folds will be used for training the model, while the remaining one will be used for testing (validation set). The accuracy will be calculated across the test data to assess the model's performance.\n",
        "\n",
        "It's often challenging to obtain a realistic test dataset to evaluate the model's performance. Nonetheless, validation can be employed to split the data sample into training and testing sets. The original sample data can be divided into two portions, namely the training and test data. Subsequently, the model can be trained using the training data and evaluated using the test data to determine its performance.\n",
        "The accuracy, precision, and recall metrics will be computed across the test data to evaluate the model's performance."
      ],
      "metadata": {
        "id": "dXtyT2VmHxTQ"
      }
    },
    {
      "cell_type": "markdown",
      "source": [
        "![74655K-fold summing.png](data:image/png;base64,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)\n",
        "\n",
        "Source: https://www.analyticsvidhya.com/blog/2022/02/k-fold-cross-validation-technique-and-its-essentials/"
      ],
      "metadata": {
        "id": "qphKZw8oeHFs"
      }
    },
    {
      "cell_type": "markdown",
      "source": [
        "###**a. 4-fold cross-validation**\n"
      ],
      "metadata": {
        "id": "-mn_33NO5m-p"
      }
    },
    {
      "cell_type": "markdown",
      "source": [
        "Import important libraries for this section."
      ],
      "metadata": {
        "id": "YnqwvAo57V35"
      }
    },
    {
      "cell_type": "code",
      "source": [
        "from sklearn.model_selection import KFold\n",
        "from sklearn.metrics import precision_score, recall_score, confusion_matrix, ConfusionMatrixDisplay, accuracy_score,   precision_recall_curve\n",
        "from sklearn.utils.multiclass import unique_labels"
      ],
      "metadata": {
        "id": "5VBQIIw318um"
      },
      "execution_count": null,
      "outputs": []
    },
    {
      "cell_type": "markdown",
      "source": [
        "####**i. Fully Shuffles the two data frame aligned**"
      ],
      "metadata": {
        "id": "RYKk9jM6z6fG"
      }
    },
    {
      "cell_type": "markdown",
      "source": [
        "We want to make sure the trianing and test data for both model is the same in order for comparison."
      ],
      "metadata": {
        "id": "vWXafjOmTY_k"
      }
    },
    {
      "cell_type": "code",
      "source": [
        "from random import shuffle\n",
        "\n",
        "# set a seed to make sure we get the same random for each run\n",
        "random.seed(100)\n",
        "\n",
        "# random shuffle the row index by random\n",
        "index_shuffle=[i for i in range(onehot.shape[0])]\n",
        "shuffle(index_shuffle)"
      ],
      "metadata": {
        "id": "g4EI7WvJxAm2"
      },
      "execution_count": null,
      "outputs": []
    },
    {
      "cell_type": "code",
      "source": [
        "# assigned the encoded dataframe into a temp variable\n",
        "temp_lr = onehot\n",
        "temp_nb = discretization\n",
        "\n",
        "#applied the shuffled row index to the temp datasets\n",
        "shuffle_lr = temp_lr.iloc[index_shuffle,:]\n",
        "shuffle_nb = temp_nb.iloc[index_shuffle,:]"
      ],
      "metadata": {
        "id": "11gP7HbdqAvM"
      },
      "execution_count": null,
      "outputs": []
    },
    {
      "cell_type": "code",
      "source": [
        "shuffle_lr.head(5) # show the first 5 rows from the shuffled dataset for logistic regression"
      ],
      "metadata": {
        "colab": {
          "base_uri": "https://localhost:8080/",
          "height": 256
        },
        "id": "d6I4cPAjUmD6",
        "outputId": "cf9620f4-ccac-4698-f21a-2be63c7d7694"
      },
      "execution_count": null,
      "outputs": [
        {
          "output_type": "execute_result",
          "data": {
            "text/plain": [
              "      class  buying_high  buying_low  buying_med  buying_vhigh  maint_high  \\\n",
              "1548  unacc            0           1           0             0           0   \n",
              "423   unacc            0           0           0             1           0   \n",
              "868   unacc            0           0           1             0           0   \n",
              "110   unacc            0           0           0             1           1   \n",
              "1531  unacc            0           1           0             0           0   \n",
              "\n",
              "      maint_low  maint_med  maint_vhigh  doors_2  ...  doors_5more  persons_2  \\\n",
              "1548          0          1            0        0  ...            0          0   \n",
              "423           1          0            0        0  ...            1          0   \n",
              "868           0          0            1        1  ...            0          1   \n",
              "110           0          0            0        1  ...            0          1   \n",
              "1531          0          1            0        1  ...            0          0   \n",
              "\n",
              "      persons_4  persons_more  lug_boot_big  lug_boot_med  lug_boot_small  \\\n",
              "1548          1             0             0             0               1   \n",
              "423           0             1             0             0               1   \n",
              "868           0             0             0             1               0   \n",
              "110           0             0             0             0               1   \n",
              "1531          0             1             0             0               1   \n",
              "\n",
              "      safety_high  safety_low  safety_med  \n",
              "1548            0           1           0  \n",
              "423             0           1           0  \n",
              "868             0           0           1  \n",
              "110             1           0           0  \n",
              "1531            0           0           1  \n",
              "\n",
              "[5 rows x 22 columns]"
            ],
            "text/html": [
              "\n",
              "  <div id=\"df-6cb976e7-6e7a-44f4-8f4a-e2d4f5f13662\" class=\"colab-df-container\">\n",
              "    <div>\n",
              "<style scoped>\n",
              "    .dataframe tbody tr th:only-of-type {\n",
              "        vertical-align: middle;\n",
              "    }\n",
              "\n",
              "    .dataframe tbody tr th {\n",
              "        vertical-align: top;\n",
              "    }\n",
              "\n",
              "    .dataframe thead th {\n",
              "        text-align: right;\n",
              "    }\n",
              "</style>\n",
              "<table border=\"1\" class=\"dataframe\">\n",
              "  <thead>\n",
              "    <tr style=\"text-align: right;\">\n",
              "      <th></th>\n",
              "      <th>class</th>\n",
              "      <th>buying_high</th>\n",
              "      <th>buying_low</th>\n",
              "      <th>buying_med</th>\n",
              "      <th>buying_vhigh</th>\n",
              "      <th>maint_high</th>\n",
              "      <th>maint_low</th>\n",
              "      <th>maint_med</th>\n",
              "      <th>maint_vhigh</th>\n",
              "      <th>doors_2</th>\n",
              "      <th>...</th>\n",
              "      <th>doors_5more</th>\n",
              "      <th>persons_2</th>\n",
              "      <th>persons_4</th>\n",
              "      <th>persons_more</th>\n",
              "      <th>lug_boot_big</th>\n",
              "      <th>lug_boot_med</th>\n",
              "      <th>lug_boot_small</th>\n",
              "      <th>safety_high</th>\n",
              "      <th>safety_low</th>\n",
              "      <th>safety_med</th>\n",
              "    </tr>\n",
              "  </thead>\n",
              "  <tbody>\n",
              "    <tr>\n",
              "      <th>1548</th>\n",
              "      <td>unacc</td>\n",
              "      <td>0</td>\n",
              "      <td>1</td>\n",
              "      <td>0</td>\n",
              "      <td>0</td>\n",
              "      <td>0</td>\n",
              "      <td>0</td>\n",
              "      <td>1</td>\n",
              "      <td>0</td>\n",
              "      <td>0</td>\n",
              "      <td>...</td>\n",
              "      <td>0</td>\n",
              "      <td>0</td>\n",
              "      <td>1</td>\n",
              "      <td>0</td>\n",
              "      <td>0</td>\n",
              "      <td>0</td>\n",
              "      <td>1</td>\n",
              "      <td>0</td>\n",
              "      <td>1</td>\n",
              "      <td>0</td>\n",
              "    </tr>\n",
              "    <tr>\n",
              "      <th>423</th>\n",
              "      <td>unacc</td>\n",
              "      <td>0</td>\n",
              "      <td>0</td>\n",
              "      <td>0</td>\n",
              "      <td>1</td>\n",
              "      <td>0</td>\n",
              "      <td>1</td>\n",
              "      <td>0</td>\n",
              "      <td>0</td>\n",
              "      <td>0</td>\n",
              "      <td>...</td>\n",
              "      <td>1</td>\n",
              "      <td>0</td>\n",
              "      <td>0</td>\n",
              "      <td>1</td>\n",
              "      <td>0</td>\n",
              "      <td>0</td>\n",
              "      <td>1</td>\n",
              "      <td>0</td>\n",
              "      <td>1</td>\n",
              "      <td>0</td>\n",
              "    </tr>\n",
              "    <tr>\n",
              "      <th>868</th>\n",
              "      <td>unacc</td>\n",
              "      <td>0</td>\n",
              "      <td>0</td>\n",
              "      <td>1</td>\n",
              "      <td>0</td>\n",
              "      <td>0</td>\n",
              "      <td>0</td>\n",
              "      <td>0</td>\n",
              "      <td>1</td>\n",
              "      <td>1</td>\n",
              "      <td>...</td>\n",
              "      <td>0</td>\n",
              "      <td>1</td>\n",
              "      <td>0</td>\n",
              "      <td>0</td>\n",
              "      <td>0</td>\n",
              "      <td>1</td>\n",
              "      <td>0</td>\n",
              "      <td>0</td>\n",
              "      <td>0</td>\n",
              "      <td>1</td>\n",
              "    </tr>\n",
              "    <tr>\n",
              "      <th>110</th>\n",
              "      <td>unacc</td>\n",
              "      <td>0</td>\n",
              "      <td>0</td>\n",
              "      <td>0</td>\n",
              "      <td>1</td>\n",
              "      <td>1</td>\n",
              "      <td>0</td>\n",
              "      <td>0</td>\n",
              "      <td>0</td>\n",
              "      <td>1</td>\n",
              "      <td>...</td>\n",
              "      <td>0</td>\n",
              "      <td>1</td>\n",
              "      <td>0</td>\n",
              "      <td>0</td>\n",
              "      <td>0</td>\n",
              "      <td>0</td>\n",
              "      <td>1</td>\n",
              "      <td>1</td>\n",
              "      <td>0</td>\n",
              "      <td>0</td>\n",
              "    </tr>\n",
              "    <tr>\n",
              "      <th>1531</th>\n",
              "      <td>unacc</td>\n",
              "      <td>0</td>\n",
              "      <td>1</td>\n",
              "      <td>0</td>\n",
              "      <td>0</td>\n",
              "      <td>0</td>\n",
              "      <td>0</td>\n",
              "      <td>1</td>\n",
              "      <td>0</td>\n",
              "      <td>1</td>\n",
              "      <td>...</td>\n",
              "      <td>0</td>\n",
              "      <td>0</td>\n",
              "      <td>0</td>\n",
              "      <td>1</td>\n",
              "      <td>0</td>\n",
              "      <td>0</td>\n",
              "      <td>1</td>\n",
              "      <td>0</td>\n",
              "      <td>0</td>\n",
              "      <td>1</td>\n",
              "    </tr>\n",
              "  </tbody>\n",
              "</table>\n",
              "<p>5 rows × 22 columns</p>\n",
              "</div>\n",
              "    <div class=\"colab-df-buttons\">\n",
              "\n",
              "  <div class=\"colab-df-container\">\n",
              "    <button class=\"colab-df-convert\" onclick=\"convertToInteractive('df-6cb976e7-6e7a-44f4-8f4a-e2d4f5f13662')\"\n",
              "            title=\"Convert this dataframe to an interactive table.\"\n",
              "            style=\"display:none;\">\n",
              "\n",
              "  <svg xmlns=\"http://www.w3.org/2000/svg\" height=\"24px\" viewBox=\"0 -960 960 960\">\n",
              "    <path d=\"M120-120v-720h720v720H120Zm60-500h600v-160H180v160Zm220 220h160v-160H400v160Zm0 220h160v-160H400v160ZM180-400h160v-160H180v160Zm440 0h160v-160H620v160ZM180-180h160v-160H180v160Zm440 0h160v-160H620v160Z\"/>\n",
              "  </svg>\n",
              "    </button>\n",
              "\n",
              "  <style>\n",
              "    .colab-df-container {\n",
              "      display:flex;\n",
              "      gap: 12px;\n",
              "    }\n",
              "\n",
              "    .colab-df-convert {\n",
              "      background-color: #E8F0FE;\n",
              "      border: none;\n",
              "      border-radius: 50%;\n",
              "      cursor: pointer;\n",
              "      display: none;\n",
              "      fill: #1967D2;\n",
              "      height: 32px;\n",
              "      padding: 0 0 0 0;\n",
              "      width: 32px;\n",
              "    }\n",
              "\n",
              "    .colab-df-convert:hover {\n",
              "      background-color: #E2EBFA;\n",
              "      box-shadow: 0px 1px 2px rgba(60, 64, 67, 0.3), 0px 1px 3px 1px rgba(60, 64, 67, 0.15);\n",
              "      fill: #174EA6;\n",
              "    }\n",
              "\n",
              "    .colab-df-buttons div {\n",
              "      margin-bottom: 4px;\n",
              "    }\n",
              "\n",
              "    [theme=dark] .colab-df-convert {\n",
              "      background-color: #3B4455;\n",
              "      fill: #D2E3FC;\n",
              "    }\n",
              "\n",
              "    [theme=dark] .colab-df-convert:hover {\n",
              "      background-color: #434B5C;\n",
              "      box-shadow: 0px 1px 3px 1px rgba(0, 0, 0, 0.15);\n",
              "      filter: drop-shadow(0px 1px 2px rgba(0, 0, 0, 0.3));\n",
              "      fill: #FFFFFF;\n",
              "    }\n",
              "  </style>\n",
              "\n",
              "    <script>\n",
              "      const buttonEl =\n",
              "        document.querySelector('#df-6cb976e7-6e7a-44f4-8f4a-e2d4f5f13662 button.colab-df-convert');\n",
              "      buttonEl.style.display =\n",
              "        google.colab.kernel.accessAllowed ? 'block' : 'none';\n",
              "\n",
              "      async function convertToInteractive(key) {\n",
              "        const element = document.querySelector('#df-6cb976e7-6e7a-44f4-8f4a-e2d4f5f13662');\n",
              "        const dataTable =\n",
              "          await google.colab.kernel.invokeFunction('convertToInteractive',\n",
              "                                                    [key], {});\n",
              "        if (!dataTable) return;\n",
              "\n",
              "        const docLinkHtml = 'Like what you see? Visit the ' +\n",
              "          '<a target=\"_blank\" href=https://colab.research.google.com/notebooks/data_table.ipynb>data table notebook</a>'\n",
              "          + ' to learn more about interactive tables.';\n",
              "        element.innerHTML = '';\n",
              "        dataTable['output_type'] = 'display_data';\n",
              "        await google.colab.output.renderOutput(dataTable, element);\n",
              "        const docLink = document.createElement('div');\n",
              "        docLink.innerHTML = docLinkHtml;\n",
              "        element.appendChild(docLink);\n",
              "      }\n",
              "    </script>\n",
              "  </div>\n",
              "\n",
              "\n",
              "<div id=\"df-3fc8be39-ef77-4a44-a889-a105e7d058b6\">\n",
              "  <button class=\"colab-df-quickchart\" onclick=\"quickchart('df-3fc8be39-ef77-4a44-a889-a105e7d058b6')\"\n",
              "            title=\"Suggest charts\"\n",
              "            style=\"display:none;\">\n",
              "\n",
              "<svg xmlns=\"http://www.w3.org/2000/svg\" height=\"24px\"viewBox=\"0 0 24 24\"\n",
              "     width=\"24px\">\n",
              "    <g>\n",
              "        <path d=\"M19 3H5c-1.1 0-2 .9-2 2v14c0 1.1.9 2 2 2h14c1.1 0 2-.9 2-2V5c0-1.1-.9-2-2-2zM9 17H7v-7h2v7zm4 0h-2V7h2v10zm4 0h-2v-4h2v4z\"/>\n",
              "    </g>\n",
              "</svg>\n",
              "  </button>\n",
              "\n",
              "<style>\n",
              "  .colab-df-quickchart {\n",
              "      --bg-color: #E8F0FE;\n",
              "      --fill-color: #1967D2;\n",
              "      --hover-bg-color: #E2EBFA;\n",
              "      --hover-fill-color: #174EA6;\n",
              "      --disabled-fill-color: #AAA;\n",
              "      --disabled-bg-color: #DDD;\n",
              "  }\n",
              "\n",
              "  [theme=dark] .colab-df-quickchart {\n",
              "      --bg-color: #3B4455;\n",
              "      --fill-color: #D2E3FC;\n",
              "      --hover-bg-color: #434B5C;\n",
              "      --hover-fill-color: #FFFFFF;\n",
              "      --disabled-bg-color: #3B4455;\n",
              "      --disabled-fill-color: #666;\n",
              "  }\n",
              "\n",
              "  .colab-df-quickchart {\n",
              "    background-color: var(--bg-color);\n",
              "    border: none;\n",
              "    border-radius: 50%;\n",
              "    cursor: pointer;\n",
              "    display: none;\n",
              "    fill: var(--fill-color);\n",
              "    height: 32px;\n",
              "    padding: 0;\n",
              "    width: 32px;\n",
              "  }\n",
              "\n",
              "  .colab-df-quickchart:hover {\n",
              "    background-color: var(--hover-bg-color);\n",
              "    box-shadow: 0 1px 2px rgba(60, 64, 67, 0.3), 0 1px 3px 1px rgba(60, 64, 67, 0.15);\n",
              "    fill: var(--button-hover-fill-color);\n",
              "  }\n",
              "\n",
              "  .colab-df-quickchart-complete:disabled,\n",
              "  .colab-df-quickchart-complete:disabled:hover {\n",
              "    background-color: var(--disabled-bg-color);\n",
              "    fill: var(--disabled-fill-color);\n",
              "    box-shadow: none;\n",
              "  }\n",
              "\n",
              "  .colab-df-spinner {\n",
              "    border: 2px solid var(--fill-color);\n",
              "    border-color: transparent;\n",
              "    border-bottom-color: var(--fill-color);\n",
              "    animation:\n",
              "      spin 1s steps(1) infinite;\n",
              "  }\n",
              "\n",
              "  @keyframes spin {\n",
              "    0% {\n",
              "      border-color: transparent;\n",
              "      border-bottom-color: var(--fill-color);\n",
              "      border-left-color: var(--fill-color);\n",
              "    }\n",
              "    20% {\n",
              "      border-color: transparent;\n",
              "      border-left-color: var(--fill-color);\n",
              "      border-top-color: var(--fill-color);\n",
              "    }\n",
              "    30% {\n",
              "      border-color: transparent;\n",
              "      border-left-color: var(--fill-color);\n",
              "      border-top-color: var(--fill-color);\n",
              "      border-right-color: var(--fill-color);\n",
              "    }\n",
              "    40% {\n",
              "      border-color: transparent;\n",
              "      border-right-color: var(--fill-color);\n",
              "      border-top-color: var(--fill-color);\n",
              "    }\n",
              "    60% {\n",
              "      border-color: transparent;\n",
              "      border-right-color: var(--fill-color);\n",
              "    }\n",
              "    80% {\n",
              "      border-color: transparent;\n",
              "      border-right-color: var(--fill-color);\n",
              "      border-bottom-color: var(--fill-color);\n",
              "    }\n",
              "    90% {\n",
              "      border-color: transparent;\n",
              "      border-bottom-color: var(--fill-color);\n",
              "    }\n",
              "  }\n",
              "</style>\n",
              "\n",
              "  <script>\n",
              "    async function quickchart(key) {\n",
              "      const quickchartButtonEl =\n",
              "        document.querySelector('#' + key + ' button');\n",
              "      quickchartButtonEl.disabled = true;  // To prevent multiple clicks.\n",
              "      quickchartButtonEl.classList.add('colab-df-spinner');\n",
              "      try {\n",
              "        const charts = await google.colab.kernel.invokeFunction(\n",
              "            'suggestCharts', [key], {});\n",
              "      } catch (error) {\n",
              "        console.error('Error during call to suggestCharts:', error);\n",
              "      }\n",
              "      quickchartButtonEl.classList.remove('colab-df-spinner');\n",
              "      quickchartButtonEl.classList.add('colab-df-quickchart-complete');\n",
              "    }\n",
              "    (() => {\n",
              "      let quickchartButtonEl =\n",
              "        document.querySelector('#df-3fc8be39-ef77-4a44-a889-a105e7d058b6 button');\n",
              "      quickchartButtonEl.style.display =\n",
              "        google.colab.kernel.accessAllowed ? 'block' : 'none';\n",
              "    })();\n",
              "  </script>\n",
              "</div>\n",
              "    </div>\n",
              "  </div>\n"
            ]
          },
          "metadata": {},
          "execution_count": 18
        }
      ]
    },
    {
      "cell_type": "code",
      "source": [
        "shuffle_nb.head(5) # show the first 5 rows from the shuffled dataset for naive bayes"
      ],
      "metadata": {
        "colab": {
          "base_uri": "https://localhost:8080/",
          "height": 206
        },
        "id": "hZuVKTgPUHz1",
        "outputId": "54b4fc9a-bf13-404c-b92e-5153a2de34b0"
      },
      "execution_count": null,
      "outputs": [
        {
          "output_type": "execute_result",
          "data": {
            "text/plain": [
              "      buying  maint  doors  persons  lug_boot  safety  class\n",
              "1548       3      2      1        1         0       0  unacc\n",
              "423        0      3      3        2         0       0  unacc\n",
              "868        2      0      0        0         1       1  unacc\n",
              "110        0      1      0        0         0       2  unacc\n",
              "1531       3      2      0        2         0       1  unacc"
            ],
            "text/html": [
              "\n",
              "  <div id=\"df-6330e109-57cf-4833-a005-fb9253c5ab12\" class=\"colab-df-container\">\n",
              "    <div>\n",
              "<style scoped>\n",
              "    .dataframe tbody tr th:only-of-type {\n",
              "        vertical-align: middle;\n",
              "    }\n",
              "\n",
              "    .dataframe tbody tr th {\n",
              "        vertical-align: top;\n",
              "    }\n",
              "\n",
              "    .dataframe thead th {\n",
              "        text-align: right;\n",
              "    }\n",
              "</style>\n",
              "<table border=\"1\" class=\"dataframe\">\n",
              "  <thead>\n",
              "    <tr style=\"text-align: right;\">\n",
              "      <th></th>\n",
              "      <th>buying</th>\n",
              "      <th>maint</th>\n",
              "      <th>doors</th>\n",
              "      <th>persons</th>\n",
              "      <th>lug_boot</th>\n",
              "      <th>safety</th>\n",
              "      <th>class</th>\n",
              "    </tr>\n",
              "  </thead>\n",
              "  <tbody>\n",
              "    <tr>\n",
              "      <th>1548</th>\n",
              "      <td>3</td>\n",
              "      <td>2</td>\n",
              "      <td>1</td>\n",
              "      <td>1</td>\n",
              "      <td>0</td>\n",
              "      <td>0</td>\n",
              "      <td>unacc</td>\n",
              "    </tr>\n",
              "    <tr>\n",
              "      <th>423</th>\n",
              "      <td>0</td>\n",
              "      <td>3</td>\n",
              "      <td>3</td>\n",
              "      <td>2</td>\n",
              "      <td>0</td>\n",
              "      <td>0</td>\n",
              "      <td>unacc</td>\n",
              "    </tr>\n",
              "    <tr>\n",
              "      <th>868</th>\n",
              "      <td>2</td>\n",
              "      <td>0</td>\n",
              "      <td>0</td>\n",
              "      <td>0</td>\n",
              "      <td>1</td>\n",
              "      <td>1</td>\n",
              "      <td>unacc</td>\n",
              "    </tr>\n",
              "    <tr>\n",
              "      <th>110</th>\n",
              "      <td>0</td>\n",
              "      <td>1</td>\n",
              "      <td>0</td>\n",
              "      <td>0</td>\n",
              "      <td>0</td>\n",
              "      <td>2</td>\n",
              "      <td>unacc</td>\n",
              "    </tr>\n",
              "    <tr>\n",
              "      <th>1531</th>\n",
              "      <td>3</td>\n",
              "      <td>2</td>\n",
              "      <td>0</td>\n",
              "      <td>2</td>\n",
              "      <td>0</td>\n",
              "      <td>1</td>\n",
              "      <td>unacc</td>\n",
              "    </tr>\n",
              "  </tbody>\n",
              "</table>\n",
              "</div>\n",
              "    <div class=\"colab-df-buttons\">\n",
              "\n",
              "  <div class=\"colab-df-container\">\n",
              "    <button class=\"colab-df-convert\" onclick=\"convertToInteractive('df-6330e109-57cf-4833-a005-fb9253c5ab12')\"\n",
              "            title=\"Convert this dataframe to an interactive table.\"\n",
              "            style=\"display:none;\">\n",
              "\n",
              "  <svg xmlns=\"http://www.w3.org/2000/svg\" height=\"24px\" viewBox=\"0 -960 960 960\">\n",
              "    <path d=\"M120-120v-720h720v720H120Zm60-500h600v-160H180v160Zm220 220h160v-160H400v160Zm0 220h160v-160H400v160ZM180-400h160v-160H180v160Zm440 0h160v-160H620v160ZM180-180h160v-160H180v160Zm440 0h160v-160H620v160Z\"/>\n",
              "  </svg>\n",
              "    </button>\n",
              "\n",
              "  <style>\n",
              "    .colab-df-container {\n",
              "      display:flex;\n",
              "      gap: 12px;\n",
              "    }\n",
              "\n",
              "    .colab-df-convert {\n",
              "      background-color: #E8F0FE;\n",
              "      border: none;\n",
              "      border-radius: 50%;\n",
              "      cursor: pointer;\n",
              "      display: none;\n",
              "      fill: #1967D2;\n",
              "      height: 32px;\n",
              "      padding: 0 0 0 0;\n",
              "      width: 32px;\n",
              "    }\n",
              "\n",
              "    .colab-df-convert:hover {\n",
              "      background-color: #E2EBFA;\n",
              "      box-shadow: 0px 1px 2px rgba(60, 64, 67, 0.3), 0px 1px 3px 1px rgba(60, 64, 67, 0.15);\n",
              "      fill: #174EA6;\n",
              "    }\n",
              "\n",
              "    .colab-df-buttons div {\n",
              "      margin-bottom: 4px;\n",
              "    }\n",
              "\n",
              "    [theme=dark] .colab-df-convert {\n",
              "      background-color: #3B4455;\n",
              "      fill: #D2E3FC;\n",
              "    }\n",
              "\n",
              "    [theme=dark] .colab-df-convert:hover {\n",
              "      background-color: #434B5C;\n",
              "      box-shadow: 0px 1px 3px 1px rgba(0, 0, 0, 0.15);\n",
              "      filter: drop-shadow(0px 1px 2px rgba(0, 0, 0, 0.3));\n",
              "      fill: #FFFFFF;\n",
              "    }\n",
              "  </style>\n",
              "\n",
              "    <script>\n",
              "      const buttonEl =\n",
              "        document.querySelector('#df-6330e109-57cf-4833-a005-fb9253c5ab12 button.colab-df-convert');\n",
              "      buttonEl.style.display =\n",
              "        google.colab.kernel.accessAllowed ? 'block' : 'none';\n",
              "\n",
              "      async function convertToInteractive(key) {\n",
              "        const element = document.querySelector('#df-6330e109-57cf-4833-a005-fb9253c5ab12');\n",
              "        const dataTable =\n",
              "          await google.colab.kernel.invokeFunction('convertToInteractive',\n",
              "                                                    [key], {});\n",
              "        if (!dataTable) return;\n",
              "\n",
              "        const docLinkHtml = 'Like what you see? Visit the ' +\n",
              "          '<a target=\"_blank\" href=https://colab.research.google.com/notebooks/data_table.ipynb>data table notebook</a>'\n",
              "          + ' to learn more about interactive tables.';\n",
              "        element.innerHTML = '';\n",
              "        dataTable['output_type'] = 'display_data';\n",
              "        await google.colab.output.renderOutput(dataTable, element);\n",
              "        const docLink = document.createElement('div');\n",
              "        docLink.innerHTML = docLinkHtml;\n",
              "        element.appendChild(docLink);\n",
              "      }\n",
              "    </script>\n",
              "  </div>\n",
              "\n",
              "\n",
              "<div id=\"df-5bb2fc75-7c82-42ea-a19c-a5242063c50b\">\n",
              "  <button class=\"colab-df-quickchart\" onclick=\"quickchart('df-5bb2fc75-7c82-42ea-a19c-a5242063c50b')\"\n",
              "            title=\"Suggest charts\"\n",
              "            style=\"display:none;\">\n",
              "\n",
              "<svg xmlns=\"http://www.w3.org/2000/svg\" height=\"24px\"viewBox=\"0 0 24 24\"\n",
              "     width=\"24px\">\n",
              "    <g>\n",
              "        <path d=\"M19 3H5c-1.1 0-2 .9-2 2v14c0 1.1.9 2 2 2h14c1.1 0 2-.9 2-2V5c0-1.1-.9-2-2-2zM9 17H7v-7h2v7zm4 0h-2V7h2v10zm4 0h-2v-4h2v4z\"/>\n",
              "    </g>\n",
              "</svg>\n",
              "  </button>\n",
              "\n",
              "<style>\n",
              "  .colab-df-quickchart {\n",
              "      --bg-color: #E8F0FE;\n",
              "      --fill-color: #1967D2;\n",
              "      --hover-bg-color: #E2EBFA;\n",
              "      --hover-fill-color: #174EA6;\n",
              "      --disabled-fill-color: #AAA;\n",
              "      --disabled-bg-color: #DDD;\n",
              "  }\n",
              "\n",
              "  [theme=dark] .colab-df-quickchart {\n",
              "      --bg-color: #3B4455;\n",
              "      --fill-color: #D2E3FC;\n",
              "      --hover-bg-color: #434B5C;\n",
              "      --hover-fill-color: #FFFFFF;\n",
              "      --disabled-bg-color: #3B4455;\n",
              "      --disabled-fill-color: #666;\n",
              "  }\n",
              "\n",
              "  .colab-df-quickchart {\n",
              "    background-color: var(--bg-color);\n",
              "    border: none;\n",
              "    border-radius: 50%;\n",
              "    cursor: pointer;\n",
              "    display: none;\n",
              "    fill: var(--fill-color);\n",
              "    height: 32px;\n",
              "    padding: 0;\n",
              "    width: 32px;\n",
              "  }\n",
              "\n",
              "  .colab-df-quickchart:hover {\n",
              "    background-color: var(--hover-bg-color);\n",
              "    box-shadow: 0 1px 2px rgba(60, 64, 67, 0.3), 0 1px 3px 1px rgba(60, 64, 67, 0.15);\n",
              "    fill: var(--button-hover-fill-color);\n",
              "  }\n",
              "\n",
              "  .colab-df-quickchart-complete:disabled,\n",
              "  .colab-df-quickchart-complete:disabled:hover {\n",
              "    background-color: var(--disabled-bg-color);\n",
              "    fill: var(--disabled-fill-color);\n",
              "    box-shadow: none;\n",
              "  }\n",
              "\n",
              "  .colab-df-spinner {\n",
              "    border: 2px solid var(--fill-color);\n",
              "    border-color: transparent;\n",
              "    border-bottom-color: var(--fill-color);\n",
              "    animation:\n",
              "      spin 1s steps(1) infinite;\n",
              "  }\n",
              "\n",
              "  @keyframes spin {\n",
              "    0% {\n",
              "      border-color: transparent;\n",
              "      border-bottom-color: var(--fill-color);\n",
              "      border-left-color: var(--fill-color);\n",
              "    }\n",
              "    20% {\n",
              "      border-color: transparent;\n",
              "      border-left-color: var(--fill-color);\n",
              "      border-top-color: var(--fill-color);\n",
              "    }\n",
              "    30% {\n",
              "      border-color: transparent;\n",
              "      border-left-color: var(--fill-color);\n",
              "      border-top-color: var(--fill-color);\n",
              "      border-right-color: var(--fill-color);\n",
              "    }\n",
              "    40% {\n",
              "      border-color: transparent;\n",
              "      border-right-color: var(--fill-color);\n",
              "      border-top-color: var(--fill-color);\n",
              "    }\n",
              "    60% {\n",
              "      border-color: transparent;\n",
              "      border-right-color: var(--fill-color);\n",
              "    }\n",
              "    80% {\n",
              "      border-color: transparent;\n",
              "      border-right-color: var(--fill-color);\n",
              "      border-bottom-color: var(--fill-color);\n",
              "    }\n",
              "    90% {\n",
              "      border-color: transparent;\n",
              "      border-bottom-color: var(--fill-color);\n",
              "    }\n",
              "  }\n",
              "</style>\n",
              "\n",
              "  <script>\n",
              "    async function quickchart(key) {\n",
              "      const quickchartButtonEl =\n",
              "        document.querySelector('#' + key + ' button');\n",
              "      quickchartButtonEl.disabled = true;  // To prevent multiple clicks.\n",
              "      quickchartButtonEl.classList.add('colab-df-spinner');\n",
              "      try {\n",
              "        const charts = await google.colab.kernel.invokeFunction(\n",
              "            'suggestCharts', [key], {});\n",
              "      } catch (error) {\n",
              "        console.error('Error during call to suggestCharts:', error);\n",
              "      }\n",
              "      quickchartButtonEl.classList.remove('colab-df-spinner');\n",
              "      quickchartButtonEl.classList.add('colab-df-quickchart-complete');\n",
              "    }\n",
              "    (() => {\n",
              "      let quickchartButtonEl =\n",
              "        document.querySelector('#df-5bb2fc75-7c82-42ea-a19c-a5242063c50b button');\n",
              "      quickchartButtonEl.style.display =\n",
              "        google.colab.kernel.accessAllowed ? 'block' : 'none';\n",
              "    })();\n",
              "  </script>\n",
              "</div>\n",
              "    </div>\n",
              "  </div>\n"
            ]
          },
          "metadata": {},
          "execution_count": 19
        }
      ]
    },
    {
      "cell_type": "markdown",
      "source": [
        "As we can observe, the datasets are shuffled in the same amount."
      ],
      "metadata": {
        "id": "FGArFbtaUOpa"
      }
    },
    {
      "cell_type": "markdown",
      "source": [
        "####**ii. Spilt the data set into Training data and Test data**"
      ],
      "metadata": {
        "id": "jWngiyCv0a1u"
      }
    },
    {
      "cell_type": "markdown",
      "source": [
        "Split the data such that 2/3 is used for training set and 1/3 is used for testing set.\n",
        "\n",
        "Recall that we do not use this test set when building the model, only the training set."
      ],
      "metadata": {
        "id": "X8EqOdxmSMAa"
      }
    },
    {
      "cell_type": "code",
      "source": [
        "# calculate the index at which to split the data\n",
        "split_idx = int(2/3 * len(shuffle_lr))"
      ],
      "metadata": {
        "id": "9qTRM2_S0jY9"
      },
      "execution_count": null,
      "outputs": []
    },
    {
      "cell_type": "code",
      "source": [
        "#split the data into train and test for Logistic regression\n",
        "lr_train = shuffle_lr.iloc[:split_idx]\n",
        "lr_test = shuffle_lr.iloc[split_idx:]\n",
        "\n",
        "#split the data into train and test for Naive Bayes\n",
        "nb_train = shuffle_nb.iloc[:split_idx]\n",
        "nb_test = shuffle_nb.iloc[split_idx:]"
      ],
      "metadata": {
        "id": "ElZCNaAZgOKt"
      },
      "execution_count": null,
      "outputs": []
    },
    {
      "cell_type": "markdown",
      "source": [
        "Defines the Training data and the Test data for LR"
      ],
      "metadata": {
        "id": "g6FvvQZOtq3n"
      }
    },
    {
      "cell_type": "code",
      "source": [
        "#training set (what we will use to train the model)\n",
        "lr_X = lr_train.iloc[:,1:22]\n",
        "lr_y = lr_train.iloc[:,0:1]\n",
        "\n",
        "#testing set (what we will use to test the trained model)\n",
        "X_test_lr = lr_test.iloc[:,1:22]\n",
        "y_test_lr = lr_test.iloc[:,0:1]\n",
        "\n",
        "#convert the \"class\" column into a signal array\n",
        "lr_y = lr_y.values.ravel()\n",
        "y_test_lr = y_test_lr.values.ravel()\n"
      ],
      "metadata": {
        "id": "J-iu-bUKghIe"
      },
      "execution_count": null,
      "outputs": []
    },
    {
      "cell_type": "markdown",
      "source": [
        "Defines the Training data and the Test data for NB"
      ],
      "metadata": {
        "id": "fHxbEEtayACb"
      }
    },
    {
      "cell_type": "code",
      "source": [
        "# Training set (what we will use to train the model)\n",
        "nb_X = nb_train.iloc[:, 0:6]\n",
        "nb_y = nb_train.iloc[:, 6:7]\n",
        "\n",
        "\n",
        "# Testing set (what we will use to test the trained model)\n",
        "X_test_nb = nb_test.iloc[:, 0:6]\n",
        "y_test_nb = nb_test.iloc[:, 6:7]\n",
        "\n",
        "# convert the \"class\" column into a signal array\n",
        "nb_y = nb_y.values.ravel()\n",
        "y_test_nb = y_test_nb.values.ravel()"
      ],
      "metadata": {
        "id": "Wnnaj3cTyAx0"
      },
      "execution_count": null,
      "outputs": []
    },
    {
      "cell_type": "markdown",
      "source": [
        "Observer the shape of the train and test datasets that we will be using for the classification test."
      ],
      "metadata": {
        "id": "V4TaSH3zVVfH"
      }
    },
    {
      "cell_type": "code",
      "source": [
        "# get the number of samples we are using for training and testing\n",
        "print(\"Train data size: \", lr_y.size)\n",
        "print(\"Test data size: \", y_test_nb.size)\n",
        "\n",
        "print()\n",
        "\n",
        "# display the class distrpution of the training set\n",
        "print(\"Class distrpution on training set\")\n",
        "# count number of elements in each classes in the training set\n",
        "unique_elements, counts = np.unique(nb_y, return_counts=True)\n",
        "# store the result into a dictionary\n",
        "result = dict(zip(unique_elements, counts))\n",
        "print(result)\n",
        "\n",
        "print()\n",
        "\n",
        "print(\"Class distrpution on testing set\")\n",
        "# count number of elements in each classes in the training set\n",
        "unique_elements, counts = np.unique(y_test_nb, return_counts=True)\n",
        "# store the result into a dictionary\n",
        "result = dict(zip(unique_elements, counts))\n",
        "print(result)\n"
      ],
      "metadata": {
        "colab": {
          "base_uri": "https://localhost:8080/"
        },
        "id": "dCR5OL_6ukjk",
        "outputId": "cddbde73-c92b-4c81-97a6-3ee5de689f9e"
      },
      "execution_count": null,
      "outputs": [
        {
          "output_type": "stream",
          "name": "stdout",
          "text": [
            "Train data size:  1152\n",
            "Test data size:  576\n",
            "\n",
            "Class distrpution on training set\n",
            "{'acc': 256, 'good': 43, 'unacc': 813, 'vgood': 40}\n",
            "\n",
            "Class distrpution on testing set\n",
            "{'acc': 128, 'good': 26, 'unacc': 397, 'vgood': 25}\n"
          ]
        }
      ]
    },
    {
      "cell_type": "markdown",
      "source": [
        "We observed a 2:1 ratio between the same class of training and testing, indicating successful class distribution after shuffling."
      ],
      "metadata": {
        "id": "b8z9VRtAMOB3"
      }
    },
    {
      "cell_type": "markdown",
      "source": [
        "####**iii. Defines 4-fold**"
      ],
      "metadata": {
        "id": "qjb2JnoDy-f5"
      }
    },
    {
      "cell_type": "markdown",
      "source": [
        "The following function utilize a 4-fold cross-validation technique."
      ],
      "metadata": {
        "id": "Y33x0zTQsYUa"
      }
    },
    {
      "cell_type": "code",
      "source": [
        "# Define the 4-Folds cross-validator without shuffle the samples before applying 4-fold\n",
        "kfold = KFold(n_splits=4, shuffle=False)\n",
        "\n",
        "# An array that store the accuracy for each test\n",
        "accuracy = []\n",
        "\n",
        "def train(model, X, y):\n",
        "  '''\n",
        "    The train function train the model using 4-fold cross-validation.\n",
        "    Perform the cross-validation 4 times with each time splitting the data into 4 folds,\n",
        "    3 folds (3/4 of the data) are use to train and 1 fold (1/4 of the data) is use to test.\n",
        "    Each time it will use a different fold for validation set.\n",
        "\n",
        "    Parameters\n",
        "    ----------\n",
        "    model: The learning model that function is going to train using the 4-fold.\n",
        "\n",
        "    X: The dataframe that contains the features for each sample\n",
        "\n",
        "    y: The array that contains the class for each sample\n",
        "\n",
        "    Returns\n",
        "    ----------\n",
        "    The average accuracy of the 4-fold on validation set\n",
        "\n",
        "  '''\n",
        "\n",
        "  # the 'train_index' contains the index rows for train fold that we are using to train our model\n",
        "  # the 'val_index' contains the index rows for validation sets that we are using to test our model\n",
        "  for train_index, val_index in kfold.split(X):\n",
        "\n",
        "      # X_train contains the features data for trainings and y_train contains the class for the trainings\n",
        "      X_train, y_train = X.iloc[train_index], y[train_index]\n",
        "\n",
        "      # X_train contains the features data for validation set and y_train contains the class for the testing\n",
        "      X_val, y_val = X.iloc[val_index], y[val_index]\n",
        "\n",
        "      # Fit the model with the train fold\n",
        "      model.fit(X_train, y_train)\n",
        "\n",
        "      # Evaluate the model using the test fold\n",
        "      y_pred = model.predict(X_val)\n",
        "\n",
        "      # Get the accuracy for the current fold\n",
        "      acc = accuracy_score(y_val, y_pred)\n",
        "\n",
        "      # Append the result into an array\n",
        "      accuracy.append(acc)\n",
        "\n",
        "  # Calculate the accuracy for all the folds\n",
        "  return sum(accuracy) / len(accuracy)\n"
      ],
      "metadata": {
        "id": "ZxjM19LbQAmC"
      },
      "execution_count": null,
      "outputs": []
    },
    {
      "cell_type": "markdown",
      "source": [
        "###**b. Perform an evaluation with precision/recall measures on testing**\n"
      ],
      "metadata": {
        "id": "mv_4b14S5pcC"
      }
    },
    {
      "cell_type": "markdown",
      "source": [
        "The performance will be evaluated by precision/recall and the micro and macro average on precision/recall."
      ],
      "metadata": {
        "id": "eOV0mfGSZtjN"
      }
    },
    {
      "cell_type": "markdown",
      "source": [
        "<img src=\"https://classeval.files.wordpress.com/2015/06/evaluation-measures-for-precision-recall.png?w=460\"></img>\n",
        "\n",
        "Source: https://classeval.wordpress.com/introduction/introduction-to-the-precision-recall-plot/"
      ],
      "metadata": {
        "id": "L0UxRv1HQsyv"
      }
    },
    {
      "cell_type": "markdown",
      "source": [
        "Precision is the total number of times the system makes a true positives (predict `A` when the actual is `A`) divide by the total amount of times the system predicted `A`(no matter correct or wrong)."
      ],
      "metadata": {
        "id": "48Gw2BT7ecIE"
      }
    },
    {
      "cell_type": "markdown",
      "source": [
        "Recall is the total number of times the system makes a true positives (predict `A` when the actual is `A`) divide by the total amount of times the system predicted `A` correctly plus the times the system should predict `A`(predict negative on positive)."
      ],
      "metadata": {
        "id": "GtfISHhffBxT"
      }
    },
    {
      "cell_type": "markdown",
      "source": [
        "\n",
        "\n",
        "\\begin{equation}\n",
        "\\text{Precision}_{Ci} = \\frac{\\text{True Positives}_{Ci}}{\\text{True Positives}_{Ci} + \\text{False Positives}_{Ci}}\n",
        "\\end{equation}\n",
        "\n",
        "\\begin{equation}\n",
        "\\text{Recall}_{Ci} = \\frac{\\text{True Positives}_{C}}{\\text{True Positives}_{Ci} + \\text{False Negatives}_{Ci}}\n",
        "\\end{equation}\n"
      ],
      "metadata": {
        "id": "RZYxV7I5081w"
      }
    },
    {
      "cell_type": "markdown",
      "source": [
        "![Precision_recall_Representation_1052507280.png](data:image/png;base64,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)\n",
        "\n",
        "<footnote>Source: https://www.datacamp.com/tutorial/precision-recall-curve-tutorial</footnote>"
      ],
      "metadata": {
        "id": "H0gwOep3FoFG"
      }
    },
    {
      "cell_type": "markdown",
      "source": [
        "Recall that Micro-average is average when putting all the data together, which is the sum of TP for each class divided by the sum of TP and FP/FN.\n",
        "\n",
        "\n",
        "\\begin{equation}\n",
        "\\text{Micro-Averaged Precision} = \\frac{\\sum_{i=1}^{N} \\text{True Positives}_{Ci}}{\\sum_{i=1}^{N} (\\text{True Positives}_{Ci} + \\text{False Positives}_{Ci})}\n",
        "\\end{equation}\n",
        "\n",
        "\\begin{equation}\n",
        "\\text{Micro-Averaged Recall} = \\frac{\\sum_{i=1}^{N} \\text{True Positives}_{Ci}}{\\sum_{i=1}^{N} (\\text{True Positives}_{Ci} + \\text{False Negatives}_{Ci})}\n",
        "\\end{equation}\n",
        "\n",
        "\n",
        "Macro-average, the average on the results per class, which is summing all the pre class precisions/recalls and divided by the total number of classes.\n",
        "\n",
        "\\begin{equation}\n",
        "\\text{Macro-Averaged Precision} = \\frac{1}{N} \\sum_{i=1}^{N} \\text{Precision}_{Ci}\n",
        "\\end{equation}\n",
        "\n",
        "\\begin{equation}\n",
        "\\text{Macro-Averaged Recall} = \\frac{1}{N} \\sum_{i=1}^{N} \\text{Recall}_{Ci}\n",
        "\\end{equation}\n",
        "\n",
        "\n",
        "\\begin{align*}\n",
        "N & : \\text{Number of classes}\n",
        "\\end{align*}\n",
        "\n",
        "\n",
        "\n",
        "\n"
      ],
      "metadata": {
        "id": "KxzGZtEwMPdS"
      }
    },
    {
      "cell_type": "markdown",
      "source": [
        "####**i. Logistic Regression Model**"
      ],
      "metadata": {
        "id": "6FHGgvQj_F4S"
      }
    },
    {
      "cell_type": "markdown",
      "source": [
        "#####**Train and Test**"
      ],
      "metadata": {
        "id": "Wlr3gM_WPD_w"
      }
    },
    {
      "cell_type": "markdown",
      "source": [
        "**Train**"
      ],
      "metadata": {
        "id": "wGXFNiCtRnbl"
      }
    },
    {
      "cell_type": "code",
      "source": [
        "ave_accuracy_lr = train(ModelLR, lr_X, lr_y) # train the model using 4-fold\n",
        "print(\"Average accuracy:\", ave_accuracy_lr) # print average accuracy"
      ],
      "metadata": {
        "colab": {
          "base_uri": "https://localhost:8080/"
        },
        "id": "2HlMj0b7Rodk",
        "outputId": "6fb2e36f-87c8-4f9c-c95f-75359f255c22"
      },
      "execution_count": null,
      "outputs": [
        {
          "output_type": "stream",
          "name": "stdout",
          "text": [
            "Average accuracy: 0.9157986111111112\n"
          ]
        }
      ]
    },
    {
      "cell_type": "markdown",
      "source": [
        "**Test**"
      ],
      "metadata": {
        "id": "4tM88-RWsMdn"
      }
    },
    {
      "cell_type": "code",
      "source": [
        "y_pred_lr = ModelLR.predict(X_test_lr) # evaluate the model using test set\n",
        "cm_lr = confusion_matrix(y_test_lr, y_pred_lr) # define a confusion matrix on the result"
      ],
      "metadata": {
        "id": "9ROZXY1JQlHN"
      },
      "execution_count": null,
      "outputs": []
    },
    {
      "cell_type": "markdown",
      "source": [
        "**Defined ConfusionMatrix**"
      ],
      "metadata": {
        "id": "1Vi4ICyjp6P5"
      }
    },
    {
      "cell_type": "code",
      "source": [
        "disp = ConfusionMatrixDisplay(confusion_matrix=cm_lr, display_labels=ModelLR.classes_) # Display Confusion Matrix\n",
        "disp.plot()"
      ],
      "metadata": {
        "colab": {
          "base_uri": "https://localhost:8080/",
          "height": 466
        },
        "id": "_4noISQYBCXc",
        "outputId": "f0a16385-3832-4001-eba1-dbe81fbf8144"
      },
      "execution_count": null,
      "outputs": [
        {
          "output_type": "execute_result",
          "data": {
            "text/plain": [
              "<sklearn.metrics._plot.confusion_matrix.ConfusionMatrixDisplay at 0x7c42e9f977c0>"
            ]
          },
          "metadata": {},
          "execution_count": 308
        },
        {
          "output_type": "display_data",
          "data": {
            "text/plain": [
              "<Figure size 640x480 with 2 Axes>"
            ],
            "image/png": "[encoded data removed]"
          },
          "metadata": {}
        }
      ]
    },
    {
      "cell_type": "markdown",
      "source": [
        "We can see that we miss a lot of positive predictions on class good, which will cost the recall score on class good becomes low."
      ],
      "metadata": {
        "id": "zwQrj4b7qvbG"
      }
    },
    {
      "cell_type": "code",
      "source": [
        "accuracy_lr = sk.metrics.accuracy_score(y_test_lr, y_pred_lr) # the overall accuracy score on test set\n",
        "accuracy_lr"
      ],
      "metadata": {
        "colab": {
          "base_uri": "https://localhost:8080/"
        },
        "id": "wnvbibzXPFbw",
        "outputId": "a9180bb8-3d12-44c8-e1fc-af689c0bb40c"
      },
      "execution_count": null,
      "outputs": [
        {
          "output_type": "execute_result",
          "data": {
            "text/plain": [
              "0.8836805555555556"
            ]
          },
          "metadata": {},
          "execution_count": 309
        }
      ]
    },
    {
      "cell_type": "markdown",
      "source": [
        "#####**Evaluation**\n"
      ],
      "metadata": {
        "id": "Vs8WRM0VmSVg"
      }
    },
    {
      "cell_type": "markdown",
      "source": [
        "\n",
        "\n",
        "######**Precision and Recalls**\n",
        "\n",
        "\n",
        "\n"
      ],
      "metadata": {
        "id": "gRglHWaujgZ3"
      }
    },
    {
      "cell_type": "code",
      "source": [
        "labels = unique_labels(y_test_lr, y_pred_lr) #generate all the class labels"
      ],
      "metadata": {
        "id": "0_QIdHX8jmM3"
      },
      "execution_count": null,
      "outputs": []
    },
    {
      "cell_type": "markdown",
      "source": [
        "- **Per class precisions**"
      ],
      "metadata": {
        "id": "8zpZQJoSjtOp"
      }
    },
    {
      "cell_type": "code",
      "source": [
        "#define the precision score on every class\n",
        "precisions_lr = precision_score(y_test_lr, y_pred_lr, average=None)\n",
        "#print precision for each class\n",
        "for label, precision in zip(labels, precisions_lr):\n",
        "    print(f'Precision for class {label}: {precision}')"
      ],
      "metadata": {
        "colab": {
          "base_uri": "https://localhost:8080/"
        },
        "id": "Qa3TiUAyjqtJ",
        "outputId": "088b8f82-8b15-4755-bd8c-d85bffb80d42"
      },
      "execution_count": null,
      "outputs": [
        {
          "output_type": "stream",
          "name": "stdout",
          "text": [
            "Precision for class acc: 0.6967741935483871\n",
            "Precision for class good: 0.6666666666666666\n",
            "Precision for class unacc: 0.9591836734693877\n",
            "Precision for class vgood: 1.0\n"
          ]
        }
      ]
    },
    {
      "cell_type": "markdown",
      "source": [
        "- **Per class recalls**"
      ],
      "metadata": {
        "id": "AqNHW5EglsDT"
      }
    },
    {
      "cell_type": "code",
      "source": [
        "#define the recall score on every class\n",
        "recalls_lr = recall_score(y_test_lr, y_pred_lr, average=None)\n",
        "#print recall for each class\n",
        "for label, recall in zip(labels, recalls_lr):\n",
        "    print(f'Recall for class {label}: {recall}')"
      ],
      "metadata": {
        "colab": {
          "base_uri": "https://localhost:8080/"
        },
        "id": "0-M1jYfxlqxC",
        "outputId": "a9dc83a4-3329-4cb6-b8a3-1fa75d14402e"
      },
      "execution_count": null,
      "outputs": [
        {
          "output_type": "stream",
          "name": "stdout",
          "text": [
            "Recall for class acc: 0.84375\n",
            "Recall for class good: 0.3076923076923077\n",
            "Recall for class unacc: 0.947103274559194\n",
            "Recall for class vgood: 0.68\n"
          ]
        }
      ]
    },
    {
      "cell_type": "markdown",
      "source": [
        "\n",
        "######**Micro-average and Macro-average**"
      ],
      "metadata": {
        "id": "3R3HEM7uORvl"
      }
    },
    {
      "cell_type": "markdown",
      "source": [
        "> Macro averages"
      ],
      "metadata": {
        "id": "YIF69KF01V8a"
      }
    },
    {
      "cell_type": "code",
      "source": [
        "#define the precision score on Macro averages\n",
        "macro_precision_lr = precision_score(y_test_lr, y_pred_lr, average='macro')\n",
        "#print precision score on Macro averages\n",
        "print('Precision:', macro_precision_lr)"
      ],
      "metadata": {
        "colab": {
          "base_uri": "https://localhost:8080/"
        },
        "id": "AzL-UsYmJJpu",
        "outputId": "ac21af88-f031-4562-f89c-99e369bce733"
      },
      "execution_count": null,
      "outputs": [
        {
          "output_type": "stream",
          "name": "stdout",
          "text": [
            "Precision: 0.8306561334211103\n"
          ]
        }
      ]
    },
    {
      "cell_type": "code",
      "source": [
        "#define the recall score on Macro averages\n",
        "macro_recall_lr = recall_score(y_test_lr, y_pred_lr, average='macro')\n",
        "\n",
        "print('Recall:', macro_recall_lr)"
      ],
      "metadata": {
        "colab": {
          "base_uri": "https://localhost:8080/"
        },
        "id": "esuF8CUNJ5WA",
        "outputId": "9dbcb4ec-9527-4acd-bc60-39b596306af4"
      },
      "execution_count": null,
      "outputs": [
        {
          "output_type": "stream",
          "name": "stdout",
          "text": [
            "Recall: 0.6946363955628755\n"
          ]
        }
      ]
    },
    {
      "cell_type": "markdown",
      "source": [
        "> Micro averages"
      ],
      "metadata": {
        "id": "1_ELJ50k1X5W"
      }
    },
    {
      "cell_type": "code",
      "source": [
        "#define the precision score on micro averages\n",
        "micro_precision_lr = precision_score(y_test_lr, y_pred_lr, average='micro')\n",
        "\n",
        "print('Precision:', micro_precision_lr)"
      ],
      "metadata": {
        "colab": {
          "base_uri": "https://localhost:8080/"
        },
        "id": "faZhYUpELntU",
        "outputId": "d3a42cb2-5b0c-4929-d64e-489962c8d043"
      },
      "execution_count": null,
      "outputs": [
        {
          "output_type": "stream",
          "name": "stdout",
          "text": [
            "Precision: 0.8836805555555556\n"
          ]
        }
      ]
    },
    {
      "cell_type": "code",
      "source": [
        "#define the recall score on micro averages\n",
        "micro_recall_lr = recall_score(y_test_lr, y_pred_lr, average='micro')\n",
        "\n",
        "print('Recall:', micro_recall_lr)"
      ],
      "metadata": {
        "colab": {
          "base_uri": "https://localhost:8080/"
        },
        "id": "HX7hhtrnLs2q",
        "outputId": "a34006cc-f587-4103-d92b-d99788690c41"
      },
      "execution_count": null,
      "outputs": [
        {
          "output_type": "stream",
          "name": "stdout",
          "text": [
            "Recall: 0.8836805555555556\n"
          ]
        }
      ]
    },
    {
      "cell_type": "markdown",
      "source": [
        "####**ii. Naïve Bayes Model**"
      ],
      "metadata": {
        "id": "FaH6CkdY_Gpx"
      }
    },
    {
      "cell_type": "markdown",
      "source": [
        "#####**Train and Test**"
      ],
      "metadata": {
        "id": "yAsURffdfI0Q"
      }
    },
    {
      "cell_type": "markdown",
      "source": [
        "**Train**"
      ],
      "metadata": {
        "id": "Hvu7gWcuPO0U"
      }
    },
    {
      "cell_type": "code",
      "source": [
        "ave_accuracy_nb = train(ModelNB, nb_X, nb_y) # train the model using 4-fold\n",
        "print(\"Average accuracy:\", ave_accuracy_nb) # print average accuracy"
      ],
      "metadata": {
        "colab": {
          "base_uri": "https://localhost:8080/"
        },
        "id": "fcMG0_FpSXXY",
        "outputId": "0248733c-b145-405a-d62f-be70430896d1"
      },
      "execution_count": null,
      "outputs": [
        {
          "output_type": "stream",
          "name": "stdout",
          "text": [
            "Average accuracy: 0.8858506944444444\n"
          ]
        }
      ]
    },
    {
      "cell_type": "markdown",
      "source": [
        "**Test**"
      ],
      "metadata": {
        "id": "L0QH6EmZsT8f"
      }
    },
    {
      "cell_type": "code",
      "source": [
        "y_pred_nb = ModelNB.predict(X_test_nb) # evaluate the model using test set\n",
        "cm_nb = confusion_matrix(y_test_nb, y_pred_nb) # define a confusion matrix on the result"
      ],
      "metadata": {
        "id": "RBXC6WgPrlLB"
      },
      "execution_count": null,
      "outputs": []
    },
    {
      "cell_type": "code",
      "source": [
        "disp = ConfusionMatrixDisplay(confusion_matrix=cm_nb, display_labels=ModelNB.classes_)\n",
        "disp.plot()"
      ],
      "metadata": {
        "colab": {
          "base_uri": "https://localhost:8080/",
          "height": 466
        },
        "id": "QzozwsWWsAMb",
        "outputId": "49477b98-a49b-444d-d491-ba541cac336f"
      },
      "execution_count": null,
      "outputs": [
        {
          "output_type": "execute_result",
          "data": {
            "text/plain": [
              "<sklearn.metrics._plot.confusion_matrix.ConfusionMatrixDisplay at 0x7c42e9e513f0>"
            ]
          },
          "metadata": {},
          "execution_count": 319
        },
        {
          "output_type": "display_data",
          "data": {
            "text/plain": [
              "<Figure size 640x480 with 2 Axes>"
            ],
            "image/png": "[encoded data removed]"
          },
          "metadata": {}
        }
      ]
    },
    {
      "cell_type": "code",
      "source": [
        "accuracy_nb = sk.metrics.accuracy_score(y_test_nb, y_pred_nb) # the overall accuracy score on test set\n",
        "accuracy_nb"
      ],
      "metadata": {
        "colab": {
          "base_uri": "https://localhost:8080/"
        },
        "id": "aSg2myJp1L0B",
        "outputId": "c252f909-4c65-4b42-c75a-ef122ac1fb9e"
      },
      "execution_count": null,
      "outputs": [
        {
          "output_type": "execute_result",
          "data": {
            "text/plain": [
              "0.8229166666666666"
            ]
          },
          "metadata": {},
          "execution_count": 320
        }
      ]
    },
    {
      "cell_type": "markdown",
      "source": [
        "#####**Evaluation**"
      ],
      "metadata": {
        "id": "5IFpWyqNfRnT"
      }
    },
    {
      "cell_type": "markdown",
      "source": [
        "######**Precision and Recalls**"
      ],
      "metadata": {
        "id": "sDaGInlRfRj-"
      }
    },
    {
      "cell_type": "markdown",
      "source": [
        "**Per class precisions**"
      ],
      "metadata": {
        "id": "-x01qSB7fbZx"
      }
    },
    {
      "cell_type": "code",
      "source": [
        "#define the precision score on every class\n",
        "precisions_nb = precision_score(y_test_nb, y_pred_nb, average=None)\n",
        "\n",
        "for label, precision in zip(labels, precisions_nb):\n",
        "    print(f'Precision for class {label}: {precision}')\n"
      ],
      "metadata": {
        "id": "qQaZuHuffjah",
        "colab": {
          "base_uri": "https://localhost:8080/"
        },
        "outputId": "15b48b44-e658-4d6b-e2d4-231f46e5444f"
      },
      "execution_count": null,
      "outputs": [
        {
          "output_type": "stream",
          "name": "stdout",
          "text": [
            "Precision for class acc: 0.5918367346938775\n",
            "Precision for class good: 0.375\n",
            "Precision for class unacc: 0.9114832535885168\n",
            "Precision for class vgood: 1.0\n"
          ]
        }
      ]
    },
    {
      "cell_type": "code",
      "source": [
        "#define the recall score on every class\n",
        "recalls_nb = recall_score(y_test_nb, y_pred_nb, average=None)\n",
        "\n",
        "for label, recall in zip(labels, recalls_nb):\n",
        "    print(f'Recall for class {label}: {recall}')"
      ],
      "metadata": {
        "id": "wpYc2Uo7fhOK",
        "colab": {
          "base_uri": "https://localhost:8080/"
        },
        "outputId": "30940755-04bf-4deb-f8d4-2259faa62cc8"
      },
      "execution_count": null,
      "outputs": [
        {
          "output_type": "stream",
          "name": "stdout",
          "text": [
            "Recall for class acc: 0.6796875\n",
            "Recall for class good: 0.11538461538461539\n",
            "Recall for class unacc: 0.9596977329974811\n",
            "Recall for class vgood: 0.12\n"
          ]
        }
      ]
    },
    {
      "cell_type": "markdown",
      "source": [
        "\n",
        "\n",
        "---\n",
        "\n",
        "\n",
        "######**Micro-average and Macro-average**"
      ],
      "metadata": {
        "id": "wUQWiSiZ1O3H"
      }
    },
    {
      "cell_type": "markdown",
      "source": [
        "- Macro averages"
      ],
      "metadata": {
        "id": "52f1d9CE1cQF"
      }
    },
    {
      "cell_type": "code",
      "source": [
        "#precision\n",
        "macro_precision_nb = precision_score(y_test_nb, y_pred_nb, average='macro')\n",
        "\n",
        "print('Precision:', macro_precision_nb)"
      ],
      "metadata": {
        "colab": {
          "base_uri": "https://localhost:8080/"
        },
        "outputId": "a5fc9b63-1d63-4dd7-ea88-c74fbb848556",
        "id": "Uju7KZYt1O3K"
      },
      "execution_count": null,
      "outputs": [
        {
          "output_type": "stream",
          "name": "stdout",
          "text": [
            "Precision: 0.7195799970705986\n"
          ]
        }
      ]
    },
    {
      "cell_type": "code",
      "source": [
        "#recall\n",
        "macro_recall_nb = recall_score(y_test_nb, y_pred_nb, average='macro')\n",
        "\n",
        "print('Recall:', macro_recall_nb)"
      ],
      "metadata": {
        "colab": {
          "base_uri": "https://localhost:8080/"
        },
        "outputId": "3614fa35-fa2e-4167-d358-77eaa870879f",
        "id": "QFymQyGC1O3O"
      },
      "execution_count": null,
      "outputs": [
        {
          "output_type": "stream",
          "name": "stdout",
          "text": [
            "Recall: 0.4686924620955242\n"
          ]
        }
      ]
    },
    {
      "cell_type": "markdown",
      "source": [
        "- Micro averages"
      ],
      "metadata": {
        "id": "TLT4rhec1eFk"
      }
    },
    {
      "cell_type": "code",
      "source": [
        "#precision\n",
        "micro_precision_nb = precision_score(y_test_nb, y_pred_nb, average='micro')\n",
        "\n",
        "print('Precision:', micro_precision_nb)"
      ],
      "metadata": {
        "colab": {
          "base_uri": "https://localhost:8080/"
        },
        "outputId": "6120d897-4980-46f2-dbf4-2ede82ce647f",
        "id": "YEZQCZnW1O3M"
      },
      "execution_count": null,
      "outputs": [
        {
          "output_type": "stream",
          "name": "stdout",
          "text": [
            "Precision: 0.8229166666666666\n"
          ]
        }
      ]
    },
    {
      "cell_type": "code",
      "source": [
        "#recall\n",
        "micro_recall_nb = recall_score(y_test_nb, y_pred_nb, average='micro')\n",
        "\n",
        "print('Recall:', micro_recall_nb)"
      ],
      "metadata": {
        "colab": {
          "base_uri": "https://localhost:8080/"
        },
        "outputId": "f05bdd9d-92d5-4bf0-f18c-be1149d40a68",
        "id": "IYHss7wg1O3Q"
      },
      "execution_count": null,
      "outputs": [
        {
          "output_type": "stream",
          "name": "stdout",
          "text": [
            "Recall: 0.8229166666666666\n"
          ]
        }
      ]
    },
    {
      "cell_type": "markdown",
      "source": [
        "\n",
        "\n",
        "---\n",
        "\n"
      ],
      "metadata": {
        "id": "XsP9pKOtblNe"
      }
    },
    {
      "cell_type": "markdown",
      "source": [
        "##Define the graph"
      ],
      "metadata": {
        "id": "gwxXLZsoXnlx"
      }
    },
    {
      "cell_type": "code",
      "source": [
        "import matplotlib.pyplot as plt"
      ],
      "metadata": {
        "id": "yri9OG1Xy-qh"
      },
      "execution_count": null,
      "outputs": []
    },
    {
      "cell_type": "code",
      "source": [
        "\n",
        "# Create a DataFrame to display precision for both models\n",
        "data_Precision = {\n",
        "    'LR Precision': precisions_lr,\n",
        "    'NB Precision': precisions_nb,\n",
        "\n",
        "}\n",
        "# Create a DataFrame to display recall for both models\n",
        "data_Recall = {\n",
        "\n",
        "    'LR Recall': recalls_lr,\n",
        "    'NB Recall': recalls_nb,\n",
        "}\n",
        "#define the table for each\n",
        "df_Recall = pd.DataFrame(data_Recall, index=labels)\n",
        "df_Precision = pd.DataFrame(data_Precision, index=labels)\n",
        "\n",
        "# Create a DataFrame to display micro/macro-average for both models\n",
        "index = ['Logistic Regression Model', 'Naïve Bayes Model']\n",
        "data = {\n",
        "\n",
        "    'Pre_Mac': [macro_precision_lr,macro_precision_nb],\n",
        "    'Rec_Mac': [macro_recall_lr, macro_recall_nb],\n",
        "    'Pre_Mic': [micro_precision_lr,micro_precision_nb],\n",
        "    'Rec_Mic': [ micro_recall_lr,micro_recall_nb],\n",
        "}\n",
        "#define the table\n",
        "df_MacMic = pd.DataFrame(data, index = index)"
      ],
      "metadata": {
        "id": "k7XTqhcVz4TX"
      },
      "execution_count": null,
      "outputs": []
    },
    {
      "cell_type": "markdown",
      "source": [
        "\n",
        "\n",
        "---\n",
        "\n"
      ],
      "metadata": {
        "id": "_EgvOnqhbmvN"
      }
    },
    {
      "cell_type": "markdown",
      "source": [
        "####**iii. Comparative evaluation**"
      ],
      "metadata": {
        "id": "WY0MRZ-X4XCf"
      }
    },
    {
      "cell_type": "code",
      "source": [
        "df_Precision.T"
      ],
      "metadata": {
        "colab": {
          "base_uri": "https://localhost:8080/",
          "height": 112
        },
        "id": "YiZVCyKDcinH",
        "outputId": "1967a8f9-7013-4800-ca84-aaafecc47af8"
      },
      "execution_count": null,
      "outputs": [
        {
          "output_type": "execute_result",
          "data": {
            "text/plain": [
              "                   acc      good     unacc  vgood\n",
              "LR Precision  0.696774  0.666667  0.959184    1.0\n",
              "NB Precision  0.591837  0.375000  0.911483    1.0"
            ],
            "text/html": [
              "\n",
              "  <div id=\"df-9b91849d-4f0b-4ef5-9896-b49c5e05351c\" class=\"colab-df-container\">\n",
              "    <div>\n",
              "<style scoped>\n",
              "    .dataframe tbody tr th:only-of-type {\n",
              "        vertical-align: middle;\n",
              "    }\n",
              "\n",
              "    .dataframe tbody tr th {\n",
              "        vertical-align: top;\n",
              "    }\n",
              "\n",
              "    .dataframe thead th {\n",
              "        text-align: right;\n",
              "    }\n",
              "</style>\n",
              "<table border=\"1\" class=\"dataframe\">\n",
              "  <thead>\n",
              "    <tr style=\"text-align: right;\">\n",
              "      <th></th>\n",
              "      <th>acc</th>\n",
              "      <th>good</th>\n",
              "      <th>unacc</th>\n",
              "      <th>vgood</th>\n",
              "    </tr>\n",
              "  </thead>\n",
              "  <tbody>\n",
              "    <tr>\n",
              "      <th>LR Precision</th>\n",
              "      <td>0.696774</td>\n",
              "      <td>0.666667</td>\n",
              "      <td>0.959184</td>\n",
              "      <td>1.0</td>\n",
              "    </tr>\n",
              "    <tr>\n",
              "      <th>NB Precision</th>\n",
              "      <td>0.591837</td>\n",
              "      <td>0.375000</td>\n",
              "      <td>0.911483</td>\n",
              "      <td>1.0</td>\n",
              "    </tr>\n",
              "  </tbody>\n",
              "</table>\n",
              "</div>\n",
              "    <div class=\"colab-df-buttons\">\n",
              "\n",
              "  <div class=\"colab-df-container\">\n",
              "    <button class=\"colab-df-convert\" onclick=\"convertToInteractive('df-9b91849d-4f0b-4ef5-9896-b49c5e05351c')\"\n",
              "            title=\"Convert this dataframe to an interactive table.\"\n",
              "            style=\"display:none;\">\n",
              "\n",
              "  <svg xmlns=\"http://www.w3.org/2000/svg\" height=\"24px\" viewBox=\"0 -960 960 960\">\n",
              "    <path d=\"M120-120v-720h720v720H120Zm60-500h600v-160H180v160Zm220 220h160v-160H400v160Zm0 220h160v-160H400v160ZM180-400h160v-160H180v160Zm440 0h160v-160H620v160ZM180-180h160v-160H180v160Zm440 0h160v-160H620v160Z\"/>\n",
              "  </svg>\n",
              "    </button>\n",
              "\n",
              "  <style>\n",
              "    .colab-df-container {\n",
              "      display:flex;\n",
              "      gap: 12px;\n",
              "    }\n",
              "\n",
              "    .colab-df-convert {\n",
              "      background-color: #E8F0FE;\n",
              "      border: none;\n",
              "      border-radius: 50%;\n",
              "      cursor: pointer;\n",
              "      display: none;\n",
              "      fill: #1967D2;\n",
              "      height: 32px;\n",
              "      padding: 0 0 0 0;\n",
              "      width: 32px;\n",
              "    }\n",
              "\n",
              "    .colab-df-convert:hover {\n",
              "      background-color: #E2EBFA;\n",
              "      box-shadow: 0px 1px 2px rgba(60, 64, 67, 0.3), 0px 1px 3px 1px rgba(60, 64, 67, 0.15);\n",
              "      fill: #174EA6;\n",
              "    }\n",
              "\n",
              "    .colab-df-buttons div {\n",
              "      margin-bottom: 4px;\n",
              "    }\n",
              "\n",
              "    [theme=dark] .colab-df-convert {\n",
              "      background-color: #3B4455;\n",
              "      fill: #D2E3FC;\n",
              "    }\n",
              "\n",
              "    [theme=dark] .colab-df-convert:hover {\n",
              "      background-color: #434B5C;\n",
              "      box-shadow: 0px 1px 3px 1px rgba(0, 0, 0, 0.15);\n",
              "      filter: drop-shadow(0px 1px 2px rgba(0, 0, 0, 0.3));\n",
              "      fill: #FFFFFF;\n",
              "    }\n",
              "  </style>\n",
              "\n",
              "    <script>\n",
              "      const buttonEl =\n",
              "        document.querySelector('#df-9b91849d-4f0b-4ef5-9896-b49c5e05351c button.colab-df-convert');\n",
              "      buttonEl.style.display =\n",
              "        google.colab.kernel.accessAllowed ? 'block' : 'none';\n",
              "\n",
              "      async function convertToInteractive(key) {\n",
              "        const element = document.querySelector('#df-9b91849d-4f0b-4ef5-9896-b49c5e05351c');\n",
              "        const dataTable =\n",
              "          await google.colab.kernel.invokeFunction('convertToInteractive',\n",
              "                                                    [key], {});\n",
              "        if (!dataTable) return;\n",
              "\n",
              "        const docLinkHtml = 'Like what you see? Visit the ' +\n",
              "          '<a target=\"_blank\" href=https://colab.research.google.com/notebooks/data_table.ipynb>data table notebook</a>'\n",
              "          + ' to learn more about interactive tables.';\n",
              "        element.innerHTML = '';\n",
              "        dataTable['output_type'] = 'display_data';\n",
              "        await google.colab.output.renderOutput(dataTable, element);\n",
              "        const docLink = document.createElement('div');\n",
              "        docLink.innerHTML = docLinkHtml;\n",
              "        element.appendChild(docLink);\n",
              "      }\n",
              "    </script>\n",
              "  </div>\n",
              "\n",
              "\n",
              "<div id=\"df-37d6f0b1-976a-49a0-9f00-8a6e088e4973\">\n",
              "  <button class=\"colab-df-quickchart\" onclick=\"quickchart('df-37d6f0b1-976a-49a0-9f00-8a6e088e4973')\"\n",
              "            title=\"Suggest charts.\"\n",
              "            style=\"display:none;\">\n",
              "\n",
              "<svg xmlns=\"http://www.w3.org/2000/svg\" height=\"24px\"viewBox=\"0 0 24 24\"\n",
              "     width=\"24px\">\n",
              "    <g>\n",
              "        <path d=\"M19 3H5c-1.1 0-2 .9-2 2v14c0 1.1.9 2 2 2h14c1.1 0 2-.9 2-2V5c0-1.1-.9-2-2-2zM9 17H7v-7h2v7zm4 0h-2V7h2v10zm4 0h-2v-4h2v4z\"/>\n",
              "    </g>\n",
              "</svg>\n",
              "  </button>\n",
              "\n",
              "<style>\n",
              "  .colab-df-quickchart {\n",
              "      --bg-color: #E8F0FE;\n",
              "      --fill-color: #1967D2;\n",
              "      --hover-bg-color: #E2EBFA;\n",
              "      --hover-fill-color: #174EA6;\n",
              "      --disabled-fill-color: #AAA;\n",
              "      --disabled-bg-color: #DDD;\n",
              "  }\n",
              "\n",
              "  [theme=dark] .colab-df-quickchart {\n",
              "      --bg-color: #3B4455;\n",
              "      --fill-color: #D2E3FC;\n",
              "      --hover-bg-color: #434B5C;\n",
              "      --hover-fill-color: #FFFFFF;\n",
              "      --disabled-bg-color: #3B4455;\n",
              "      --disabled-fill-color: #666;\n",
              "  }\n",
              "\n",
              "  .colab-df-quickchart {\n",
              "    background-color: var(--bg-color);\n",
              "    border: none;\n",
              "    border-radius: 50%;\n",
              "    cursor: pointer;\n",
              "    display: none;\n",
              "    fill: var(--fill-color);\n",
              "    height: 32px;\n",
              "    padding: 0;\n",
              "    width: 32px;\n",
              "  }\n",
              "\n",
              "  .colab-df-quickchart:hover {\n",
              "    background-color: var(--hover-bg-color);\n",
              "    box-shadow: 0 1px 2px rgba(60, 64, 67, 0.3), 0 1px 3px 1px rgba(60, 64, 67, 0.15);\n",
              "    fill: var(--button-hover-fill-color);\n",
              "  }\n",
              "\n",
              "  .colab-df-quickchart-complete:disabled,\n",
              "  .colab-df-quickchart-complete:disabled:hover {\n",
              "    background-color: var(--disabled-bg-color);\n",
              "    fill: var(--disabled-fill-color);\n",
              "    box-shadow: none;\n",
              "  }\n",
              "\n",
              "  .colab-df-spinner {\n",
              "    border: 2px solid var(--fill-color);\n",
              "    border-color: transparent;\n",
              "    border-bottom-color: var(--fill-color);\n",
              "    animation:\n",
              "      spin 1s steps(1) infinite;\n",
              "  }\n",
              "\n",
              "  @keyframes spin {\n",
              "    0% {\n",
              "      border-color: transparent;\n",
              "      border-bottom-color: var(--fill-color);\n",
              "      border-left-color: var(--fill-color);\n",
              "    }\n",
              "    20% {\n",
              "      border-color: transparent;\n",
              "      border-left-color: var(--fill-color);\n",
              "      border-top-color: var(--fill-color);\n",
              "    }\n",
              "    30% {\n",
              "      border-color: transparent;\n",
              "      border-left-color: var(--fill-color);\n",
              "      border-top-color: var(--fill-color);\n",
              "      border-right-color: var(--fill-color);\n",
              "    }\n",
              "    40% {\n",
              "      border-color: transparent;\n",
              "      border-right-color: var(--fill-color);\n",
              "      border-top-color: var(--fill-color);\n",
              "    }\n",
              "    60% {\n",
              "      border-color: transparent;\n",
              "      border-right-color: var(--fill-color);\n",
              "    }\n",
              "    80% {\n",
              "      border-color: transparent;\n",
              "      border-right-color: var(--fill-color);\n",
              "      border-bottom-color: var(--fill-color);\n",
              "    }\n",
              "    90% {\n",
              "      border-color: transparent;\n",
              "      border-bottom-color: var(--fill-color);\n",
              "    }\n",
              "  }\n",
              "</style>\n",
              "\n",
              "  <script>\n",
              "    async function quickchart(key) {\n",
              "      const quickchartButtonEl =\n",
              "        document.querySelector('#' + key + ' button');\n",
              "      quickchartButtonEl.disabled = true;  // To prevent multiple clicks.\n",
              "      quickchartButtonEl.classList.add('colab-df-spinner');\n",
              "      try {\n",
              "        const charts = await google.colab.kernel.invokeFunction(\n",
              "            'suggestCharts', [key], {});\n",
              "      } catch (error) {\n",
              "        console.error('Error during call to suggestCharts:', error);\n",
              "      }\n",
              "      quickchartButtonEl.classList.remove('colab-df-spinner');\n",
              "      quickchartButtonEl.classList.add('colab-df-quickchart-complete');\n",
              "    }\n",
              "    (() => {\n",
              "      let quickchartButtonEl =\n",
              "        document.querySelector('#df-37d6f0b1-976a-49a0-9f00-8a6e088e4973 button');\n",
              "      quickchartButtonEl.style.display =\n",
              "        google.colab.kernel.accessAllowed ? 'block' : 'none';\n",
              "    })();\n",
              "  </script>\n",
              "</div>\n",
              "    </div>\n",
              "  </div>\n"
            ]
          },
          "metadata": {},
          "execution_count": 329
        }
      ]
    },
    {
      "cell_type": "code",
      "source": [
        "df_Recall.T"
      ],
      "metadata": {
        "colab": {
          "base_uri": "https://localhost:8080/",
          "height": 112
        },
        "id": "2PjmwEo5cgA1",
        "outputId": "56d0e025-bf21-4504-e8e8-e4c8f596b995"
      },
      "execution_count": null,
      "outputs": [
        {
          "output_type": "execute_result",
          "data": {
            "text/plain": [
              "                acc      good     unacc  vgood\n",
              "LR Recall  0.843750  0.307692  0.947103   0.68\n",
              "NB Recall  0.679688  0.115385  0.959698   0.12"
            ],
            "text/html": [
              "\n",
              "  <div id=\"df-76984ce0-299e-44f2-a953-6a0d5b8274c6\" class=\"colab-df-container\">\n",
              "    <div>\n",
              "<style scoped>\n",
              "    .dataframe tbody tr th:only-of-type {\n",
              "        vertical-align: middle;\n",
              "    }\n",
              "\n",
              "    .dataframe tbody tr th {\n",
              "        vertical-align: top;\n",
              "    }\n",
              "\n",
              "    .dataframe thead th {\n",
              "        text-align: right;\n",
              "    }\n",
              "</style>\n",
              "<table border=\"1\" class=\"dataframe\">\n",
              "  <thead>\n",
              "    <tr style=\"text-align: right;\">\n",
              "      <th></th>\n",
              "      <th>acc</th>\n",
              "      <th>good</th>\n",
              "      <th>unacc</th>\n",
              "      <th>vgood</th>\n",
              "    </tr>\n",
              "  </thead>\n",
              "  <tbody>\n",
              "    <tr>\n",
              "      <th>LR Recall</th>\n",
              "      <td>0.843750</td>\n",
              "      <td>0.307692</td>\n",
              "      <td>0.947103</td>\n",
              "      <td>0.68</td>\n",
              "    </tr>\n",
              "    <tr>\n",
              "      <th>NB Recall</th>\n",
              "      <td>0.679688</td>\n",
              "      <td>0.115385</td>\n",
              "      <td>0.959698</td>\n",
              "      <td>0.12</td>\n",
              "    </tr>\n",
              "  </tbody>\n",
              "</table>\n",
              "</div>\n",
              "    <div class=\"colab-df-buttons\">\n",
              "\n",
              "  <div class=\"colab-df-container\">\n",
              "    <button class=\"colab-df-convert\" onclick=\"convertToInteractive('df-76984ce0-299e-44f2-a953-6a0d5b8274c6')\"\n",
              "            title=\"Convert this dataframe to an interactive table.\"\n",
              "            style=\"display:none;\">\n",
              "\n",
              "  <svg xmlns=\"http://www.w3.org/2000/svg\" height=\"24px\" viewBox=\"0 -960 960 960\">\n",
              "    <path d=\"M120-120v-720h720v720H120Zm60-500h600v-160H180v160Zm220 220h160v-160H400v160Zm0 220h160v-160H400v160ZM180-400h160v-160H180v160Zm440 0h160v-160H620v160ZM180-180h160v-160H180v160Zm440 0h160v-160H620v160Z\"/>\n",
              "  </svg>\n",
              "    </button>\n",
              "\n",
              "  <style>\n",
              "    .colab-df-container {\n",
              "      display:flex;\n",
              "      gap: 12px;\n",
              "    }\n",
              "\n",
              "    .colab-df-convert {\n",
              "      background-color: #E8F0FE;\n",
              "      border: none;\n",
              "      border-radius: 50%;\n",
              "      cursor: pointer;\n",
              "      display: none;\n",
              "      fill: #1967D2;\n",
              "      height: 32px;\n",
              "      padding: 0 0 0 0;\n",
              "      width: 32px;\n",
              "    }\n",
              "\n",
              "    .colab-df-convert:hover {\n",
              "      background-color: #E2EBFA;\n",
              "      box-shadow: 0px 1px 2px rgba(60, 64, 67, 0.3), 0px 1px 3px 1px rgba(60, 64, 67, 0.15);\n",
              "      fill: #174EA6;\n",
              "    }\n",
              "\n",
              "    .colab-df-buttons div {\n",
              "      margin-bottom: 4px;\n",
              "    }\n",
              "\n",
              "    [theme=dark] .colab-df-convert {\n",
              "      background-color: #3B4455;\n",
              "      fill: #D2E3FC;\n",
              "    }\n",
              "\n",
              "    [theme=dark] .colab-df-convert:hover {\n",
              "      background-color: #434B5C;\n",
              "      box-shadow: 0px 1px 3px 1px rgba(0, 0, 0, 0.15);\n",
              "      filter: drop-shadow(0px 1px 2px rgba(0, 0, 0, 0.3));\n",
              "      fill: #FFFFFF;\n",
              "    }\n",
              "  </style>\n",
              "\n",
              "    <script>\n",
              "      const buttonEl =\n",
              "        document.querySelector('#df-76984ce0-299e-44f2-a953-6a0d5b8274c6 button.colab-df-convert');\n",
              "      buttonEl.style.display =\n",
              "        google.colab.kernel.accessAllowed ? 'block' : 'none';\n",
              "\n",
              "      async function convertToInteractive(key) {\n",
              "        const element = document.querySelector('#df-76984ce0-299e-44f2-a953-6a0d5b8274c6');\n",
              "        const dataTable =\n",
              "          await google.colab.kernel.invokeFunction('convertToInteractive',\n",
              "                                                    [key], {});\n",
              "        if (!dataTable) return;\n",
              "\n",
              "        const docLinkHtml = 'Like what you see? Visit the ' +\n",
              "          '<a target=\"_blank\" href=https://colab.research.google.com/notebooks/data_table.ipynb>data table notebook</a>'\n",
              "          + ' to learn more about interactive tables.';\n",
              "        element.innerHTML = '';\n",
              "        dataTable['output_type'] = 'display_data';\n",
              "        await google.colab.output.renderOutput(dataTable, element);\n",
              "        const docLink = document.createElement('div');\n",
              "        docLink.innerHTML = docLinkHtml;\n",
              "        element.appendChild(docLink);\n",
              "      }\n",
              "    </script>\n",
              "  </div>\n",
              "\n",
              "\n",
              "<div id=\"df-eba5f236-39ab-4972-89b1-b59a7c8ce1a8\">\n",
              "  <button class=\"colab-df-quickchart\" onclick=\"quickchart('df-eba5f236-39ab-4972-89b1-b59a7c8ce1a8')\"\n",
              "            title=\"Suggest charts.\"\n",
              "            style=\"display:none;\">\n",
              "\n",
              "<svg xmlns=\"http://www.w3.org/2000/svg\" height=\"24px\"viewBox=\"0 0 24 24\"\n",
              "     width=\"24px\">\n",
              "    <g>\n",
              "        <path d=\"M19 3H5c-1.1 0-2 .9-2 2v14c0 1.1.9 2 2 2h14c1.1 0 2-.9 2-2V5c0-1.1-.9-2-2-2zM9 17H7v-7h2v7zm4 0h-2V7h2v10zm4 0h-2v-4h2v4z\"/>\n",
              "    </g>\n",
              "</svg>\n",
              "  </button>\n",
              "\n",
              "<style>\n",
              "  .colab-df-quickchart {\n",
              "      --bg-color: #E8F0FE;\n",
              "      --fill-color: #1967D2;\n",
              "      --hover-bg-color: #E2EBFA;\n",
              "      --hover-fill-color: #174EA6;\n",
              "      --disabled-fill-color: #AAA;\n",
              "      --disabled-bg-color: #DDD;\n",
              "  }\n",
              "\n",
              "  [theme=dark] .colab-df-quickchart {\n",
              "      --bg-color: #3B4455;\n",
              "      --fill-color: #D2E3FC;\n",
              "      --hover-bg-color: #434B5C;\n",
              "      --hover-fill-color: #FFFFFF;\n",
              "      --disabled-bg-color: #3B4455;\n",
              "      --disabled-fill-color: #666;\n",
              "  }\n",
              "\n",
              "  .colab-df-quickchart {\n",
              "    background-color: var(--bg-color);\n",
              "    border: none;\n",
              "    border-radius: 50%;\n",
              "    cursor: pointer;\n",
              "    display: none;\n",
              "    fill: var(--fill-color);\n",
              "    height: 32px;\n",
              "    padding: 0;\n",
              "    width: 32px;\n",
              "  }\n",
              "\n",
              "  .colab-df-quickchart:hover {\n",
              "    background-color: var(--hover-bg-color);\n",
              "    box-shadow: 0 1px 2px rgba(60, 64, 67, 0.3), 0 1px 3px 1px rgba(60, 64, 67, 0.15);\n",
              "    fill: var(--button-hover-fill-color);\n",
              "  }\n",
              "\n",
              "  .colab-df-quickchart-complete:disabled,\n",
              "  .colab-df-quickchart-complete:disabled:hover {\n",
              "    background-color: var(--disabled-bg-color);\n",
              "    fill: var(--disabled-fill-color);\n",
              "    box-shadow: none;\n",
              "  }\n",
              "\n",
              "  .colab-df-spinner {\n",
              "    border: 2px solid var(--fill-color);\n",
              "    border-color: transparent;\n",
              "    border-bottom-color: var(--fill-color);\n",
              "    animation:\n",
              "      spin 1s steps(1) infinite;\n",
              "  }\n",
              "\n",
              "  @keyframes spin {\n",
              "    0% {\n",
              "      border-color: transparent;\n",
              "      border-bottom-color: var(--fill-color);\n",
              "      border-left-color: var(--fill-color);\n",
              "    }\n",
              "    20% {\n",
              "      border-color: transparent;\n",
              "      border-left-color: var(--fill-color);\n",
              "      border-top-color: var(--fill-color);\n",
              "    }\n",
              "    30% {\n",
              "      border-color: transparent;\n",
              "      border-left-color: var(--fill-color);\n",
              "      border-top-color: var(--fill-color);\n",
              "      border-right-color: var(--fill-color);\n",
              "    }\n",
              "    40% {\n",
              "      border-color: transparent;\n",
              "      border-right-color: var(--fill-color);\n",
              "      border-top-color: var(--fill-color);\n",
              "    }\n",
              "    60% {\n",
              "      border-color: transparent;\n",
              "      border-right-color: var(--fill-color);\n",
              "    }\n",
              "    80% {\n",
              "      border-color: transparent;\n",
              "      border-right-color: var(--fill-color);\n",
              "      border-bottom-color: var(--fill-color);\n",
              "    }\n",
              "    90% {\n",
              "      border-color: transparent;\n",
              "      border-bottom-color: var(--fill-color);\n",
              "    }\n",
              "  }\n",
              "</style>\n",
              "\n",
              "  <script>\n",
              "    async function quickchart(key) {\n",
              "      const quickchartButtonEl =\n",
              "        document.querySelector('#' + key + ' button');\n",
              "      quickchartButtonEl.disabled = true;  // To prevent multiple clicks.\n",
              "      quickchartButtonEl.classList.add('colab-df-spinner');\n",
              "      try {\n",
              "        const charts = await google.colab.kernel.invokeFunction(\n",
              "            'suggestCharts', [key], {});\n",
              "      } catch (error) {\n",
              "        console.error('Error during call to suggestCharts:', error);\n",
              "      }\n",
              "      quickchartButtonEl.classList.remove('colab-df-spinner');\n",
              "      quickchartButtonEl.classList.add('colab-df-quickchart-complete');\n",
              "    }\n",
              "    (() => {\n",
              "      let quickchartButtonEl =\n",
              "        document.querySelector('#df-eba5f236-39ab-4972-89b1-b59a7c8ce1a8 button');\n",
              "      quickchartButtonEl.style.display =\n",
              "        google.colab.kernel.accessAllowed ? 'block' : 'none';\n",
              "    })();\n",
              "  </script>\n",
              "</div>\n",
              "    </div>\n",
              "  </div>\n"
            ]
          },
          "metadata": {},
          "execution_count": 330
        }
      ]
    },
    {
      "cell_type": "code",
      "source": [
        "df_MacMic"
      ],
      "metadata": {
        "colab": {
          "base_uri": "https://localhost:8080/",
          "height": 112
        },
        "outputId": "a0d0e775-fd5c-4664-caaf-e8650df76bbf",
        "id": "qss758QCSES3"
      },
      "execution_count": null,
      "outputs": [
        {
          "output_type": "execute_result",
          "data": {
            "text/plain": [
              "                            Pre_Mac   Rec_Mac   Pre_Mic   Rec_Mic\n",
              "Logistic Regression Model  0.830656  0.694636  0.883681  0.883681\n",
              "Naïve Bayes Model          0.719580  0.468692  0.822917  0.822917"
            ],
            "text/html": [
              "\n",
              "  <div id=\"df-59dcf6f5-cbfd-4568-9c07-0af9d333e8c9\" class=\"colab-df-container\">\n",
              "    <div>\n",
              "<style scoped>\n",
              "    .dataframe tbody tr th:only-of-type {\n",
              "        vertical-align: middle;\n",
              "    }\n",
              "\n",
              "    .dataframe tbody tr th {\n",
              "        vertical-align: top;\n",
              "    }\n",
              "\n",
              "    .dataframe thead th {\n",
              "        text-align: right;\n",
              "    }\n",
              "</style>\n",
              "<table border=\"1\" class=\"dataframe\">\n",
              "  <thead>\n",
              "    <tr style=\"text-align: right;\">\n",
              "      <th></th>\n",
              "      <th>Pre_Mac</th>\n",
              "      <th>Rec_Mac</th>\n",
              "      <th>Pre_Mic</th>\n",
              "      <th>Rec_Mic</th>\n",
              "    </tr>\n",
              "  </thead>\n",
              "  <tbody>\n",
              "    <tr>\n",
              "      <th>Logistic Regression Model</th>\n",
              "      <td>0.830656</td>\n",
              "      <td>0.694636</td>\n",
              "      <td>0.883681</td>\n",
              "      <td>0.883681</td>\n",
              "    </tr>\n",
              "    <tr>\n",
              "      <th>Naïve Bayes Model</th>\n",
              "      <td>0.719580</td>\n",
              "      <td>0.468692</td>\n",
              "      <td>0.822917</td>\n",
              "      <td>0.822917</td>\n",
              "    </tr>\n",
              "  </tbody>\n",
              "</table>\n",
              "</div>\n",
              "    <div class=\"colab-df-buttons\">\n",
              "\n",
              "  <div class=\"colab-df-container\">\n",
              "    <button class=\"colab-df-convert\" onclick=\"convertToInteractive('df-59dcf6f5-cbfd-4568-9c07-0af9d333e8c9')\"\n",
              "            title=\"Convert this dataframe to an interactive table.\"\n",
              "            style=\"display:none;\">\n",
              "\n",
              "  <svg xmlns=\"http://www.w3.org/2000/svg\" height=\"24px\" viewBox=\"0 -960 960 960\">\n",
              "    <path d=\"M120-120v-720h720v720H120Zm60-500h600v-160H180v160Zm220 220h160v-160H400v160Zm0 220h160v-160H400v160ZM180-400h160v-160H180v160Zm440 0h160v-160H620v160ZM180-180h160v-160H180v160Zm440 0h160v-160H620v160Z\"/>\n",
              "  </svg>\n",
              "    </button>\n",
              "\n",
              "  <style>\n",
              "    .colab-df-container {\n",
              "      display:flex;\n",
              "      gap: 12px;\n",
              "    }\n",
              "\n",
              "    .colab-df-convert {\n",
              "      background-color: #E8F0FE;\n",
              "      border: none;\n",
              "      border-radius: 50%;\n",
              "      cursor: pointer;\n",
              "      display: none;\n",
              "      fill: #1967D2;\n",
              "      height: 32px;\n",
              "      padding: 0 0 0 0;\n",
              "      width: 32px;\n",
              "    }\n",
              "\n",
              "    .colab-df-convert:hover {\n",
              "      background-color: #E2EBFA;\n",
              "      box-shadow: 0px 1px 2px rgba(60, 64, 67, 0.3), 0px 1px 3px 1px rgba(60, 64, 67, 0.15);\n",
              "      fill: #174EA6;\n",
              "    }\n",
              "\n",
              "    .colab-df-buttons div {\n",
              "      margin-bottom: 4px;\n",
              "    }\n",
              "\n",
              "    [theme=dark] .colab-df-convert {\n",
              "      background-color: #3B4455;\n",
              "      fill: #D2E3FC;\n",
              "    }\n",
              "\n",
              "    [theme=dark] .colab-df-convert:hover {\n",
              "      background-color: #434B5C;\n",
              "      box-shadow: 0px 1px 3px 1px rgba(0, 0, 0, 0.15);\n",
              "      filter: drop-shadow(0px 1px 2px rgba(0, 0, 0, 0.3));\n",
              "      fill: #FFFFFF;\n",
              "    }\n",
              "  </style>\n",
              "\n",
              "    <script>\n",
              "      const buttonEl =\n",
              "        document.querySelector('#df-59dcf6f5-cbfd-4568-9c07-0af9d333e8c9 button.colab-df-convert');\n",
              "      buttonEl.style.display =\n",
              "        google.colab.kernel.accessAllowed ? 'block' : 'none';\n",
              "\n",
              "      async function convertToInteractive(key) {\n",
              "        const element = document.querySelector('#df-59dcf6f5-cbfd-4568-9c07-0af9d333e8c9');\n",
              "        const dataTable =\n",
              "          await google.colab.kernel.invokeFunction('convertToInteractive',\n",
              "                                                    [key], {});\n",
              "        if (!dataTable) return;\n",
              "\n",
              "        const docLinkHtml = 'Like what you see? Visit the ' +\n",
              "          '<a target=\"_blank\" href=https://colab.research.google.com/notebooks/data_table.ipynb>data table notebook</a>'\n",
              "          + ' to learn more about interactive tables.';\n",
              "        element.innerHTML = '';\n",
              "        dataTable['output_type'] = 'display_data';\n",
              "        await google.colab.output.renderOutput(dataTable, element);\n",
              "        const docLink = document.createElement('div');\n",
              "        docLink.innerHTML = docLinkHtml;\n",
              "        element.appendChild(docLink);\n",
              "      }\n",
              "    </script>\n",
              "  </div>\n",
              "\n",
              "\n",
              "<div id=\"df-716e069b-ae58-4358-80d5-718794023624\">\n",
              "  <button class=\"colab-df-quickchart\" onclick=\"quickchart('df-716e069b-ae58-4358-80d5-718794023624')\"\n",
              "            title=\"Suggest charts.\"\n",
              "            style=\"display:none;\">\n",
              "\n",
              "<svg xmlns=\"http://www.w3.org/2000/svg\" height=\"24px\"viewBox=\"0 0 24 24\"\n",
              "     width=\"24px\">\n",
              "    <g>\n",
              "        <path d=\"M19 3H5c-1.1 0-2 .9-2 2v14c0 1.1.9 2 2 2h14c1.1 0 2-.9 2-2V5c0-1.1-.9-2-2-2zM9 17H7v-7h2v7zm4 0h-2V7h2v10zm4 0h-2v-4h2v4z\"/>\n",
              "    </g>\n",
              "</svg>\n",
              "  </button>\n",
              "\n",
              "<style>\n",
              "  .colab-df-quickchart {\n",
              "      --bg-color: #E8F0FE;\n",
              "      --fill-color: #1967D2;\n",
              "      --hover-bg-color: #E2EBFA;\n",
              "      --hover-fill-color: #174EA6;\n",
              "      --disabled-fill-color: #AAA;\n",
              "      --disabled-bg-color: #DDD;\n",
              "  }\n",
              "\n",
              "  [theme=dark] .colab-df-quickchart {\n",
              "      --bg-color: #3B4455;\n",
              "      --fill-color: #D2E3FC;\n",
              "      --hover-bg-color: #434B5C;\n",
              "      --hover-fill-color: #FFFFFF;\n",
              "      --disabled-bg-color: #3B4455;\n",
              "      --disabled-fill-color: #666;\n",
              "  }\n",
              "\n",
              "  .colab-df-quickchart {\n",
              "    background-color: var(--bg-color);\n",
              "    border: none;\n",
              "    border-radius: 50%;\n",
              "    cursor: pointer;\n",
              "    display: none;\n",
              "    fill: var(--fill-color);\n",
              "    height: 32px;\n",
              "    padding: 0;\n",
              "    width: 32px;\n",
              "  }\n",
              "\n",
              "  .colab-df-quickchart:hover {\n",
              "    background-color: var(--hover-bg-color);\n",
              "    box-shadow: 0 1px 2px rgba(60, 64, 67, 0.3), 0 1px 3px 1px rgba(60, 64, 67, 0.15);\n",
              "    fill: var(--button-hover-fill-color);\n",
              "  }\n",
              "\n",
              "  .colab-df-quickchart-complete:disabled,\n",
              "  .colab-df-quickchart-complete:disabled:hover {\n",
              "    background-color: var(--disabled-bg-color);\n",
              "    fill: var(--disabled-fill-color);\n",
              "    box-shadow: none;\n",
              "  }\n",
              "\n",
              "  .colab-df-spinner {\n",
              "    border: 2px solid var(--fill-color);\n",
              "    border-color: transparent;\n",
              "    border-bottom-color: var(--fill-color);\n",
              "    animation:\n",
              "      spin 1s steps(1) infinite;\n",
              "  }\n",
              "\n",
              "  @keyframes spin {\n",
              "    0% {\n",
              "      border-color: transparent;\n",
              "      border-bottom-color: var(--fill-color);\n",
              "      border-left-color: var(--fill-color);\n",
              "    }\n",
              "    20% {\n",
              "      border-color: transparent;\n",
              "      border-left-color: var(--fill-color);\n",
              "      border-top-color: var(--fill-color);\n",
              "    }\n",
              "    30% {\n",
              "      border-color: transparent;\n",
              "      border-left-color: var(--fill-color);\n",
              "      border-top-color: var(--fill-color);\n",
              "      border-right-color: var(--fill-color);\n",
              "    }\n",
              "    40% {\n",
              "      border-color: transparent;\n",
              "      border-right-color: var(--fill-color);\n",
              "      border-top-color: var(--fill-color);\n",
              "    }\n",
              "    60% {\n",
              "      border-color: transparent;\n",
              "      border-right-color: var(--fill-color);\n",
              "    }\n",
              "    80% {\n",
              "      border-color: transparent;\n",
              "      border-right-color: var(--fill-color);\n",
              "      border-bottom-color: var(--fill-color);\n",
              "    }\n",
              "    90% {\n",
              "      border-color: transparent;\n",
              "      border-bottom-color: var(--fill-color);\n",
              "    }\n",
              "  }\n",
              "</style>\n",
              "\n",
              "  <script>\n",
              "    async function quickchart(key) {\n",
              "      const quickchartButtonEl =\n",
              "        document.querySelector('#' + key + ' button');\n",
              "      quickchartButtonEl.disabled = true;  // To prevent multiple clicks.\n",
              "      quickchartButtonEl.classList.add('colab-df-spinner');\n",
              "      try {\n",
              "        const charts = await google.colab.kernel.invokeFunction(\n",
              "            'suggestCharts', [key], {});\n",
              "      } catch (error) {\n",
              "        console.error('Error during call to suggestCharts:', error);\n",
              "      }\n",
              "      quickchartButtonEl.classList.remove('colab-df-spinner');\n",
              "      quickchartButtonEl.classList.add('colab-df-quickchart-complete');\n",
              "    }\n",
              "    (() => {\n",
              "      let quickchartButtonEl =\n",
              "        document.querySelector('#df-716e069b-ae58-4358-80d5-718794023624 button');\n",
              "      quickchartButtonEl.style.display =\n",
              "        google.colab.kernel.accessAllowed ? 'block' : 'none';\n",
              "    })();\n",
              "  </script>\n",
              "</div>\n",
              "    </div>\n",
              "  </div>\n"
            ]
          },
          "metadata": {},
          "execution_count": 331
        }
      ]
    },
    {
      "cell_type": "markdown",
      "source": [
        "The micro averages for both models are generally higher than the macro averages."
      ],
      "metadata": {
        "id": "Z2bkyEYB3l_M"
      }
    },
    {
      "cell_type": "markdown",
      "source": [
        "> Class value distribution"
      ],
      "metadata": {
        "id": "QT3lwaiGSES2"
      }
    },
    {
      "cell_type": "markdown",
      "source": [
        "`Class distrpution on training set`\n",
        "`{'acc': 256, 'good': 43, 'unacc': 813, 'vgood': 40}`\n",
        "\n",
        "`Class distrpution on testing set`\n",
        "`{'acc': 128, 'good': 26, 'unacc': 397, 'vgood': 25}`"
      ],
      "metadata": {
        "id": "7WUCVmWESES3"
      }
    },
    {
      "cell_type": "markdown",
      "source": [
        "We can see that our training set has an imbalanced class distribution, where \"good\" and \"vgood\" only count around 3% of the total training samples.\n",
        "We saw that macro averages will weighted **each class** equally, regardless of their frequency or size. Therefore, it is more sensitive to the performance, which each class contribute 1/4 of the performance while some classes only weight around 3% of the total samples."
      ],
      "metadata": {
        "id": "2vu4qQXvSES3"
      }
    },
    {
      "cell_type": "markdown",
      "source": [
        "Micro-average, on the other hand, gives equal weight to each sample in a dataset. It is calculated by summing the values for each class and dividing it by the total number of instances. In other words, it takes into account the performance of each class equally and treats them as a single entity. Therefore, it is less sensitive to the performance, which\n",
        "it considers the overall performance of each sample so the ones that have a bad performance only contribute around 3% of the total samples."
      ],
      "metadata": {
        "id": "_o05dpmuSES3"
      }
    },
    {
      "cell_type": "markdown",
      "source": [
        "In the case of LR and NB, both micro-averages are much higher than the macro-average. The reason for this is that the micro-average provides us with the overall accuracy performance. The precision/recall rate for the \"uacc\" class is very high. Therefore, if the model performs well on the \"uacc\" class, it will pull up the overall average as it contributes to most of the samples. It can be seen that there are two recall rates that are very low for NB (both around 0.10). If we only consider the micro-average, we might overestimate our model's performance for NB, as it contributes a small amount to the calculation.\n",
        "\n",
        "In our case of evaluation, we want to focus more on the preference for each class. For example, if the model is good at predicting the first 100 samples of one class and the rest of the data samples are just similar to the first 100 samples, then we might not consider them since the overall prediction will be the same. As a result, we will overestimate the performance.\n",
        "\n",
        "Macro-average, in our imbalanced distribution of classes, will give a better performance result as it ensures that each class contributes equally to the overall average."
      ],
      "metadata": {
        "id": "w_vP67IkacAg"
      }
    },
    {
      "cell_type": "markdown",
      "source": [
        "##**6. Modify some parameters, and perform a train/test/evaluate again**"
      ],
      "metadata": {
        "id": "IeGzf9p-5taF"
      }
    },
    {
      "cell_type": "markdown",
      "source": [
        "####**i. Logistic Regression Model**"
      ],
      "metadata": {
        "id": "7cHWKxPniwDe"
      }
    },
    {
      "cell_type": "markdown",
      "source": [
        "##### **Model 1**"
      ],
      "metadata": {
        "id": "s54-lBLfgS3H"
      }
    },
    {
      "cell_type": "markdown",
      "source": [
        "- `multi_class='ovr'` The model will use a one-vs-rest strategy, which means fitting a binary model for each class.\n",
        "- `solver='newton-cholesky'` is a good choice for n_samples >> n_features, especially with one-hot encoded categorical features with rare categories.\n",
        "- `class_weight=\"balanced\"` This will adjust weights inversely proportional to class frequencies in the input data.\n",
        "- `C=5` Apply a regularization of 5. A higher value of C means less regularization, which means the model will try to fit the training data as well as possible.\n",
        "- `max_iter=500` Maximum number of iterations for the solver to converge. This is only set to have a equal comparison with model 2."
      ],
      "metadata": {
        "id": "V8a59gwYeVas"
      }
    },
    {
      "cell_type": "code",
      "source": [
        "# define the Logistic Regression model with the above parameters\n",
        "ModelLR_1 = LogisticRegression(multi_class='ovr', solver='newton-cholesky',class_weight=\"balanced\", C= 5,max_iter=500)"
      ],
      "metadata": {
        "id": "mgifgTRTfy1_"
      },
      "execution_count": null,
      "outputs": []
    },
    {
      "cell_type": "code",
      "source": [
        "ave_accuracy_lr1 = train(ModelLR_1, lr_X, lr_y) # train the model using 4-fold\n",
        "print(\"Average accuracy:\", ave_accuracy_lr1) # print average accuracy"
      ],
      "metadata": {
        "colab": {
          "base_uri": "https://localhost:8080/"
        },
        "id": "PDVhRQpjW3pE",
        "outputId": "216e3442-b11c-46d3-d185-f7a700eb13c9"
      },
      "execution_count": null,
      "outputs": [
        {
          "output_type": "stream",
          "name": "stdout",
          "text": [
            "Average accuracy: 0.8912037037037037\n"
          ]
        }
      ]
    },
    {
      "cell_type": "markdown",
      "source": [
        "**Test**"
      ],
      "metadata": {
        "id": "JVFy4Q6KsdQ3"
      }
    },
    {
      "cell_type": "code",
      "source": [
        "y_pred_lr_1 = ModelLR_1.predict(X_test_lr) # evaluate the model using test set\n",
        "cm_lr1 = confusion_matrix(y_test_lr, y_pred_lr_1) # define a confusion matrix on the result"
      ],
      "metadata": {
        "id": "3qYjtdmoM28b"
      },
      "execution_count": null,
      "outputs": []
    },
    {
      "cell_type": "code",
      "source": [
        "disp = ConfusionMatrixDisplay(confusion_matrix=cm_lr1, display_labels=ModelLR_1.classes_)\n",
        "disp.plot()"
      ],
      "metadata": {
        "colab": {
          "base_uri": "https://localhost:8080/",
          "height": 466
        },
        "outputId": "ac67f376-84b4-4572-9ddd-1d623609630f",
        "id": "y_AleOk0M28u"
      },
      "execution_count": null,
      "outputs": [
        {
          "output_type": "execute_result",
          "data": {
            "text/plain": [
              "<sklearn.metrics._plot.confusion_matrix.ConfusionMatrixDisplay at 0x7c42e9f33970>"
            ]
          },
          "metadata": {},
          "execution_count": 335
        },
        {
          "output_type": "display_data",
          "data": {
            "text/plain": [
              "<Figure size 640x480 with 2 Axes>"
            ],
            "image/png": "[encoded data removed]"
          },
          "metadata": {}
        }
      ]
    },
    {
      "cell_type": "code",
      "source": [
        "accuracy_lr1 = sk.metrics.accuracy_score(y_test_lr, y_pred_lr_1) # the overall accuracy score on test set\n",
        "accuracy_lr1"
      ],
      "metadata": {
        "colab": {
          "base_uri": "https://localhost:8080/"
        },
        "id": "L_d8aWdZMy-b",
        "outputId": "e031f6a1-e8c7-4ae0-bf2c-a51f209b2785"
      },
      "execution_count": null,
      "outputs": [
        {
          "output_type": "execute_result",
          "data": {
            "text/plain": [
              "0.8888888888888888"
            ]
          },
          "metadata": {},
          "execution_count": 336
        }
      ]
    },
    {
      "cell_type": "markdown",
      "source": [
        "######**Precision and Recalls**\n",
        "\n",
        "\n",
        "\n"
      ],
      "metadata": {
        "id": "5y_HJjG8QmIp"
      }
    },
    {
      "cell_type": "markdown",
      "source": [
        "**Per class precisions**"
      ],
      "metadata": {
        "id": "o0PGKX6I13t0"
      }
    },
    {
      "cell_type": "code",
      "source": [
        "#define the precision score on every class\n",
        "precisions_lr_1 = precision_score(y_test_lr, y_pred_lr_1, average=None)\n",
        "\n",
        "for label, precision in zip(labels, precisions_lr_1):\n",
        "    print(f'Precision for class {label}: {precision}')"
      ],
      "metadata": {
        "colab": {
          "base_uri": "https://localhost:8080/"
        },
        "id": "JbIOjQKm1zOB",
        "outputId": "855db84b-85c6-4e9b-f152-89d0b84bd558"
      },
      "execution_count": null,
      "outputs": [
        {
          "output_type": "stream",
          "name": "stdout",
          "text": [
            "Precision for class acc: 0.7048192771084337\n",
            "Precision for class good: 0.6071428571428571\n",
            "Precision for class unacc: 0.9917582417582418\n",
            "Precision for class vgood: 0.9444444444444444\n"
          ]
        }
      ]
    },
    {
      "cell_type": "markdown",
      "source": [
        "**Per class recalls**"
      ],
      "metadata": {
        "id": "AQwyt3BA16DE"
      }
    },
    {
      "cell_type": "code",
      "source": [
        "#define the recall score on every class\n",
        "recalls_lr_1 = recall_score(y_test_lr, y_pred_lr_1, average=None)\n",
        "\n",
        "for label, recall in zip(labels, recalls_lr_1):\n",
        "    print(f'Recall for class {label}: {recall}')"
      ],
      "metadata": {
        "colab": {
          "base_uri": "https://localhost:8080/"
        },
        "id": "ChzrZq-815lQ",
        "outputId": "7daba2ec-d354-4f5c-e201-efc1f6de4ed5"
      },
      "execution_count": null,
      "outputs": [
        {
          "output_type": "stream",
          "name": "stdout",
          "text": [
            "Recall for class acc: 0.9140625\n",
            "Recall for class good: 0.6538461538461539\n",
            "Recall for class unacc: 0.9093198992443325\n",
            "Recall for class vgood: 0.68\n"
          ]
        }
      ]
    },
    {
      "cell_type": "markdown",
      "source": [
        "######**Micro-average and Macro-average**"
      ],
      "metadata": {
        "id": "Sb206EDEoSzf"
      }
    },
    {
      "cell_type": "markdown",
      "source": [
        "**Precision calculation**"
      ],
      "metadata": {
        "id": "x92hNrdOoSzg"
      }
    },
    {
      "cell_type": "markdown",
      "source": [
        "- Macro averages"
      ],
      "metadata": {
        "id": "HmKw0KQkqFde"
      }
    },
    {
      "cell_type": "code",
      "source": [
        "#precision\n",
        "macro_precision_lr_1 = precision_score(y_test_lr, y_pred_lr_1, average='macro')\n",
        "\n",
        "print('Precision:', macro_precision_lr_1)"
      ],
      "metadata": {
        "colab": {
          "base_uri": "https://localhost:8080/"
        },
        "outputId": "65b04976-4bcd-40f1-f60f-8b70bb26386a",
        "id": "KdhZ6s9JoSzh"
      },
      "execution_count": null,
      "outputs": [
        {
          "output_type": "stream",
          "name": "stdout",
          "text": [
            "Precision: 0.8120412051134942\n"
          ]
        }
      ]
    },
    {
      "cell_type": "code",
      "source": [
        "#recall\n",
        "macro_recall_lr_1 = recall_score(y_test_lr, y_pred_lr_1, average='macro')\n",
        "\n",
        "print('Recall:', macro_recall_lr_1)"
      ],
      "metadata": {
        "colab": {
          "base_uri": "https://localhost:8080/"
        },
        "outputId": "e6625dfb-c18e-4eb5-e547-85673cc3a060",
        "id": "_9RD5F_zoSzi"
      },
      "execution_count": null,
      "outputs": [
        {
          "output_type": "stream",
          "name": "stdout",
          "text": [
            "Recall: 0.7893071382726217\n"
          ]
        }
      ]
    },
    {
      "cell_type": "markdown",
      "source": [
        "- Micro averages"
      ],
      "metadata": {
        "id": "RUCaY09wqGOt"
      }
    },
    {
      "cell_type": "code",
      "source": [
        "#precision\n",
        "micro_precision_lr_1 = precision_score(y_test_lr, y_pred_lr_1, average='micro')\n",
        "\n",
        "print('Precision:', micro_precision_lr_1)"
      ],
      "metadata": {
        "colab": {
          "base_uri": "https://localhost:8080/"
        },
        "outputId": "de0b0f6b-2b3b-4755-fa5f-4dea81f129cb",
        "id": "u75Yt4I8oSzh"
      },
      "execution_count": null,
      "outputs": [
        {
          "output_type": "stream",
          "name": "stdout",
          "text": [
            "Precision: 0.8888888888888888\n"
          ]
        }
      ]
    },
    {
      "cell_type": "code",
      "source": [
        "#recall\n",
        "micro_recall_lr_1 = recall_score(y_test_lr, y_pred_lr_1, average='micro')\n",
        "\n",
        "print('Recall:', micro_recall_lr_1)"
      ],
      "metadata": {
        "colab": {
          "base_uri": "https://localhost:8080/"
        },
        "outputId": "5c9dbb38-439d-4894-ee08-1fe26251c155",
        "id": "M7APHUrloSzj"
      },
      "execution_count": null,
      "outputs": [
        {
          "output_type": "stream",
          "name": "stdout",
          "text": [
            "Recall: 0.8888888888888888\n"
          ]
        }
      ]
    },
    {
      "cell_type": "markdown",
      "source": [
        "#####**Model 2**"
      ],
      "metadata": {
        "id": "Y_YUEBE7gSOY"
      }
    },
    {
      "cell_type": "markdown",
      "source": [
        "- `multi_class='multinomial'` The model will use the softmax function.\n",
        "- `solver='lbfgs'` handle multinomial loss\n",
        "- `class_weight=\"balanced\"` The \"balanced\" mode uses the values of y to automatically adjust weights inversely proportional to class frequencies in the input data\n",
        "- `max_iter=500` Maximum number of iterations taken for the 'lbfgs' solvers.\n",
        "- `C=5` Apply a regularization of 10. A higher value of C means less regularization, which means the model will try to fit the training data as well as possible."
      ],
      "metadata": {
        "id": "B6nOJeMx274U"
      }
    },
    {
      "cell_type": "markdown",
      "source": [
        "**Train**"
      ],
      "metadata": {
        "id": "I0bTPy6oi74R"
      }
    },
    {
      "cell_type": "code",
      "source": [
        "# assign the parameters into the model\n",
        "ModelLR_2 = LogisticRegression(multi_class='multinomial', solver='lbfgs', class_weight=\"balanced\", max_iter=500, C=5)"
      ],
      "metadata": {
        "id": "EqHTvzyEgGcW"
      },
      "execution_count": null,
      "outputs": []
    },
    {
      "cell_type": "code",
      "source": [
        "ave_accuracy_lr2 = train(ModelLR_2, lr_X, lr_y) # train the model using the 4-fold\n",
        "print(\"Average accuracy:\", ave_accuracy_lr2)"
      ],
      "metadata": {
        "colab": {
          "base_uri": "https://localhost:8080/"
        },
        "id": "cOBTZiyTW2IS",
        "outputId": "729e3e1e-9fbd-47f1-e68c-7c526e071067"
      },
      "execution_count": null,
      "outputs": [
        {
          "output_type": "stream",
          "name": "stdout",
          "text": [
            "Average accuracy: 0.898654513888889\n"
          ]
        }
      ]
    },
    {
      "cell_type": "markdown",
      "source": [
        "**Test**"
      ],
      "metadata": {
        "id": "KFfGFYHyi_e7"
      }
    },
    {
      "cell_type": "code",
      "source": [
        "y_pred_lr_2 = ModelLR_2.predict(X_test_lr) # evaluate the model using the test set\n",
        "cm_lr2 = confusion_matrix(y_test_lr, y_pred_lr_2)# build a confusion matrix on the result"
      ],
      "metadata": {
        "id": "VFu9yOFicim7"
      },
      "execution_count": null,
      "outputs": []
    },
    {
      "cell_type": "code",
      "source": [
        "disp = ConfusionMatrixDisplay(confusion_matrix=cm_lr2, display_labels=ModelLR_2.classes_)\n",
        "disp.plot()# display the confusion matrix"
      ],
      "metadata": {
        "colab": {
          "base_uri": "https://localhost:8080/",
          "height": 466
        },
        "id": "kUM0c-NUclXw",
        "outputId": "b5421d0c-cb67-49f0-d344-2acc7ee4353e"
      },
      "execution_count": null,
      "outputs": [
        {
          "output_type": "execute_result",
          "data": {
            "text/plain": [
              "<sklearn.metrics._plot.confusion_matrix.ConfusionMatrixDisplay at 0x7c42e9e31cc0>"
            ]
          },
          "metadata": {},
          "execution_count": 346
        },
        {
          "output_type": "display_data",
          "data": {
            "text/plain": [
              "<Figure size 640x480 with 2 Axes>"
            ],
            "image/png": "[encoded data removed]"
          },
          "metadata": {}
        }
      ]
    },
    {
      "cell_type": "code",
      "source": [
        "accuracy_lr2 = sk.metrics.accuracy_score(y_test_lr, y_pred_lr_2) # generate the accuracy score of the predicted\n",
        "accuracy_lr2"
      ],
      "metadata": {
        "colab": {
          "base_uri": "https://localhost:8080/"
        },
        "id": "CKGQrV5bQ9s9",
        "outputId": "bd1c2d96-84af-411b-be60-7312d2eaa398"
      },
      "execution_count": null,
      "outputs": [
        {
          "output_type": "execute_result",
          "data": {
            "text/plain": [
              "0.9201388888888888"
            ]
          },
          "metadata": {},
          "execution_count": 347
        }
      ]
    },
    {
      "cell_type": "markdown",
      "source": [
        "\n",
        "\n",
        "---\n",
        "\n",
        "\n",
        "######**Precision and Recalls**\n",
        "\n",
        "\n"
      ],
      "metadata": {
        "id": "CK-vHyGoddKk"
      }
    },
    {
      "cell_type": "markdown",
      "source": [
        "**Per class precisions**\n"
      ],
      "metadata": {
        "id": "vu1WXlJV6M9m"
      }
    },
    {
      "cell_type": "code",
      "source": [
        "precisions_lr_2 = precision_score(y_test_lr, y_pred_lr_2, average=None)\n",
        "#define the precision score on every class\n",
        "for label, precision in zip(labels, precisions_lr_2):\n",
        "    print(f'Precision for class {label}: {precision}')"
      ],
      "metadata": {
        "colab": {
          "base_uri": "https://localhost:8080/"
        },
        "id": "IEuHfhGN6OcH",
        "outputId": "57f3d430-8f6f-4fbd-93d3-25c0989986de"
      },
      "execution_count": null,
      "outputs": [
        {
          "output_type": "stream",
          "name": "stdout",
          "text": [
            "Precision for class acc: 0.7692307692307693\n",
            "Precision for class good: 0.7878787878787878\n",
            "Precision for class unacc: 0.994475138121547\n",
            "Precision for class vgood: 0.96\n"
          ]
        }
      ]
    },
    {
      "cell_type": "markdown",
      "source": [
        "**Per class recalls**\n"
      ],
      "metadata": {
        "id": "wGi88hlQ6QB6"
      }
    },
    {
      "cell_type": "code",
      "source": [
        "recalls_lr_2 = recall_score(y_test_lr, y_pred_lr_2, average=None)\n",
        "#define the recall score on every class\n",
        "for label, recall in zip(labels, recalls_lr_2):\n",
        "    print(f'Recall for class {label}: {recall}')"
      ],
      "metadata": {
        "colab": {
          "base_uri": "https://localhost:8080/"
        },
        "id": "FOlPPPBX6Rnk",
        "outputId": "6009ea3e-a856-44c9-bda6-5f500886ca37"
      },
      "execution_count": null,
      "outputs": [
        {
          "output_type": "stream",
          "name": "stdout",
          "text": [
            "Recall for class acc: 0.9375\n",
            "Recall for class good: 1.0\n",
            "Recall for class unacc: 0.906801007556675\n",
            "Recall for class vgood: 0.96\n"
          ]
        }
      ]
    },
    {
      "cell_type": "markdown",
      "source": [
        "\n",
        "\n",
        "---\n",
        "\n",
        "\n",
        "###### **Micro-average and Macro-average**"
      ],
      "metadata": {
        "id": "Rg9UAfibddKp"
      }
    },
    {
      "cell_type": "markdown",
      "source": [
        "- Macro averages"
      ],
      "metadata": {
        "id": "dyJ27fNEddKq"
      }
    },
    {
      "cell_type": "code",
      "source": [
        "#precision\n",
        "macro_precision_lr_2 = precision_score(y_test_lr, y_pred_lr_2, average='macro')\n",
        "print('Macro Precision:', macro_precision_lr_2)"
      ],
      "metadata": {
        "colab": {
          "base_uri": "https://localhost:8080/"
        },
        "outputId": "94795a47-2f3f-49dc-8631-d4a327a41c60",
        "id": "qm9eg4JtddKr"
      },
      "execution_count": null,
      "outputs": [
        {
          "output_type": "stream",
          "name": "stdout",
          "text": [
            "Macro Precision: 0.8778961738077761\n"
          ]
        }
      ]
    },
    {
      "cell_type": "code",
      "source": [
        "#recall\n",
        "macro_recall_lr_2 = recall_score(y_test_lr, y_pred_lr_2, average='macro')\n",
        "\n",
        "print('Recall:', macro_recall_lr_2)"
      ],
      "metadata": {
        "colab": {
          "base_uri": "https://localhost:8080/"
        },
        "outputId": "5e1cfa66-be16-428b-89fe-16676e24ab18",
        "id": "IXtY25U6ddKt"
      },
      "execution_count": null,
      "outputs": [
        {
          "output_type": "stream",
          "name": "stdout",
          "text": [
            "Recall: 0.9510752518891687\n"
          ]
        }
      ]
    },
    {
      "cell_type": "markdown",
      "source": [
        "- Micro averages"
      ],
      "metadata": {
        "id": "CtvuBZX7ddKr"
      }
    },
    {
      "cell_type": "code",
      "source": [
        "#precision\n",
        "micro_precision_lr_2 = precision_score(y_test_lr, y_pred_lr_2, average='micro')\n",
        "\n",
        "print('Micro Precision:', micro_precision_lr_2)"
      ],
      "metadata": {
        "colab": {
          "base_uri": "https://localhost:8080/"
        },
        "outputId": "2e56a19d-4bce-4cfd-c34e-a8986c2094b1",
        "id": "SIvYX82pddKs"
      },
      "execution_count": null,
      "outputs": [
        {
          "output_type": "stream",
          "name": "stdout",
          "text": [
            "Micro Precision: 0.9201388888888888\n"
          ]
        }
      ]
    },
    {
      "cell_type": "code",
      "source": [
        "#recall\n",
        "micro_recall_lr_2 = recall_score(y_test_lr, y_pred_lr_2, average='micro')\n",
        "\n",
        "print('Recall:', micro_recall_lr_2)"
      ],
      "metadata": {
        "colab": {
          "base_uri": "https://localhost:8080/"
        },
        "outputId": "46ccae8b-555c-4f1b-c93f-b4109ae58611",
        "id": "BQ1Qd2VCddKu"
      },
      "execution_count": null,
      "outputs": [
        {
          "output_type": "stream",
          "name": "stdout",
          "text": [
            "Recall: 0.9201388888888888\n"
          ]
        }
      ]
    },
    {
      "cell_type": "markdown",
      "source": [
        "\n",
        "\n",
        "---\n",
        "\n"
      ],
      "metadata": {
        "id": "KRGm5gZMMY9c"
      }
    },
    {
      "cell_type": "markdown",
      "source": [
        "####**ii. Naïve Bayes Model**"
      ],
      "metadata": {
        "id": "UfhiyoCzLmvd"
      }
    },
    {
      "cell_type": "markdown",
      "source": [
        "#####**Model 1**"
      ],
      "metadata": {
        "id": "CdNHLxYvhFdq"
      }
    },
    {
      "cell_type": "markdown",
      "source": [
        "- `alpha=0.5` the smoothing parameter. It controls the rate at which the influence of the observations at prior time steps decay exponentially\n",
        "- `fit_prior=True` This means that the classifier will learn class prior probabilities from the training data.\n"
      ],
      "metadata": {
        "id": "Vlo7CB7A6at7"
      }
    },
    {
      "cell_type": "code",
      "source": [
        "ModelNB_1 = CategoricalNB(alpha=0.5,  fit_prior=True) # apply the parameter to the model"
      ],
      "metadata": {
        "id": "Gd_XdtpeMN3r"
      },
      "execution_count": null,
      "outputs": []
    },
    {
      "cell_type": "code",
      "source": [
        "ave_accuracy_nb1 = train(ModelNB_1, nb_X, nb_y) # train the model using the 4-fold\n",
        "print(\"Average accuracy:\", ave_accuracy_nb1)"
      ],
      "metadata": {
        "colab": {
          "base_uri": "https://localhost:8080/"
        },
        "id": "ok3h3-57W9j0",
        "outputId": "47ada6bf-55d7-41ea-fd44-fe86d1582e3c"
      },
      "execution_count": null,
      "outputs": [
        {
          "output_type": "stream",
          "name": "stdout",
          "text": [
            "Average accuracy: 0.890625\n"
          ]
        }
      ]
    },
    {
      "cell_type": "markdown",
      "source": [
        "**Test**"
      ],
      "metadata": {
        "id": "OJRRLzIduE6W"
      }
    },
    {
      "cell_type": "code",
      "source": [
        "y_pred_nb_1 = ModelNB_1.predict(X_test_nb) # test the model\n",
        "cm_nb1 = confusion_matrix(y_test_nb, y_pred_nb_1)"
      ],
      "metadata": {
        "id": "LB4g0AYNuE6g"
      },
      "execution_count": null,
      "outputs": []
    },
    {
      "cell_type": "code",
      "source": [
        "disp = ConfusionMatrixDisplay(confusion_matrix=cm_nb1, display_labels=ModelNB.classes_) # display the confusion_matrix\n",
        "disp.plot()"
      ],
      "metadata": {
        "colab": {
          "base_uri": "https://localhost:8080/",
          "height": 466
        },
        "outputId": "738f062e-37b7-45b6-af03-461ee24c9490",
        "id": "Z_eO0VRCuE6g"
      },
      "execution_count": null,
      "outputs": [
        {
          "output_type": "execute_result",
          "data": {
            "text/plain": [
              "<sklearn.metrics._plot.confusion_matrix.ConfusionMatrixDisplay at 0x7c42e9e51000>"
            ]
          },
          "metadata": {},
          "execution_count": 357
        },
        {
          "output_type": "display_data",
          "data": {
            "text/plain": [
              "<Figure size 640x480 with 2 Axes>"
            ],
            "image/png": "[encoded data removed]"
          },
          "metadata": {}
        }
      ]
    },
    {
      "cell_type": "code",
      "source": [
        "accuracy_nb1 = sk.metrics.accuracy_score(y_test_nb, y_pred_nb_1) # show accuracy score\n",
        "accuracy_nb1"
      ],
      "metadata": {
        "colab": {
          "base_uri": "https://localhost:8080/"
        },
        "id": "W4JqKXC9uUGM",
        "outputId": "2cf1be65-1145-4650-a1d6-deb82bbf8eb2"
      },
      "execution_count": null,
      "outputs": [
        {
          "output_type": "execute_result",
          "data": {
            "text/plain": [
              "0.8246527777777778"
            ]
          },
          "metadata": {},
          "execution_count": 358
        }
      ]
    },
    {
      "cell_type": "markdown",
      "source": [
        "######**Precision and Recalls**\n",
        "\n",
        "\n",
        "\n"
      ],
      "metadata": {
        "id": "FhEy1jKL9epJ"
      }
    },
    {
      "cell_type": "markdown",
      "source": [
        "**Per class precisions**"
      ],
      "metadata": {
        "id": "r4Zx44cs9epS"
      }
    },
    {
      "cell_type": "code",
      "source": [
        "precisions_nb_1 = precision_score(y_test_nb, y_pred_nb_1, average=None)\n",
        "#define the precision score on every class\n",
        "for label, precision in zip(labels, precisions_nb_1):\n",
        "    print(f'Precision for class {label}: {precision}')"
      ],
      "metadata": {
        "colab": {
          "base_uri": "https://localhost:8080/"
        },
        "outputId": "9eae1292-25a2-43e2-9859-3e961a4969d1",
        "id": "8NS5WeXt9epS"
      },
      "execution_count": null,
      "outputs": [
        {
          "output_type": "stream",
          "name": "stdout",
          "text": [
            "Precision for class acc: 0.5958904109589042\n",
            "Precision for class good: 0.4444444444444444\n",
            "Precision for class unacc: 0.9114832535885168\n",
            "Precision for class vgood: 1.0\n"
          ]
        }
      ]
    },
    {
      "cell_type": "markdown",
      "source": [
        "**Per class recalls**"
      ],
      "metadata": {
        "id": "73FMeP1I9epS"
      }
    },
    {
      "cell_type": "code",
      "source": [
        "recalls_nb_1 = recall_score(y_test_nb, y_pred_nb_1, average=None)\n",
        "#define the recall score on every class\n",
        "for label, recall in zip(labels, recalls_nb_1):\n",
        "    print(f'Recall for class {label}: {recall}')"
      ],
      "metadata": {
        "colab": {
          "base_uri": "https://localhost:8080/"
        },
        "outputId": "e1ff9770-9403-4b02-cdd8-59d1d936feda",
        "id": "LYymqzX79epS"
      },
      "execution_count": null,
      "outputs": [
        {
          "output_type": "stream",
          "name": "stdout",
          "text": [
            "Recall for class acc: 0.6796875\n",
            "Recall for class good: 0.15384615384615385\n",
            "Recall for class unacc: 0.9596977329974811\n",
            "Recall for class vgood: 0.12\n"
          ]
        }
      ]
    },
    {
      "cell_type": "markdown",
      "source": [
        "######**Micro-average and Macro-average**"
      ],
      "metadata": {
        "id": "3_7vCqJs9epS"
      }
    },
    {
      "cell_type": "markdown",
      "source": [
        "- Macro averages"
      ],
      "metadata": {
        "id": "xPmAF4OB9epT"
      }
    },
    {
      "cell_type": "code",
      "source": [
        "#precision\n",
        "macro_precision_nb_1 = precision_score(y_test_nb, y_pred_nb_1, average='macro')\n",
        "\n",
        "print('Precision:', macro_precision_nb_1)"
      ],
      "metadata": {
        "colab": {
          "base_uri": "https://localhost:8080/"
        },
        "outputId": "629d7cb6-2eae-43aa-b1eb-4c027d71183d",
        "id": "Ui4KMsa29epT"
      },
      "execution_count": null,
      "outputs": [
        {
          "output_type": "stream",
          "name": "stdout",
          "text": [
            "Precision: 0.7379545272479664\n"
          ]
        }
      ]
    },
    {
      "cell_type": "code",
      "source": [
        "#recall\n",
        "macro_recall_nb_1 = recall_score(y_test_nb, y_pred_nb_1, average='macro')\n",
        "\n",
        "print('Recall:', macro_recall_nb_1)"
      ],
      "metadata": {
        "colab": {
          "base_uri": "https://localhost:8080/"
        },
        "outputId": "f92bbba7-4d3e-4500-fe7e-bc0879514d29",
        "id": "vaezVyUU9epU"
      },
      "execution_count": null,
      "outputs": [
        {
          "output_type": "stream",
          "name": "stdout",
          "text": [
            "Recall: 0.47830784671090876\n"
          ]
        }
      ]
    },
    {
      "cell_type": "markdown",
      "source": [
        "- Micro averages"
      ],
      "metadata": {
        "id": "kV4aUzM_9epT"
      }
    },
    {
      "cell_type": "code",
      "source": [
        "#precision\n",
        "micro_precision_nb_1 = precision_score(y_test_nb, y_pred_nb_1, average='micro')\n",
        "\n",
        "print('Precision:', micro_precision_nb_1)"
      ],
      "metadata": {
        "colab": {
          "base_uri": "https://localhost:8080/"
        },
        "outputId": "58724da2-eb50-4997-a580-4011e660af67",
        "id": "NMAnYjEM9epT"
      },
      "execution_count": null,
      "outputs": [
        {
          "output_type": "stream",
          "name": "stdout",
          "text": [
            "Precision: 0.8246527777777778\n"
          ]
        }
      ]
    },
    {
      "cell_type": "code",
      "source": [
        "#recall\n",
        "micro_recall_nb_1 = recall_score(y_test_nb, y_pred_nb_1, average='micro')\n",
        "\n",
        "print('Recall:', micro_recall_nb_1)"
      ],
      "metadata": {
        "colab": {
          "base_uri": "https://localhost:8080/"
        },
        "outputId": "ee5350ef-367f-4044-8ad0-7ec7a2d1a338",
        "id": "z0LpTSlH9epU"
      },
      "execution_count": null,
      "outputs": [
        {
          "output_type": "stream",
          "name": "stdout",
          "text": [
            "Recall: 0.8246527777777778\n"
          ]
        }
      ]
    },
    {
      "cell_type": "markdown",
      "source": [
        "\n",
        "\n",
        "---\n",
        "\n",
        "\n",
        "#####**Model 2**"
      ],
      "metadata": {
        "id": "3ZH2n4hkhK5W"
      }
    },
    {
      "cell_type": "markdown",
      "source": [
        "- `alpha=0`no smoothing is applied.  \n",
        "- `fit_prior=False` uniform prior probabilities will be used.\n",
        "- `force_alpha=True` If False and alpha is less than 1e-10, it will set alpha to\n",
        "1e-10. If True, alpha will remain unchanged. This may cause\n",
        "numerical errors if alpha is too close to 0."
      ],
      "metadata": {
        "id": "TIFncXQK-KyO"
      }
    },
    {
      "cell_type": "code",
      "source": [
        "ModelNB_2 = CategoricalNB(alpha=0, fit_prior=False, force_alpha=True) #define the model with the applied parameters"
      ],
      "metadata": {
        "id": "1EEQAnju5Dzr"
      },
      "execution_count": null,
      "outputs": []
    },
    {
      "cell_type": "code",
      "source": [
        "ave_accuracy_nb2 = train(ModelNB_2, nb_X, nb_y) #train\n",
        "print(\"Average accuracy:\", ave_accuracy_nb2)\n",
        "#please ignored the warning"
      ],
      "metadata": {
        "colab": {
          "base_uri": "https://localhost:8080/"
        },
        "id": "l9Va38yNXAt0",
        "outputId": "ae37170e-339c-47b1-96ae-ae7ec5e1c72d"
      },
      "execution_count": null,
      "outputs": [
        {
          "output_type": "stream",
          "name": "stdout",
          "text": [
            "Average accuracy: 0.8770254629629629\n"
          ]
        },
        {
          "output_type": "stream",
          "name": "stderr",
          "text": [
            "/usr/local/lib/python3.10/dist-packages/sklearn/naive_bayes.py:1521: RuntimeWarning: divide by zero encountered in log\n",
            "  np.log(smoothed_cat_count) - np.log(smoothed_class_count.reshape(-1, 1))\n",
            "/usr/local/lib/python3.10/dist-packages/sklearn/naive_bayes.py:1521: RuntimeWarning: divide by zero encountered in log\n",
            "  np.log(smoothed_cat_count) - np.log(smoothed_class_count.reshape(-1, 1))\n",
            "/usr/local/lib/python3.10/dist-packages/sklearn/naive_bayes.py:1521: RuntimeWarning: divide by zero encountered in log\n",
            "  np.log(smoothed_cat_count) - np.log(smoothed_class_count.reshape(-1, 1))\n",
            "/usr/local/lib/python3.10/dist-packages/sklearn/naive_bayes.py:1521: RuntimeWarning: divide by zero encountered in log\n",
            "  np.log(smoothed_cat_count) - np.log(smoothed_class_count.reshape(-1, 1))\n"
          ]
        }
      ]
    },
    {
      "cell_type": "markdown",
      "source": [
        "**Test**"
      ],
      "metadata": {
        "id": "diqsK4xo72nO"
      }
    },
    {
      "cell_type": "code",
      "source": [
        "y_pred_nb_2 = ModelNB_2.predict(X_test_nb) #test\n",
        "cm_nb2 = confusion_matrix(y_test_nb, y_pred_nb_2)"
      ],
      "metadata": {
        "id": "rUoOSLZp72nf"
      },
      "execution_count": null,
      "outputs": []
    },
    {
      "cell_type": "code",
      "source": [
        "disp = ConfusionMatrixDisplay(confusion_matrix=cm_nb2, display_labels=ModelNB.classes_) #show confusion_matrix\n",
        "disp.plot()"
      ],
      "metadata": {
        "colab": {
          "base_uri": "https://localhost:8080/",
          "height": 466
        },
        "outputId": "e576b2c8-3576-4d6c-d79e-21e771437833",
        "id": "buPgntHH72ng"
      },
      "execution_count": null,
      "outputs": [
        {
          "output_type": "execute_result",
          "data": {
            "text/plain": [
              "<sklearn.metrics._plot.confusion_matrix.ConfusionMatrixDisplay at 0x7c42e9bda3e0>"
            ]
          },
          "metadata": {},
          "execution_count": 368
        },
        {
          "output_type": "display_data",
          "data": {
            "text/plain": [
              "<Figure size 640x480 with 2 Axes>"
            ],
            "image/png": "[encoded data removed]"
          },
          "metadata": {}
        }
      ]
    },
    {
      "cell_type": "code",
      "source": [
        "accuracy_nb2 = sk.metrics.accuracy_score(y_test_nb, y_pred_nb_2) # show accuracy_score\n",
        "accuracy_nb2"
      ],
      "metadata": {
        "colab": {
          "base_uri": "https://localhost:8080/"
        },
        "outputId": "10027367-54c1-4665-ce0c-d6a7503830f1",
        "id": "1szTmOCJ72ng"
      },
      "execution_count": null,
      "outputs": [
        {
          "output_type": "execute_result",
          "data": {
            "text/plain": [
              "0.8194444444444444"
            ]
          },
          "metadata": {},
          "execution_count": 369
        }
      ]
    },
    {
      "cell_type": "markdown",
      "source": [
        "######**Precision and Recalls**\n",
        "\n",
        "\n",
        "\n"
      ],
      "metadata": {
        "id": "CE43bU_XWxj9"
      }
    },
    {
      "cell_type": "markdown",
      "source": [
        "**Per class precisions**"
      ],
      "metadata": {
        "id": "LxRukSS0WxkA"
      }
    },
    {
      "cell_type": "code",
      "source": [
        "precisions_nb_2 = precision_score(y_test_nb, y_pred_nb_2, average=None)\n",
        "#show the pre class precision\n",
        "for label, precision in zip(labels, precisions_nb_2):\n",
        "    print(f'Precision for class {label}: {precision}')"
      ],
      "metadata": {
        "colab": {
          "base_uri": "https://localhost:8080/"
        },
        "outputId": "e70fdf48-cd8c-44e8-9f89-20d598dea983",
        "id": "Q0NZ_zdcWxkB"
      },
      "execution_count": null,
      "outputs": [
        {
          "output_type": "stream",
          "name": "stdout",
          "text": [
            "Precision for class acc: 0.5656565656565656\n",
            "Precision for class good: 0.625\n",
            "Precision for class unacc: 1.0\n",
            "Precision for class vgood: 0.8888888888888888\n"
          ]
        }
      ]
    },
    {
      "cell_type": "markdown",
      "source": [
        "**Per class recalls**"
      ],
      "metadata": {
        "id": "-ZSlVHORWxkD"
      }
    },
    {
      "cell_type": "code",
      "source": [
        "recalls_nb_2 = recall_score(y_test_nb, y_pred_nb_2, average=None)\n",
        "#show the pre class recall\n",
        "for label, recall in zip(labels, recalls_nb_2):\n",
        "    print(f'Recall for class {label}: {recall}')"
      ],
      "metadata": {
        "colab": {
          "base_uri": "https://localhost:8080/"
        },
        "outputId": "4bf927de-15a8-4e6b-b587-f4fdb311ccb9",
        "id": "1grhb0EgWxkE"
      },
      "execution_count": null,
      "outputs": [
        {
          "output_type": "stream",
          "name": "stdout",
          "text": [
            "Recall for class acc: 0.875\n",
            "Recall for class good: 0.9615384615384616\n",
            "Recall for class unacc: 0.783375314861461\n",
            "Recall for class vgood: 0.96\n"
          ]
        }
      ]
    },
    {
      "cell_type": "markdown",
      "source": [
        "######**Micro-average and Macro-average**"
      ],
      "metadata": {
        "id": "oX86MPP4WxkF"
      }
    },
    {
      "cell_type": "markdown",
      "source": [
        "- Macro averages"
      ],
      "metadata": {
        "id": "VP1DYSgLWxkG"
      }
    },
    {
      "cell_type": "code",
      "source": [
        "#precision\n",
        "macro_precision_nb_2 = precision_score(y_test_nb, y_pred_nb_2, average='macro')\n",
        "\n",
        "print('Precision:', macro_precision_nb_2)"
      ],
      "metadata": {
        "colab": {
          "base_uri": "https://localhost:8080/"
        },
        "outputId": "f82db168-10d8-4ac2-9fa6-7b4d47d99f10",
        "id": "JdjZRDmOWxkH"
      },
      "execution_count": null,
      "outputs": [
        {
          "output_type": "stream",
          "name": "stdout",
          "text": [
            "Precision: 0.7698863636363636\n"
          ]
        }
      ]
    },
    {
      "cell_type": "code",
      "source": [
        "#recall\n",
        "macro_recall_nb_2 = recall_score(y_test_nb, y_pred_nb_2, average='macro')\n",
        "\n",
        "print('Recall:', macro_recall_nb_2)"
      ],
      "metadata": {
        "colab": {
          "base_uri": "https://localhost:8080/"
        },
        "outputId": "6fde5bc8-31ea-4020-b1e4-62778e7144c4",
        "id": "4xb-6AJTWxkL"
      },
      "execution_count": null,
      "outputs": [
        {
          "output_type": "stream",
          "name": "stdout",
          "text": [
            "Recall: 0.8949784440999806\n"
          ]
        }
      ]
    },
    {
      "cell_type": "markdown",
      "source": [
        "- Micro averages"
      ],
      "metadata": {
        "id": "3K0cIl2hWxkI"
      }
    },
    {
      "cell_type": "code",
      "source": [
        "# precision\n",
        "micro_precision_nb_2 = precision_score(y_test_nb, y_pred_nb_2, average='micro')\n",
        "\n",
        "print('Precision:', micro_precision_nb_2)"
      ],
      "metadata": {
        "colab": {
          "base_uri": "https://localhost:8080/"
        },
        "outputId": "e4cc296c-9ce2-4262-fbdd-b1deee03f108",
        "id": "3vrhSqV2WxkI"
      },
      "execution_count": null,
      "outputs": [
        {
          "output_type": "stream",
          "name": "stdout",
          "text": [
            "Precision: 0.8194444444444444\n"
          ]
        }
      ]
    },
    {
      "cell_type": "code",
      "source": [
        "# recall\n",
        "micro_recall_nb_2 = recall_score(y_test_nb, y_pred_nb_2, average='micro')\n",
        "\n",
        "print('Recall:', micro_recall_nb_2)"
      ],
      "metadata": {
        "colab": {
          "base_uri": "https://localhost:8080/"
        },
        "outputId": "2b1d8ffd-24f4-4b21-d441-16ec42787b0a",
        "id": "sl4WR9TiWxkM"
      },
      "execution_count": null,
      "outputs": [
        {
          "output_type": "stream",
          "name": "stdout",
          "text": [
            "Recall: 0.8194444444444444\n"
          ]
        }
      ]
    },
    {
      "cell_type": "markdown",
      "source": [
        "\n",
        "\n",
        "---\n",
        "\n"
      ],
      "metadata": {
        "id": "kvBkeLN7AgWR"
      }
    },
    {
      "cell_type": "markdown",
      "source": [
        "##**Define the performance graph**"
      ],
      "metadata": {
        "id": "w5hXNftRUang"
      }
    },
    {
      "cell_type": "code",
      "source": [
        "def pr_curve(model, X_test, y_test,  title):\n",
        "\n",
        "  # define 2 dictionary that stores the precision/recall scourse for each class\n",
        "  precision = dict()\n",
        "  recall = dict()\n",
        "\n",
        "  #define the predict proba\n",
        "  y_prob = model.predict_proba(X_test)\n",
        "\n",
        "  #y_test_binarized = label_binarize(y_test, classes=np.arange(len(model.classes_)))\n",
        "\n",
        "  # define the color lines\n",
        "  colors = ['navy', 'turquoise', 'darkorange', 'cornflowerblue']\n",
        "\n",
        "  for class_idx in range(len(model.classes_)):\n",
        "      precision[class_idx], recall[class_idx], _= precision_recall_curve(\n",
        "          y_test == model.classes_[class_idx], y_prob[:, class_idx])\n",
        "\n",
        "\n",
        "  # Plot the precision-recall curve for each class\n",
        "  for class_idx, color in zip(range(len(model.classes_)), colors):\n",
        "      # plot the curve for each class\n",
        "      plt.plot(recall[class_idx], precision[class_idx], color=color, lw=2, label=model.classes_[class_idx])\n",
        "\n",
        "  # add x-y labels and title\n",
        "  plt.xlabel('Recall')\n",
        "  plt.ylabel('Precision')\n",
        "  plt.title('Precision-Recall Curve for %s Classification Model' %title)\n",
        "  plt.plot([0, 1], [0.5, 0.5],'--',label='baseline')\n",
        "\n",
        "  plt.legend(loc='best')\n",
        "  plt.show()"
      ],
      "metadata": {
        "id": "O9W1O6VkAfYB"
      },
      "execution_count": null,
      "outputs": []
    },
    {
      "cell_type": "code",
      "source": [
        "index = ['LR',  'LR1', 'LR2', 'NB', 'NB1', 'NB2']\n",
        "\n",
        "# define the micro/macro-average table for each model\n",
        "data = {\n",
        "\n",
        "    'Pre_Mac': [macro_precision_lr, macro_precision_lr_1, macro_precision_lr_2, macro_precision_nb, macro_precision_nb_1, macro_precision_nb_2],\n",
        "    'Rec_Mac': [macro_recall_lr,  macro_recall_lr_1, macro_recall_lr_2, macro_recall_nb, macro_recall_nb_1, macro_recall_nb_2],\n",
        "    'Pre_Mic': [micro_precision_lr,  micro_precision_lr_1, micro_precision_lr_2, micro_precision_nb,micro_precision_nb_1, micro_precision_nb_2],\n",
        "    'Rec_Mic': [micro_recall_lr,  micro_recall_lr_1, micro_recall_lr_2, micro_recall_nb, micro_recall_nb_1, micro_recall_nb_2],\n",
        "    'ave_accuracy': [ave_accuracy_lr, ave_accuracy_lr1, ave_accuracy_lr2, ave_accuracy_nb, ave_accuracy_nb1, ave_accuracy_nb2],\n",
        "    'test_accuracy': [accuracy_lr, accuracy_lr1, accuracy_lr2, accuracy_nb, accuracy_nb1, accuracy_nb2]\n",
        "}\n",
        "\n",
        "df_MacMic_2 = pd.DataFrame(data, index = index)"
      ],
      "metadata": {
        "id": "RYw8AW5g_kBZ"
      },
      "execution_count": null,
      "outputs": []
    },
    {
      "cell_type": "code",
      "source": [
        "# define the table of performance precisions on each class for all model\n",
        "data1 = {\n",
        "\n",
        "    'acc': [precisions_lr[0], precisions_lr_1[0], precisions_lr_2[0], precisions_nb[0], precisions_nb_1[0], precisions_nb_2[0]],\n",
        "    'good': [precisions_lr[1], precisions_lr_1[1], precisions_lr_2[1], precisions_nb[1], precisions_nb_1[1], precisions_nb_2[1]],\n",
        "    'unacc': [precisions_lr[2], precisions_lr_1[2], precisions_lr_2[2], precisions_nb[2], precisions_nb_1[2], precisions_nb_2[2]],\n",
        "    'vgood': [precisions_lr[3], precisions_lr_1[3], precisions_lr_2[3], precisions_nb[3], precisions_nb_1[3], precisions_nb_2[3]],\n",
        "\n",
        "}\n",
        "\n",
        "df_Pre = pd.DataFrame(data1, index = index)"
      ],
      "metadata": {
        "id": "1nQn5E564B0X"
      },
      "execution_count": null,
      "outputs": []
    },
    {
      "cell_type": "code",
      "source": [
        "# define the table of performance recalls on each class for all model\n",
        "data2 = {\n",
        "\n",
        "    'acc': [recalls_lr[0], recalls_lr_1[0], recalls_lr_2[0], recalls_nb[0], recalls_nb_1[0], recalls_nb_2[0]],\n",
        "    'good': [recalls_lr[1], recalls_lr_1[1], recalls_lr_2[1], recalls_nb[1], recalls_nb_1[1], recalls_nb_2[1]],\n",
        "    'unacc': [recalls_lr[2], recalls_lr_1[2], recalls_lr_2[2], recalls_nb[2], recalls_nb_1[2], recalls_nb_2[2]],\n",
        "    'vgood': [recalls_lr[3], recalls_lr_1[3], recalls_lr_2[3], recalls_nb[3], recalls_nb_1[3], recalls_nb_2[3]],\n",
        "\n",
        "}\n",
        "\n",
        "df_Rec = pd.DataFrame(data2, index = index)"
      ],
      "metadata": {
        "id": "lA0Vuopq5kyr"
      },
      "execution_count": null,
      "outputs": []
    },
    {
      "cell_type": "markdown",
      "source": [
        "\n",
        "\n",
        "---\n",
        "\n"
      ],
      "metadata": {
        "id": "6DblL40XAhTX"
      }
    },
    {
      "cell_type": "markdown",
      "source": [
        "##**7. Analyze the obtained results**"
      ],
      "metadata": {
        "id": "m31NhfOgPoPX"
      }
    },
    {
      "cell_type": "markdown",
      "source": [
        "> Class value distribution"
      ],
      "metadata": {
        "id": "1pzWdnZVaCLK"
      }
    },
    {
      "cell_type": "markdown",
      "source": [
        "`Class distrpution on training set`\n",
        "`{'acc': 256, 'good': 43, 'unacc': 813, 'vgood': 40}`"
      ],
      "metadata": {
        "id": "FA0NlWeO3uq1"
      }
    },
    {
      "cell_type": "markdown",
      "source": [
        "> Compare quantitatively precision measures"
      ],
      "metadata": {
        "id": "r4mX0b1M6nJB"
      }
    },
    {
      "cell_type": "code",
      "source": [
        "df_Pre"
      ],
      "metadata": {
        "colab": {
          "base_uri": "https://localhost:8080/",
          "height": 238
        },
        "id": "N_PKlNdg6Wze",
        "outputId": "5f077424-f316-4705-e5b7-ac26298d24e7"
      },
      "execution_count": null,
      "outputs": [
        {
          "output_type": "execute_result",
          "data": {
            "text/plain": [
              "          acc      good     unacc     vgood\n",
              "LR   0.696774  0.666667  0.959184  1.000000\n",
              "LR1  0.704819  0.607143  0.991758  0.944444\n",
              "LR2  0.769231  0.787879  0.994475  0.960000\n",
              "NB   0.591837  0.375000  0.911483  1.000000\n",
              "NB1  0.595890  0.444444  0.911483  1.000000\n",
              "NB2  0.565657  0.625000  1.000000  0.888889"
            ],
            "text/html": [
              "\n",
              "  <div id=\"df-d9f62e10-4902-4c25-8b22-c9906655da10\" class=\"colab-df-container\">\n",
              "    <div>\n",
              "<style scoped>\n",
              "    .dataframe tbody tr th:only-of-type {\n",
              "        vertical-align: middle;\n",
              "    }\n",
              "\n",
              "    .dataframe tbody tr th {\n",
              "        vertical-align: top;\n",
              "    }\n",
              "\n",
              "    .dataframe thead th {\n",
              "        text-align: right;\n",
              "    }\n",
              "</style>\n",
              "<table border=\"1\" class=\"dataframe\">\n",
              "  <thead>\n",
              "    <tr style=\"text-align: right;\">\n",
              "      <th></th>\n",
              "      <th>acc</th>\n",
              "      <th>good</th>\n",
              "      <th>unacc</th>\n",
              "      <th>vgood</th>\n",
              "    </tr>\n",
              "  </thead>\n",
              "  <tbody>\n",
              "    <tr>\n",
              "      <th>LR</th>\n",
              "      <td>0.696774</td>\n",
              "      <td>0.666667</td>\n",
              "      <td>0.959184</td>\n",
              "      <td>1.000000</td>\n",
              "    </tr>\n",
              "    <tr>\n",
              "      <th>LR1</th>\n",
              "      <td>0.704819</td>\n",
              "      <td>0.607143</td>\n",
              "      <td>0.991758</td>\n",
              "      <td>0.944444</td>\n",
              "    </tr>\n",
              "    <tr>\n",
              "      <th>LR2</th>\n",
              "      <td>0.769231</td>\n",
              "      <td>0.787879</td>\n",
              "      <td>0.994475</td>\n",
              "      <td>0.960000</td>\n",
              "    </tr>\n",
              "    <tr>\n",
              "      <th>NB</th>\n",
              "      <td>0.591837</td>\n",
              "      <td>0.375000</td>\n",
              "      <td>0.911483</td>\n",
              "      <td>1.000000</td>\n",
              "    </tr>\n",
              "    <tr>\n",
              "      <th>NB1</th>\n",
              "      <td>0.595890</td>\n",
              "      <td>0.444444</td>\n",
              "      <td>0.911483</td>\n",
              "      <td>1.000000</td>\n",
              "    </tr>\n",
              "    <tr>\n",
              "      <th>NB2</th>\n",
              "      <td>0.565657</td>\n",
              "      <td>0.625000</td>\n",
              "      <td>1.000000</td>\n",
              "      <td>0.888889</td>\n",
              "    </tr>\n",
              "  </tbody>\n",
              "</table>\n",
              "</div>\n",
              "    <div class=\"colab-df-buttons\">\n",
              "\n",
              "  <div class=\"colab-df-container\">\n",
              "    <button class=\"colab-df-convert\" onclick=\"convertToInteractive('df-d9f62e10-4902-4c25-8b22-c9906655da10')\"\n",
              "            title=\"Convert this dataframe to an interactive table.\"\n",
              "            style=\"display:none;\">\n",
              "\n",
              "  <svg xmlns=\"http://www.w3.org/2000/svg\" height=\"24px\" viewBox=\"0 -960 960 960\">\n",
              "    <path d=\"M120-120v-720h720v720H120Zm60-500h600v-160H180v160Zm220 220h160v-160H400v160Zm0 220h160v-160H400v160ZM180-400h160v-160H180v160Zm440 0h160v-160H620v160ZM180-180h160v-160H180v160Zm440 0h160v-160H620v160Z\"/>\n",
              "  </svg>\n",
              "    </button>\n",
              "\n",
              "  <style>\n",
              "    .colab-df-container {\n",
              "      display:flex;\n",
              "      gap: 12px;\n",
              "    }\n",
              "\n",
              "    .colab-df-convert {\n",
              "      background-color: #E8F0FE;\n",
              "      border: none;\n",
              "      border-radius: 50%;\n",
              "      cursor: pointer;\n",
              "      display: none;\n",
              "      fill: #1967D2;\n",
              "      height: 32px;\n",
              "      padding: 0 0 0 0;\n",
              "      width: 32px;\n",
              "    }\n",
              "\n",
              "    .colab-df-convert:hover {\n",
              "      background-color: #E2EBFA;\n",
              "      box-shadow: 0px 1px 2px rgba(60, 64, 67, 0.3), 0px 1px 3px 1px rgba(60, 64, 67, 0.15);\n",
              "      fill: #174EA6;\n",
              "    }\n",
              "\n",
              "    .colab-df-buttons div {\n",
              "      margin-bottom: 4px;\n",
              "    }\n",
              "\n",
              "    [theme=dark] .colab-df-convert {\n",
              "      background-color: #3B4455;\n",
              "      fill: #D2E3FC;\n",
              "    }\n",
              "\n",
              "    [theme=dark] .colab-df-convert:hover {\n",
              "      background-color: #434B5C;\n",
              "      box-shadow: 0px 1px 3px 1px rgba(0, 0, 0, 0.15);\n",
              "      filter: drop-shadow(0px 1px 2px rgba(0, 0, 0, 0.3));\n",
              "      fill: #FFFFFF;\n",
              "    }\n",
              "  </style>\n",
              "\n",
              "    <script>\n",
              "      const buttonEl =\n",
              "        document.querySelector('#df-d9f62e10-4902-4c25-8b22-c9906655da10 button.colab-df-convert');\n",
              "      buttonEl.style.display =\n",
              "        google.colab.kernel.accessAllowed ? 'block' : 'none';\n",
              "\n",
              "      async function convertToInteractive(key) {\n",
              "        const element = document.querySelector('#df-d9f62e10-4902-4c25-8b22-c9906655da10');\n",
              "        const dataTable =\n",
              "          await google.colab.kernel.invokeFunction('convertToInteractive',\n",
              "                                                    [key], {});\n",
              "        if (!dataTable) return;\n",
              "\n",
              "        const docLinkHtml = 'Like what you see? Visit the ' +\n",
              "          '<a target=\"_blank\" href=https://colab.research.google.com/notebooks/data_table.ipynb>data table notebook</a>'\n",
              "          + ' to learn more about interactive tables.';\n",
              "        element.innerHTML = '';\n",
              "        dataTable['output_type'] = 'display_data';\n",
              "        await google.colab.output.renderOutput(dataTable, element);\n",
              "        const docLink = document.createElement('div');\n",
              "        docLink.innerHTML = docLinkHtml;\n",
              "        element.appendChild(docLink);\n",
              "      }\n",
              "    </script>\n",
              "  </div>\n",
              "\n",
              "\n",
              "<div id=\"df-c2b91515-9e76-4468-b232-16a9bbb23b16\">\n",
              "  <button class=\"colab-df-quickchart\" onclick=\"quickchart('df-c2b91515-9e76-4468-b232-16a9bbb23b16')\"\n",
              "            title=\"Suggest charts.\"\n",
              "            style=\"display:none;\">\n",
              "\n",
              "<svg xmlns=\"http://www.w3.org/2000/svg\" height=\"24px\"viewBox=\"0 0 24 24\"\n",
              "     width=\"24px\">\n",
              "    <g>\n",
              "        <path d=\"M19 3H5c-1.1 0-2 .9-2 2v14c0 1.1.9 2 2 2h14c1.1 0 2-.9 2-2V5c0-1.1-.9-2-2-2zM9 17H7v-7h2v7zm4 0h-2V7h2v10zm4 0h-2v-4h2v4z\"/>\n",
              "    </g>\n",
              "</svg>\n",
              "  </button>\n",
              "\n",
              "<style>\n",
              "  .colab-df-quickchart {\n",
              "      --bg-color: #E8F0FE;\n",
              "      --fill-color: #1967D2;\n",
              "      --hover-bg-color: #E2EBFA;\n",
              "      --hover-fill-color: #174EA6;\n",
              "      --disabled-fill-color: #AAA;\n",
              "      --disabled-bg-color: #DDD;\n",
              "  }\n",
              "\n",
              "  [theme=dark] .colab-df-quickchart {\n",
              "      --bg-color: #3B4455;\n",
              "      --fill-color: #D2E3FC;\n",
              "      --hover-bg-color: #434B5C;\n",
              "      --hover-fill-color: #FFFFFF;\n",
              "      --disabled-bg-color: #3B4455;\n",
              "      --disabled-fill-color: #666;\n",
              "  }\n",
              "\n",
              "  .colab-df-quickchart {\n",
              "    background-color: var(--bg-color);\n",
              "    border: none;\n",
              "    border-radius: 50%;\n",
              "    cursor: pointer;\n",
              "    display: none;\n",
              "    fill: var(--fill-color);\n",
              "    height: 32px;\n",
              "    padding: 0;\n",
              "    width: 32px;\n",
              "  }\n",
              "\n",
              "  .colab-df-quickchart:hover {\n",
              "    background-color: var(--hover-bg-color);\n",
              "    box-shadow: 0 1px 2px rgba(60, 64, 67, 0.3), 0 1px 3px 1px rgba(60, 64, 67, 0.15);\n",
              "    fill: var(--button-hover-fill-color);\n",
              "  }\n",
              "\n",
              "  .colab-df-quickchart-complete:disabled,\n",
              "  .colab-df-quickchart-complete:disabled:hover {\n",
              "    background-color: var(--disabled-bg-color);\n",
              "    fill: var(--disabled-fill-color);\n",
              "    box-shadow: none;\n",
              "  }\n",
              "\n",
              "  .colab-df-spinner {\n",
              "    border: 2px solid var(--fill-color);\n",
              "    border-color: transparent;\n",
              "    border-bottom-color: var(--fill-color);\n",
              "    animation:\n",
              "      spin 1s steps(1) infinite;\n",
              "  }\n",
              "\n",
              "  @keyframes spin {\n",
              "    0% {\n",
              "      border-color: transparent;\n",
              "      border-bottom-color: var(--fill-color);\n",
              "      border-left-color: var(--fill-color);\n",
              "    }\n",
              "    20% {\n",
              "      border-color: transparent;\n",
              "      border-left-color: var(--fill-color);\n",
              "      border-top-color: var(--fill-color);\n",
              "    }\n",
              "    30% {\n",
              "      border-color: transparent;\n",
              "      border-left-color: var(--fill-color);\n",
              "      border-top-color: var(--fill-color);\n",
              "      border-right-color: var(--fill-color);\n",
              "    }\n",
              "    40% {\n",
              "      border-color: transparent;\n",
              "      border-right-color: var(--fill-color);\n",
              "      border-top-color: var(--fill-color);\n",
              "    }\n",
              "    60% {\n",
              "      border-color: transparent;\n",
              "      border-right-color: var(--fill-color);\n",
              "    }\n",
              "    80% {\n",
              "      border-color: transparent;\n",
              "      border-right-color: var(--fill-color);\n",
              "      border-bottom-color: var(--fill-color);\n",
              "    }\n",
              "    90% {\n",
              "      border-color: transparent;\n",
              "      border-bottom-color: var(--fill-color);\n",
              "    }\n",
              "  }\n",
              "</style>\n",
              "\n",
              "  <script>\n",
              "    async function quickchart(key) {\n",
              "      const quickchartButtonEl =\n",
              "        document.querySelector('#' + key + ' button');\n",
              "      quickchartButtonEl.disabled = true;  // To prevent multiple clicks.\n",
              "      quickchartButtonEl.classList.add('colab-df-spinner');\n",
              "      try {\n",
              "        const charts = await google.colab.kernel.invokeFunction(\n",
              "            'suggestCharts', [key], {});\n",
              "      } catch (error) {\n",
              "        console.error('Error during call to suggestCharts:', error);\n",
              "      }\n",
              "      quickchartButtonEl.classList.remove('colab-df-spinner');\n",
              "      quickchartButtonEl.classList.add('colab-df-quickchart-complete');\n",
              "    }\n",
              "    (() => {\n",
              "      let quickchartButtonEl =\n",
              "        document.querySelector('#df-c2b91515-9e76-4468-b232-16a9bbb23b16 button');\n",
              "      quickchartButtonEl.style.display =\n",
              "        google.colab.kernel.accessAllowed ? 'block' : 'none';\n",
              "    })();\n",
              "  </script>\n",
              "</div>\n",
              "    </div>\n",
              "  </div>\n"
            ]
          },
          "metadata": {},
          "execution_count": 380
        }
      ]
    },
    {
      "cell_type": "markdown",
      "source": [
        "> Compare quantitatively with the recall measures"
      ],
      "metadata": {
        "id": "vKQNwOzz6qs6"
      }
    },
    {
      "cell_type": "code",
      "source": [
        "df_Rec"
      ],
      "metadata": {
        "colab": {
          "base_uri": "https://localhost:8080/",
          "height": 238
        },
        "id": "Wh8T2FQCv5An",
        "outputId": "995a4638-e377-464a-dda9-58350d253917"
      },
      "execution_count": null,
      "outputs": [
        {
          "output_type": "execute_result",
          "data": {
            "text/plain": [
              "          acc      good     unacc  vgood\n",
              "LR   0.843750  0.307692  0.947103   0.68\n",
              "LR1  0.914062  0.653846  0.909320   0.68\n",
              "LR2  0.937500  1.000000  0.906801   0.96\n",
              "NB   0.679688  0.115385  0.959698   0.12\n",
              "NB1  0.679688  0.153846  0.959698   0.12\n",
              "NB2  0.875000  0.961538  0.783375   0.96"
            ],
            "text/html": [
              "\n",
              "  <div id=\"df-e621d801-507f-42c6-9875-b55e68acaddb\" class=\"colab-df-container\">\n",
              "    <div>\n",
              "<style scoped>\n",
              "    .dataframe tbody tr th:only-of-type {\n",
              "        vertical-align: middle;\n",
              "    }\n",
              "\n",
              "    .dataframe tbody tr th {\n",
              "        vertical-align: top;\n",
              "    }\n",
              "\n",
              "    .dataframe thead th {\n",
              "        text-align: right;\n",
              "    }\n",
              "</style>\n",
              "<table border=\"1\" class=\"dataframe\">\n",
              "  <thead>\n",
              "    <tr style=\"text-align: right;\">\n",
              "      <th></th>\n",
              "      <th>acc</th>\n",
              "      <th>good</th>\n",
              "      <th>unacc</th>\n",
              "      <th>vgood</th>\n",
              "    </tr>\n",
              "  </thead>\n",
              "  <tbody>\n",
              "    <tr>\n",
              "      <th>LR</th>\n",
              "      <td>0.843750</td>\n",
              "      <td>0.307692</td>\n",
              "      <td>0.947103</td>\n",
              "      <td>0.68</td>\n",
              "    </tr>\n",
              "    <tr>\n",
              "      <th>LR1</th>\n",
              "      <td>0.914062</td>\n",
              "      <td>0.653846</td>\n",
              "      <td>0.909320</td>\n",
              "      <td>0.68</td>\n",
              "    </tr>\n",
              "    <tr>\n",
              "      <th>LR2</th>\n",
              "      <td>0.937500</td>\n",
              "      <td>1.000000</td>\n",
              "      <td>0.906801</td>\n",
              "      <td>0.96</td>\n",
              "    </tr>\n",
              "    <tr>\n",
              "      <th>NB</th>\n",
              "      <td>0.679688</td>\n",
              "      <td>0.115385</td>\n",
              "      <td>0.959698</td>\n",
              "      <td>0.12</td>\n",
              "    </tr>\n",
              "    <tr>\n",
              "      <th>NB1</th>\n",
              "      <td>0.679688</td>\n",
              "      <td>0.153846</td>\n",
              "      <td>0.959698</td>\n",
              "      <td>0.12</td>\n",
              "    </tr>\n",
              "    <tr>\n",
              "      <th>NB2</th>\n",
              "      <td>0.875000</td>\n",
              "      <td>0.961538</td>\n",
              "      <td>0.783375</td>\n",
              "      <td>0.96</td>\n",
              "    </tr>\n",
              "  </tbody>\n",
              "</table>\n",
              "</div>\n",
              "    <div class=\"colab-df-buttons\">\n",
              "\n",
              "  <div class=\"colab-df-container\">\n",
              "    <button class=\"colab-df-convert\" onclick=\"convertToInteractive('df-e621d801-507f-42c6-9875-b55e68acaddb')\"\n",
              "            title=\"Convert this dataframe to an interactive table.\"\n",
              "            style=\"display:none;\">\n",
              "\n",
              "  <svg xmlns=\"http://www.w3.org/2000/svg\" height=\"24px\" viewBox=\"0 -960 960 960\">\n",
              "    <path d=\"M120-120v-720h720v720H120Zm60-500h600v-160H180v160Zm220 220h160v-160H400v160Zm0 220h160v-160H400v160ZM180-400h160v-160H180v160Zm440 0h160v-160H620v160ZM180-180h160v-160H180v160Zm440 0h160v-160H620v160Z\"/>\n",
              "  </svg>\n",
              "    </button>\n",
              "\n",
              "  <style>\n",
              "    .colab-df-container {\n",
              "      display:flex;\n",
              "      gap: 12px;\n",
              "    }\n",
              "\n",
              "    .colab-df-convert {\n",
              "      background-color: #E8F0FE;\n",
              "      border: none;\n",
              "      border-radius: 50%;\n",
              "      cursor: pointer;\n",
              "      display: none;\n",
              "      fill: #1967D2;\n",
              "      height: 32px;\n",
              "      padding: 0 0 0 0;\n",
              "      width: 32px;\n",
              "    }\n",
              "\n",
              "    .colab-df-convert:hover {\n",
              "      background-color: #E2EBFA;\n",
              "      box-shadow: 0px 1px 2px rgba(60, 64, 67, 0.3), 0px 1px 3px 1px rgba(60, 64, 67, 0.15);\n",
              "      fill: #174EA6;\n",
              "    }\n",
              "\n",
              "    .colab-df-buttons div {\n",
              "      margin-bottom: 4px;\n",
              "    }\n",
              "\n",
              "    [theme=dark] .colab-df-convert {\n",
              "      background-color: #3B4455;\n",
              "      fill: #D2E3FC;\n",
              "    }\n",
              "\n",
              "    [theme=dark] .colab-df-convert:hover {\n",
              "      background-color: #434B5C;\n",
              "      box-shadow: 0px 1px 3px 1px rgba(0, 0, 0, 0.15);\n",
              "      filter: drop-shadow(0px 1px 2px rgba(0, 0, 0, 0.3));\n",
              "      fill: #FFFFFF;\n",
              "    }\n",
              "  </style>\n",
              "\n",
              "    <script>\n",
              "      const buttonEl =\n",
              "        document.querySelector('#df-e621d801-507f-42c6-9875-b55e68acaddb button.colab-df-convert');\n",
              "      buttonEl.style.display =\n",
              "        google.colab.kernel.accessAllowed ? 'block' : 'none';\n",
              "\n",
              "      async function convertToInteractive(key) {\n",
              "        const element = document.querySelector('#df-e621d801-507f-42c6-9875-b55e68acaddb');\n",
              "        const dataTable =\n",
              "          await google.colab.kernel.invokeFunction('convertToInteractive',\n",
              "                                                    [key], {});\n",
              "        if (!dataTable) return;\n",
              "\n",
              "        const docLinkHtml = 'Like what you see? Visit the ' +\n",
              "          '<a target=\"_blank\" href=https://colab.research.google.com/notebooks/data_table.ipynb>data table notebook</a>'\n",
              "          + ' to learn more about interactive tables.';\n",
              "        element.innerHTML = '';\n",
              "        dataTable['output_type'] = 'display_data';\n",
              "        await google.colab.output.renderOutput(dataTable, element);\n",
              "        const docLink = document.createElement('div');\n",
              "        docLink.innerHTML = docLinkHtml;\n",
              "        element.appendChild(docLink);\n",
              "      }\n",
              "    </script>\n",
              "  </div>\n",
              "\n",
              "\n",
              "<div id=\"df-13e73406-9b8b-4e88-a3c8-025031faa9b4\">\n",
              "  <button class=\"colab-df-quickchart\" onclick=\"quickchart('df-13e73406-9b8b-4e88-a3c8-025031faa9b4')\"\n",
              "            title=\"Suggest charts.\"\n",
              "            style=\"display:none;\">\n",
              "\n",
              "<svg xmlns=\"http://www.w3.org/2000/svg\" height=\"24px\"viewBox=\"0 0 24 24\"\n",
              "     width=\"24px\">\n",
              "    <g>\n",
              "        <path d=\"M19 3H5c-1.1 0-2 .9-2 2v14c0 1.1.9 2 2 2h14c1.1 0 2-.9 2-2V5c0-1.1-.9-2-2-2zM9 17H7v-7h2v7zm4 0h-2V7h2v10zm4 0h-2v-4h2v4z\"/>\n",
              "    </g>\n",
              "</svg>\n",
              "  </button>\n",
              "\n",
              "<style>\n",
              "  .colab-df-quickchart {\n",
              "      --bg-color: #E8F0FE;\n",
              "      --fill-color: #1967D2;\n",
              "      --hover-bg-color: #E2EBFA;\n",
              "      --hover-fill-color: #174EA6;\n",
              "      --disabled-fill-color: #AAA;\n",
              "      --disabled-bg-color: #DDD;\n",
              "  }\n",
              "\n",
              "  [theme=dark] .colab-df-quickchart {\n",
              "      --bg-color: #3B4455;\n",
              "      --fill-color: #D2E3FC;\n",
              "      --hover-bg-color: #434B5C;\n",
              "      --hover-fill-color: #FFFFFF;\n",
              "      --disabled-bg-color: #3B4455;\n",
              "      --disabled-fill-color: #666;\n",
              "  }\n",
              "\n",
              "  .colab-df-quickchart {\n",
              "    background-color: var(--bg-color);\n",
              "    border: none;\n",
              "    border-radius: 50%;\n",
              "    cursor: pointer;\n",
              "    display: none;\n",
              "    fill: var(--fill-color);\n",
              "    height: 32px;\n",
              "    padding: 0;\n",
              "    width: 32px;\n",
              "  }\n",
              "\n",
              "  .colab-df-quickchart:hover {\n",
              "    background-color: var(--hover-bg-color);\n",
              "    box-shadow: 0 1px 2px rgba(60, 64, 67, 0.3), 0 1px 3px 1px rgba(60, 64, 67, 0.15);\n",
              "    fill: var(--button-hover-fill-color);\n",
              "  }\n",
              "\n",
              "  .colab-df-quickchart-complete:disabled,\n",
              "  .colab-df-quickchart-complete:disabled:hover {\n",
              "    background-color: var(--disabled-bg-color);\n",
              "    fill: var(--disabled-fill-color);\n",
              "    box-shadow: none;\n",
              "  }\n",
              "\n",
              "  .colab-df-spinner {\n",
              "    border: 2px solid var(--fill-color);\n",
              "    border-color: transparent;\n",
              "    border-bottom-color: var(--fill-color);\n",
              "    animation:\n",
              "      spin 1s steps(1) infinite;\n",
              "  }\n",
              "\n",
              "  @keyframes spin {\n",
              "    0% {\n",
              "      border-color: transparent;\n",
              "      border-bottom-color: var(--fill-color);\n",
              "      border-left-color: var(--fill-color);\n",
              "    }\n",
              "    20% {\n",
              "      border-color: transparent;\n",
              "      border-left-color: var(--fill-color);\n",
              "      border-top-color: var(--fill-color);\n",
              "    }\n",
              "    30% {\n",
              "      border-color: transparent;\n",
              "      border-left-color: var(--fill-color);\n",
              "      border-top-color: var(--fill-color);\n",
              "      border-right-color: var(--fill-color);\n",
              "    }\n",
              "    40% {\n",
              "      border-color: transparent;\n",
              "      border-right-color: var(--fill-color);\n",
              "      border-top-color: var(--fill-color);\n",
              "    }\n",
              "    60% {\n",
              "      border-color: transparent;\n",
              "      border-right-color: var(--fill-color);\n",
              "    }\n",
              "    80% {\n",
              "      border-color: transparent;\n",
              "      border-right-color: var(--fill-color);\n",
              "      border-bottom-color: var(--fill-color);\n",
              "    }\n",
              "    90% {\n",
              "      border-color: transparent;\n",
              "      border-bottom-color: var(--fill-color);\n",
              "    }\n",
              "  }\n",
              "</style>\n",
              "\n",
              "  <script>\n",
              "    async function quickchart(key) {\n",
              "      const quickchartButtonEl =\n",
              "        document.querySelector('#' + key + ' button');\n",
              "      quickchartButtonEl.disabled = true;  // To prevent multiple clicks.\n",
              "      quickchartButtonEl.classList.add('colab-df-spinner');\n",
              "      try {\n",
              "        const charts = await google.colab.kernel.invokeFunction(\n",
              "            'suggestCharts', [key], {});\n",
              "      } catch (error) {\n",
              "        console.error('Error during call to suggestCharts:', error);\n",
              "      }\n",
              "      quickchartButtonEl.classList.remove('colab-df-spinner');\n",
              "      quickchartButtonEl.classList.add('colab-df-quickchart-complete');\n",
              "    }\n",
              "    (() => {\n",
              "      let quickchartButtonEl =\n",
              "        document.querySelector('#df-13e73406-9b8b-4e88-a3c8-025031faa9b4 button');\n",
              "      quickchartButtonEl.style.display =\n",
              "        google.colab.kernel.accessAllowed ? 'block' : 'none';\n",
              "    })();\n",
              "  </script>\n",
              "</div>\n",
              "    </div>\n",
              "  </div>\n"
            ]
          },
          "metadata": {},
          "execution_count": 381
        }
      ]
    },
    {
      "cell_type": "markdown",
      "source": [
        "###**Logistic Regression & Naive Bayes Model with the default parameters**"
      ],
      "metadata": {
        "id": "vkhdCGQCIfPx"
      }
    },
    {
      "cell_type": "markdown",
      "source": [
        "**Initial Model**"
      ],
      "metadata": {
        "id": "t7MPU0XQzJcC"
      }
    },
    {
      "cell_type": "markdown",
      "source": [
        "Let's consider the overall evaluation on the initial models between Logistic Regression (LR) and Naive Bayes (NB)."
      ],
      "metadata": {
        "id": "vd9fwCd43ARF"
      }
    },
    {
      "cell_type": "code",
      "source": [
        "df_Precision.T"
      ],
      "metadata": {
        "colab": {
          "base_uri": "https://localhost:8080/",
          "height": 112
        },
        "id": "w82NWkAc5NRC",
        "outputId": "f2033a08-1751-4e71-f4e5-3d4a39885283"
      },
      "execution_count": null,
      "outputs": [
        {
          "output_type": "execute_result",
          "data": {
            "text/plain": [
              "                   acc      good     unacc  vgood\n",
              "LR Precision  0.696774  0.666667  0.959184    1.0\n",
              "NB Precision  0.591837  0.375000  0.911483    1.0"
            ],
            "text/html": [
              "\n",
              "  <div id=\"df-4f963187-4a4d-46a3-83e4-b9888b5622dd\" class=\"colab-df-container\">\n",
              "    <div>\n",
              "<style scoped>\n",
              "    .dataframe tbody tr th:only-of-type {\n",
              "        vertical-align: middle;\n",
              "    }\n",
              "\n",
              "    .dataframe tbody tr th {\n",
              "        vertical-align: top;\n",
              "    }\n",
              "\n",
              "    .dataframe thead th {\n",
              "        text-align: right;\n",
              "    }\n",
              "</style>\n",
              "<table border=\"1\" class=\"dataframe\">\n",
              "  <thead>\n",
              "    <tr style=\"text-align: right;\">\n",
              "      <th></th>\n",
              "      <th>acc</th>\n",
              "      <th>good</th>\n",
              "      <th>unacc</th>\n",
              "      <th>vgood</th>\n",
              "    </tr>\n",
              "  </thead>\n",
              "  <tbody>\n",
              "    <tr>\n",
              "      <th>LR Precision</th>\n",
              "      <td>0.696774</td>\n",
              "      <td>0.666667</td>\n",
              "      <td>0.959184</td>\n",
              "      <td>1.0</td>\n",
              "    </tr>\n",
              "    <tr>\n",
              "      <th>NB Precision</th>\n",
              "      <td>0.591837</td>\n",
              "      <td>0.375000</td>\n",
              "      <td>0.911483</td>\n",
              "      <td>1.0</td>\n",
              "    </tr>\n",
              "  </tbody>\n",
              "</table>\n",
              "</div>\n",
              "    <div class=\"colab-df-buttons\">\n",
              "\n",
              "  <div class=\"colab-df-container\">\n",
              "    <button class=\"colab-df-convert\" onclick=\"convertToInteractive('df-4f963187-4a4d-46a3-83e4-b9888b5622dd')\"\n",
              "            title=\"Convert this dataframe to an interactive table.\"\n",
              "            style=\"display:none;\">\n",
              "\n",
              "  <svg xmlns=\"http://www.w3.org/2000/svg\" height=\"24px\" viewBox=\"0 -960 960 960\">\n",
              "    <path d=\"M120-120v-720h720v720H120Zm60-500h600v-160H180v160Zm220 220h160v-160H400v160Zm0 220h160v-160H400v160ZM180-400h160v-160H180v160Zm440 0h160v-160H620v160ZM180-180h160v-160H180v160Zm440 0h160v-160H620v160Z\"/>\n",
              "  </svg>\n",
              "    </button>\n",
              "\n",
              "  <style>\n",
              "    .colab-df-container {\n",
              "      display:flex;\n",
              "      gap: 12px;\n",
              "    }\n",
              "\n",
              "    .colab-df-convert {\n",
              "      background-color: #E8F0FE;\n",
              "      border: none;\n",
              "      border-radius: 50%;\n",
              "      cursor: pointer;\n",
              "      display: none;\n",
              "      fill: #1967D2;\n",
              "      height: 32px;\n",
              "      padding: 0 0 0 0;\n",
              "      width: 32px;\n",
              "    }\n",
              "\n",
              "    .colab-df-convert:hover {\n",
              "      background-color: #E2EBFA;\n",
              "      box-shadow: 0px 1px 2px rgba(60, 64, 67, 0.3), 0px 1px 3px 1px rgba(60, 64, 67, 0.15);\n",
              "      fill: #174EA6;\n",
              "    }\n",
              "\n",
              "    .colab-df-buttons div {\n",
              "      margin-bottom: 4px;\n",
              "    }\n",
              "\n",
              "    [theme=dark] .colab-df-convert {\n",
              "      background-color: #3B4455;\n",
              "      fill: #D2E3FC;\n",
              "    }\n",
              "\n",
              "    [theme=dark] .colab-df-convert:hover {\n",
              "      background-color: #434B5C;\n",
              "      box-shadow: 0px 1px 3px 1px rgba(0, 0, 0, 0.15);\n",
              "      filter: drop-shadow(0px 1px 2px rgba(0, 0, 0, 0.3));\n",
              "      fill: #FFFFFF;\n",
              "    }\n",
              "  </style>\n",
              "\n",
              "    <script>\n",
              "      const buttonEl =\n",
              "        document.querySelector('#df-4f963187-4a4d-46a3-83e4-b9888b5622dd button.colab-df-convert');\n",
              "      buttonEl.style.display =\n",
              "        google.colab.kernel.accessAllowed ? 'block' : 'none';\n",
              "\n",
              "      async function convertToInteractive(key) {\n",
              "        const element = document.querySelector('#df-4f963187-4a4d-46a3-83e4-b9888b5622dd');\n",
              "        const dataTable =\n",
              "          await google.colab.kernel.invokeFunction('convertToInteractive',\n",
              "                                                    [key], {});\n",
              "        if (!dataTable) return;\n",
              "\n",
              "        const docLinkHtml = 'Like what you see? Visit the ' +\n",
              "          '<a target=\"_blank\" href=https://colab.research.google.com/notebooks/data_table.ipynb>data table notebook</a>'\n",
              "          + ' to learn more about interactive tables.';\n",
              "        element.innerHTML = '';\n",
              "        dataTable['output_type'] = 'display_data';\n",
              "        await google.colab.output.renderOutput(dataTable, element);\n",
              "        const docLink = document.createElement('div');\n",
              "        docLink.innerHTML = docLinkHtml;\n",
              "        element.appendChild(docLink);\n",
              "      }\n",
              "    </script>\n",
              "  </div>\n",
              "\n",
              "\n",
              "<div id=\"df-8222891a-d9fc-4e22-912d-d213514ecb6c\">\n",
              "  <button class=\"colab-df-quickchart\" onclick=\"quickchart('df-8222891a-d9fc-4e22-912d-d213514ecb6c')\"\n",
              "            title=\"Suggest charts.\"\n",
              "            style=\"display:none;\">\n",
              "\n",
              "<svg xmlns=\"http://www.w3.org/2000/svg\" height=\"24px\"viewBox=\"0 0 24 24\"\n",
              "     width=\"24px\">\n",
              "    <g>\n",
              "        <path d=\"M19 3H5c-1.1 0-2 .9-2 2v14c0 1.1.9 2 2 2h14c1.1 0 2-.9 2-2V5c0-1.1-.9-2-2-2zM9 17H7v-7h2v7zm4 0h-2V7h2v10zm4 0h-2v-4h2v4z\"/>\n",
              "    </g>\n",
              "</svg>\n",
              "  </button>\n",
              "\n",
              "<style>\n",
              "  .colab-df-quickchart {\n",
              "      --bg-color: #E8F0FE;\n",
              "      --fill-color: #1967D2;\n",
              "      --hover-bg-color: #E2EBFA;\n",
              "      --hover-fill-color: #174EA6;\n",
              "      --disabled-fill-color: #AAA;\n",
              "      --disabled-bg-color: #DDD;\n",
              "  }\n",
              "\n",
              "  [theme=dark] .colab-df-quickchart {\n",
              "      --bg-color: #3B4455;\n",
              "      --fill-color: #D2E3FC;\n",
              "      --hover-bg-color: #434B5C;\n",
              "      --hover-fill-color: #FFFFFF;\n",
              "      --disabled-bg-color: #3B4455;\n",
              "      --disabled-fill-color: #666;\n",
              "  }\n",
              "\n",
              "  .colab-df-quickchart {\n",
              "    background-color: var(--bg-color);\n",
              "    border: none;\n",
              "    border-radius: 50%;\n",
              "    cursor: pointer;\n",
              "    display: none;\n",
              "    fill: var(--fill-color);\n",
              "    height: 32px;\n",
              "    padding: 0;\n",
              "    width: 32px;\n",
              "  }\n",
              "\n",
              "  .colab-df-quickchart:hover {\n",
              "    background-color: var(--hover-bg-color);\n",
              "    box-shadow: 0 1px 2px rgba(60, 64, 67, 0.3), 0 1px 3px 1px rgba(60, 64, 67, 0.15);\n",
              "    fill: var(--button-hover-fill-color);\n",
              "  }\n",
              "\n",
              "  .colab-df-quickchart-complete:disabled,\n",
              "  .colab-df-quickchart-complete:disabled:hover {\n",
              "    background-color: var(--disabled-bg-color);\n",
              "    fill: var(--disabled-fill-color);\n",
              "    box-shadow: none;\n",
              "  }\n",
              "\n",
              "  .colab-df-spinner {\n",
              "    border: 2px solid var(--fill-color);\n",
              "    border-color: transparent;\n",
              "    border-bottom-color: var(--fill-color);\n",
              "    animation:\n",
              "      spin 1s steps(1) infinite;\n",
              "  }\n",
              "\n",
              "  @keyframes spin {\n",
              "    0% {\n",
              "      border-color: transparent;\n",
              "      border-bottom-color: var(--fill-color);\n",
              "      border-left-color: var(--fill-color);\n",
              "    }\n",
              "    20% {\n",
              "      border-color: transparent;\n",
              "      border-left-color: var(--fill-color);\n",
              "      border-top-color: var(--fill-color);\n",
              "    }\n",
              "    30% {\n",
              "      border-color: transparent;\n",
              "      border-left-color: var(--fill-color);\n",
              "      border-top-color: var(--fill-color);\n",
              "      border-right-color: var(--fill-color);\n",
              "    }\n",
              "    40% {\n",
              "      border-color: transparent;\n",
              "      border-right-color: var(--fill-color);\n",
              "      border-top-color: var(--fill-color);\n",
              "    }\n",
              "    60% {\n",
              "      border-color: transparent;\n",
              "      border-right-color: var(--fill-color);\n",
              "    }\n",
              "    80% {\n",
              "      border-color: transparent;\n",
              "      border-right-color: var(--fill-color);\n",
              "      border-bottom-color: var(--fill-color);\n",
              "    }\n",
              "    90% {\n",
              "      border-color: transparent;\n",
              "      border-bottom-color: var(--fill-color);\n",
              "    }\n",
              "  }\n",
              "</style>\n",
              "\n",
              "  <script>\n",
              "    async function quickchart(key) {\n",
              "      const quickchartButtonEl =\n",
              "        document.querySelector('#' + key + ' button');\n",
              "      quickchartButtonEl.disabled = true;  // To prevent multiple clicks.\n",
              "      quickchartButtonEl.classList.add('colab-df-spinner');\n",
              "      try {\n",
              "        const charts = await google.colab.kernel.invokeFunction(\n",
              "            'suggestCharts', [key], {});\n",
              "      } catch (error) {\n",
              "        console.error('Error during call to suggestCharts:', error);\n",
              "      }\n",
              "      quickchartButtonEl.classList.remove('colab-df-spinner');\n",
              "      quickchartButtonEl.classList.add('colab-df-quickchart-complete');\n",
              "    }\n",
              "    (() => {\n",
              "      let quickchartButtonEl =\n",
              "        document.querySelector('#df-8222891a-d9fc-4e22-912d-d213514ecb6c button');\n",
              "      quickchartButtonEl.style.display =\n",
              "        google.colab.kernel.accessAllowed ? 'block' : 'none';\n",
              "    })();\n",
              "  </script>\n",
              "</div>\n",
              "    </div>\n",
              "  </div>\n"
            ]
          },
          "metadata": {},
          "execution_count": 382
        }
      ]
    },
    {
      "cell_type": "code",
      "source": [
        "df_Recall.T"
      ],
      "metadata": {
        "colab": {
          "base_uri": "https://localhost:8080/",
          "height": 112
        },
        "id": "MSX1rCgd5Vn8",
        "outputId": "d8f0af52-ae11-44e2-f667-04a0297808af"
      },
      "execution_count": null,
      "outputs": [
        {
          "output_type": "execute_result",
          "data": {
            "text/plain": [
              "                acc      good     unacc  vgood\n",
              "LR Recall  0.843750  0.307692  0.947103   0.68\n",
              "NB Recall  0.679688  0.115385  0.959698   0.12"
            ],
            "text/html": [
              "\n",
              "  <div id=\"df-fc230d06-0751-4ce0-8560-08c7f07f15a0\" class=\"colab-df-container\">\n",
              "    <div>\n",
              "<style scoped>\n",
              "    .dataframe tbody tr th:only-of-type {\n",
              "        vertical-align: middle;\n",
              "    }\n",
              "\n",
              "    .dataframe tbody tr th {\n",
              "        vertical-align: top;\n",
              "    }\n",
              "\n",
              "    .dataframe thead th {\n",
              "        text-align: right;\n",
              "    }\n",
              "</style>\n",
              "<table border=\"1\" class=\"dataframe\">\n",
              "  <thead>\n",
              "    <tr style=\"text-align: right;\">\n",
              "      <th></th>\n",
              "      <th>acc</th>\n",
              "      <th>good</th>\n",
              "      <th>unacc</th>\n",
              "      <th>vgood</th>\n",
              "    </tr>\n",
              "  </thead>\n",
              "  <tbody>\n",
              "    <tr>\n",
              "      <th>LR Recall</th>\n",
              "      <td>0.843750</td>\n",
              "      <td>0.307692</td>\n",
              "      <td>0.947103</td>\n",
              "      <td>0.68</td>\n",
              "    </tr>\n",
              "    <tr>\n",
              "      <th>NB Recall</th>\n",
              "      <td>0.679688</td>\n",
              "      <td>0.115385</td>\n",
              "      <td>0.959698</td>\n",
              "      <td>0.12</td>\n",
              "    </tr>\n",
              "  </tbody>\n",
              "</table>\n",
              "</div>\n",
              "    <div class=\"colab-df-buttons\">\n",
              "\n",
              "  <div class=\"colab-df-container\">\n",
              "    <button class=\"colab-df-convert\" onclick=\"convertToInteractive('df-fc230d06-0751-4ce0-8560-08c7f07f15a0')\"\n",
              "            title=\"Convert this dataframe to an interactive table.\"\n",
              "            style=\"display:none;\">\n",
              "\n",
              "  <svg xmlns=\"http://www.w3.org/2000/svg\" height=\"24px\" viewBox=\"0 -960 960 960\">\n",
              "    <path d=\"M120-120v-720h720v720H120Zm60-500h600v-160H180v160Zm220 220h160v-160H400v160Zm0 220h160v-160H400v160ZM180-400h160v-160H180v160Zm440 0h160v-160H620v160ZM180-180h160v-160H180v160Zm440 0h160v-160H620v160Z\"/>\n",
              "  </svg>\n",
              "    </button>\n",
              "\n",
              "  <style>\n",
              "    .colab-df-container {\n",
              "      display:flex;\n",
              "      gap: 12px;\n",
              "    }\n",
              "\n",
              "    .colab-df-convert {\n",
              "      background-color: #E8F0FE;\n",
              "      border: none;\n",
              "      border-radius: 50%;\n",
              "      cursor: pointer;\n",
              "      display: none;\n",
              "      fill: #1967D2;\n",
              "      height: 32px;\n",
              "      padding: 0 0 0 0;\n",
              "      width: 32px;\n",
              "    }\n",
              "\n",
              "    .colab-df-convert:hover {\n",
              "      background-color: #E2EBFA;\n",
              "      box-shadow: 0px 1px 2px rgba(60, 64, 67, 0.3), 0px 1px 3px 1px rgba(60, 64, 67, 0.15);\n",
              "      fill: #174EA6;\n",
              "    }\n",
              "\n",
              "    .colab-df-buttons div {\n",
              "      margin-bottom: 4px;\n",
              "    }\n",
              "\n",
              "    [theme=dark] .colab-df-convert {\n",
              "      background-color: #3B4455;\n",
              "      fill: #D2E3FC;\n",
              "    }\n",
              "\n",
              "    [theme=dark] .colab-df-convert:hover {\n",
              "      background-color: #434B5C;\n",
              "      box-shadow: 0px 1px 3px 1px rgba(0, 0, 0, 0.15);\n",
              "      filter: drop-shadow(0px 1px 2px rgba(0, 0, 0, 0.3));\n",
              "      fill: #FFFFFF;\n",
              "    }\n",
              "  </style>\n",
              "\n",
              "    <script>\n",
              "      const buttonEl =\n",
              "        document.querySelector('#df-fc230d06-0751-4ce0-8560-08c7f07f15a0 button.colab-df-convert');\n",
              "      buttonEl.style.display =\n",
              "        google.colab.kernel.accessAllowed ? 'block' : 'none';\n",
              "\n",
              "      async function convertToInteractive(key) {\n",
              "        const element = document.querySelector('#df-fc230d06-0751-4ce0-8560-08c7f07f15a0');\n",
              "        const dataTable =\n",
              "          await google.colab.kernel.invokeFunction('convertToInteractive',\n",
              "                                                    [key], {});\n",
              "        if (!dataTable) return;\n",
              "\n",
              "        const docLinkHtml = 'Like what you see? Visit the ' +\n",
              "          '<a target=\"_blank\" href=https://colab.research.google.com/notebooks/data_table.ipynb>data table notebook</a>'\n",
              "          + ' to learn more about interactive tables.';\n",
              "        element.innerHTML = '';\n",
              "        dataTable['output_type'] = 'display_data';\n",
              "        await google.colab.output.renderOutput(dataTable, element);\n",
              "        const docLink = document.createElement('div');\n",
              "        docLink.innerHTML = docLinkHtml;\n",
              "        element.appendChild(docLink);\n",
              "      }\n",
              "    </script>\n",
              "  </div>\n",
              "\n",
              "\n",
              "<div id=\"df-d84d17bc-ed97-4313-9c23-5a9bda6300d1\">\n",
              "  <button class=\"colab-df-quickchart\" onclick=\"quickchart('df-d84d17bc-ed97-4313-9c23-5a9bda6300d1')\"\n",
              "            title=\"Suggest charts.\"\n",
              "            style=\"display:none;\">\n",
              "\n",
              "<svg xmlns=\"http://www.w3.org/2000/svg\" height=\"24px\"viewBox=\"0 0 24 24\"\n",
              "     width=\"24px\">\n",
              "    <g>\n",
              "        <path d=\"M19 3H5c-1.1 0-2 .9-2 2v14c0 1.1.9 2 2 2h14c1.1 0 2-.9 2-2V5c0-1.1-.9-2-2-2zM9 17H7v-7h2v7zm4 0h-2V7h2v10zm4 0h-2v-4h2v4z\"/>\n",
              "    </g>\n",
              "</svg>\n",
              "  </button>\n",
              "\n",
              "<style>\n",
              "  .colab-df-quickchart {\n",
              "      --bg-color: #E8F0FE;\n",
              "      --fill-color: #1967D2;\n",
              "      --hover-bg-color: #E2EBFA;\n",
              "      --hover-fill-color: #174EA6;\n",
              "      --disabled-fill-color: #AAA;\n",
              "      --disabled-bg-color: #DDD;\n",
              "  }\n",
              "\n",
              "  [theme=dark] .colab-df-quickchart {\n",
              "      --bg-color: #3B4455;\n",
              "      --fill-color: #D2E3FC;\n",
              "      --hover-bg-color: #434B5C;\n",
              "      --hover-fill-color: #FFFFFF;\n",
              "      --disabled-bg-color: #3B4455;\n",
              "      --disabled-fill-color: #666;\n",
              "  }\n",
              "\n",
              "  .colab-df-quickchart {\n",
              "    background-color: var(--bg-color);\n",
              "    border: none;\n",
              "    border-radius: 50%;\n",
              "    cursor: pointer;\n",
              "    display: none;\n",
              "    fill: var(--fill-color);\n",
              "    height: 32px;\n",
              "    padding: 0;\n",
              "    width: 32px;\n",
              "  }\n",
              "\n",
              "  .colab-df-quickchart:hover {\n",
              "    background-color: var(--hover-bg-color);\n",
              "    box-shadow: 0 1px 2px rgba(60, 64, 67, 0.3), 0 1px 3px 1px rgba(60, 64, 67, 0.15);\n",
              "    fill: var(--button-hover-fill-color);\n",
              "  }\n",
              "\n",
              "  .colab-df-quickchart-complete:disabled,\n",
              "  .colab-df-quickchart-complete:disabled:hover {\n",
              "    background-color: var(--disabled-bg-color);\n",
              "    fill: var(--disabled-fill-color);\n",
              "    box-shadow: none;\n",
              "  }\n",
              "\n",
              "  .colab-df-spinner {\n",
              "    border: 2px solid var(--fill-color);\n",
              "    border-color: transparent;\n",
              "    border-bottom-color: var(--fill-color);\n",
              "    animation:\n",
              "      spin 1s steps(1) infinite;\n",
              "  }\n",
              "\n",
              "  @keyframes spin {\n",
              "    0% {\n",
              "      border-color: transparent;\n",
              "      border-bottom-color: var(--fill-color);\n",
              "      border-left-color: var(--fill-color);\n",
              "    }\n",
              "    20% {\n",
              "      border-color: transparent;\n",
              "      border-left-color: var(--fill-color);\n",
              "      border-top-color: var(--fill-color);\n",
              "    }\n",
              "    30% {\n",
              "      border-color: transparent;\n",
              "      border-left-color: var(--fill-color);\n",
              "      border-top-color: var(--fill-color);\n",
              "      border-right-color: var(--fill-color);\n",
              "    }\n",
              "    40% {\n",
              "      border-color: transparent;\n",
              "      border-right-color: var(--fill-color);\n",
              "      border-top-color: var(--fill-color);\n",
              "    }\n",
              "    60% {\n",
              "      border-color: transparent;\n",
              "      border-right-color: var(--fill-color);\n",
              "    }\n",
              "    80% {\n",
              "      border-color: transparent;\n",
              "      border-right-color: var(--fill-color);\n",
              "      border-bottom-color: var(--fill-color);\n",
              "    }\n",
              "    90% {\n",
              "      border-color: transparent;\n",
              "      border-bottom-color: var(--fill-color);\n",
              "    }\n",
              "  }\n",
              "</style>\n",
              "\n",
              "  <script>\n",
              "    async function quickchart(key) {\n",
              "      const quickchartButtonEl =\n",
              "        document.querySelector('#' + key + ' button');\n",
              "      quickchartButtonEl.disabled = true;  // To prevent multiple clicks.\n",
              "      quickchartButtonEl.classList.add('colab-df-spinner');\n",
              "      try {\n",
              "        const charts = await google.colab.kernel.invokeFunction(\n",
              "            'suggestCharts', [key], {});\n",
              "      } catch (error) {\n",
              "        console.error('Error during call to suggestCharts:', error);\n",
              "      }\n",
              "      quickchartButtonEl.classList.remove('colab-df-spinner');\n",
              "      quickchartButtonEl.classList.add('colab-df-quickchart-complete');\n",
              "    }\n",
              "    (() => {\n",
              "      let quickchartButtonEl =\n",
              "        document.querySelector('#df-d84d17bc-ed97-4313-9c23-5a9bda6300d1 button');\n",
              "      quickchartButtonEl.style.display =\n",
              "        google.colab.kernel.accessAllowed ? 'block' : 'none';\n",
              "    })();\n",
              "  </script>\n",
              "</div>\n",
              "    </div>\n",
              "  </div>\n"
            ]
          },
          "metadata": {},
          "execution_count": 383
        }
      ]
    },
    {
      "cell_type": "markdown",
      "source": [
        "The precision and recall scores for the \"uacc\" class show excellent results for both models, which could be attributed to the larger number of training samples for this class.\n",
        "\n",
        "However, when it comes to the \"acc\" class, the recall score is higher than the precision score, indicating that the models are quite good at identifying instances of the \"acc\" class but they also generate a significant number of false positive predictions for it. This might be because the features used for identifying the \"acc\" class are not specific enough and have some similarity with other classes such as \"uacc\". As a result, the models make more true positive predictions on the \"acc\" class than they should, leading to a lower precision score.\n",
        "\n",
        "On the other hand, when it comes to identifying the \"good\" class, the models show a high level of precision but a low level of recall. This suggests that the models correctly identify instances of the \"good\" class (true positive), but they also miss many instances of it (false negative). This imbalance in the prediction can result in the models over-predicting one class and under-predicting another. In this case, the system is over-predicting the \"acc\" class, and that results in a high false-negative rate for the \"good\" class.\n",
        "\n",
        "One possible explanation for this is the lack of training data for the \"good\" class. Although the models have learned from the other classes, they don't have enough data to accurately distinguish and classify the \"good\" class. It is also possible that there is a common feature used to classify \"good\" and \"acc\" classes, which leads to the models favoring one class over the other."
      ],
      "metadata": {
        "id": "fdZiNH5F0AhJ"
      }
    },
    {
      "cell_type": "code",
      "source": [
        "disp = ConfusionMatrixDisplay(confusion_matrix=cm_lr, display_labels=ModelLR.classes_) # Display Confusion Matrix\n",
        "disp.plot()"
      ],
      "metadata": {
        "colab": {
          "base_uri": "https://localhost:8080/",
          "height": 466
        },
        "id": "12Lzif5vMgFI",
        "outputId": "8798b35a-f9c3-4a96-a1aa-e3560c564210"
      },
      "execution_count": null,
      "outputs": [
        {
          "output_type": "execute_result",
          "data": {
            "text/plain": [
              "<sklearn.metrics._plot.confusion_matrix.ConfusionMatrixDisplay at 0x7c42e9aef040>"
            ]
          },
          "metadata": {},
          "execution_count": 384
        },
        {
          "output_type": "display_data",
          "data": {
            "text/plain": [
              "<Figure size 640x480 with 2 Axes>"
            ],
            "image/png": "[encoded data removed]"
          },
          "metadata": {}
        }
      ]
    },
    {
      "cell_type": "markdown",
      "source": [
        "From the confusion matrix of LR, we can see that the precision score for \"good\" is 8/8+4 = 0.66 and the recall score is 8/8+18 = 0.307, where 18 FN **was** come from class acc, which means the model is over predicting class acc."
      ],
      "metadata": {
        "id": "L55wFXF3M6LW"
      }
    },
    {
      "cell_type": "markdown",
      "source": [
        "*A Precision-Recall curve is a plot of the precision (y-axis) and the recall (x-axis)*\n",
        "\n",
        "<img src=\"https://images.datacamp.com/image/upload/v1674126967/Precision_recall_curve_5076395f1c.jpg\"></img>\n",
        "\n",
        "Source: https://www.datacamp.com/tutorial/precision-recall-curve-tutorial"
      ],
      "metadata": {
        "id": "RUkOiMrX_FkR"
      }
    },
    {
      "cell_type": "markdown",
      "source": [
        "This trade-offs between precision and recall of increase one, the other tends to decrease, implying an imbalanced class distribution of our training set, which model may leading to poor performance on the minority class.\n",
        "\n",
        "A precision-recall curve can helps us visualize this trade-offs precision and recall in order to analyze the performance of models dealing an imbalance dataset.\n",
        "\n",
        "**We will mainly analyze the precision-recall curve on class *good* for each model to identify the performance of the model.**"
      ],
      "metadata": {
        "id": "ocLENt9z7nLr"
      }
    },
    {
      "cell_type": "code",
      "source": [
        "pr_curve(ModelLR,X_test_lr, y_test_lr ,\"LR\")"
      ],
      "metadata": {
        "colab": {
          "base_uri": "https://localhost:8080/",
          "height": 472
        },
        "id": "cp4h256rW7YS",
        "outputId": "4b7b8c54-7bcc-4c2e-fb5e-16813f3cdf9d"
      },
      "execution_count": null,
      "outputs": [
        {
          "output_type": "display_data",
          "data": {
            "text/plain": [
              "<Figure size 640x480 with 1 Axes>"
            ],
            "image/png": "[encoded data removed]"
          },
          "metadata": {}
        }
      ]
    },
    {
      "cell_type": "code",
      "source": [
        "pr_curve(ModelNB,X_test_nb, y_test_nb, \"NB\")"
      ],
      "metadata": {
        "id": "SqM66bYnW7z3",
        "colab": {
          "base_uri": "https://localhost:8080/",
          "height": 472
        },
        "outputId": "ad6c62ec-f3fa-4d98-df06-62c6d1e19ef7"
      },
      "execution_count": null,
      "outputs": [
        {
          "output_type": "display_data",
          "data": {
            "text/plain": [
              "<Figure size 640x480 with 1 Axes>"
            ],
            "image/png": "[encoded data removed]"
          },
          "metadata": {}
        }
      ]
    },
    {
      "cell_type": "markdown",
      "source": [
        "We can observe the precison recall curve for Naive Bayes is more sensitive than logistic regression. Naive Bayes is based on probabilistic reasoning and it more sensitive to the relative frequency of different samples, which can impact the threshold precision and recall.\n",
        "\n",
        "An intresting observation is that the number of samples for **vgood** is similar to **good**, while the evaluation of precision/recall for **vgood** shows a decent . This could imply that there are distinctive or informative features that strongly correlate with the **vgood** class, making it easier for the model to differentiate between **vgood** and other classes.\n",
        "\n",
        "\n",
        "\n",
        "\n"
      ],
      "metadata": {
        "id": "fOM-718mPp03"
      }
    },
    {
      "cell_type": "markdown",
      "source": [
        "###Logistic Regression Model"
      ],
      "metadata": {
        "id": "wmbTqZ_1I05R"
      }
    },
    {
      "cell_type": "markdown",
      "source": [
        "**Logistic Regression Model 1 (LR1)**\n",
        "- `multi_class='ovr'` The model will use a one-vs-rest strategy, which means fitting a binary model for each class.\n",
        "- `solver='newton-cholesky'` is a good choice for n_samples >> n_features, especially with one-hot encoded categorical features with rare categories.\n",
        "- `class_weight=\"balanced\"` This will adjust weights inversely proportional to class frequencies in the input data.\n",
        "- `C=5` Apply a regularization of 5. A higher value of C means less regularization, which means the model will try to fit the training data as well as possible.\n",
        "- `max_iter=500` Maximum number of iterations for the solver to converge. This is only set to have a equal comparison with model 2."
      ],
      "metadata": {
        "id": "lnZSwOBdJCSZ"
      }
    },
    {
      "cell_type": "code",
      "source": [
        "pr_curve(ModelLR_1,X_test_lr, y_test_lr, \"LR1\")"
      ],
      "metadata": {
        "id": "b3GoJ1wz-Uun",
        "colab": {
          "base_uri": "https://localhost:8080/",
          "height": 472
        },
        "outputId": "8743e9a0-f441-4785-9ef9-95cbec78630f"
      },
      "execution_count": null,
      "outputs": [
        {
          "output_type": "display_data",
          "data": {
            "text/plain": [
              "<Figure size 640x480 with 1 Axes>"
            ],
            "image/png": "[encoded data removed]"
          },
          "metadata": {}
        }
      ]
    },
    {
      "cell_type": "markdown",
      "source": [
        "In LR1, We can observed a high threshold of high precision and low recall, point (0,1).\n",
        "\n",
        "\\begin{equation}\n",
        "\\text{Precision}_{Ci} = \\frac{\\text{True Positives}_{Ci}}{\\text{True Positives}_{Ci} + \\text{False Positives}_{Ci}}\n",
        "\\end{equation}\n",
        "\n",
        "\\begin{equation}\n",
        "\\text{Recall}_{Ci} = \\frac{\\text{True Positives}_{C}}{\\text{True Positives}_{Ci} + \\text{False Negatives}_{Ci}}\n",
        "\\end{equation}\n",
        "\n",
        "A high threshold denotes that the model is making fewer false positive predictions (increase precision rate) on the 'good' class. However, in doing so, it is also missing a significant number of true positive instances due to its overly selective nature in making positive predictions, leading to a higher number of false negatives. The model's use of a one-vs-rest (OvR) strategy poses a challenge in accounting for class imbalances, as it only focuses on the performance of each class against the rest and does not consider class balance. As a result, this strategy may not be well-suited to capture class imbalances, which leads a very high threshold on class good."
      ],
      "metadata": {
        "id": "ClvuazO1Z5ts"
      }
    },
    {
      "cell_type": "markdown",
      "source": [
        "**Logistic Regression Model 2 (LR2)**\n",
        "\n",
        "- `multi_class='multinomial'` The model will use the softmax function.\n",
        "- `solver='lbfgs'` handle multinomial loss\n",
        "- `class_weight=\"balanced\"` The \"balanced\" mode uses the values of y to automatically adjust weights inversely proportional to class frequencies in the input data\n",
        "- `max_iter=500` Maximum number of iterations taken for the 'lbfgs' solvers.\n",
        "- `C=5` Apply a regularization of 5. A higher value of C means less regularization, which means the model will try to fit the training data as well as possible."
      ],
      "metadata": {
        "id": "nh4D-Y1XUC8M"
      }
    },
    {
      "cell_type": "code",
      "source": [
        "pr_curve(ModelLR_2, X_test_lr, y_test_lr, \"LR2\")"
      ],
      "metadata": {
        "id": "qAPdo084-kII",
        "colab": {
          "base_uri": "https://localhost:8080/",
          "height": 472
        },
        "outputId": "25138286-a441-43a6-bb9f-2c79fda8024b"
      },
      "execution_count": null,
      "outputs": [
        {
          "output_type": "display_data",
          "data": {
            "text/plain": [
              "<Figure size 640x480 with 1 Axes>"
            ],
            "image/png": "[encoded data removed]"
          },
          "metadata": {}
        }
      ]
    },
    {
      "cell_type": "markdown",
      "source": [
        "The softmax function, on the other hand, provides the probability distribution over all classes. The class with the highest probailities will be the prediction. This helps the model inorder to determining the most likely class it belong over the other classes, which gives a balanced threshold on all the classes. The model didn't make many over predictions on one class over the other. As a result, LR2 gives a recall of 1 for class good and 0.96 for class vgood, while LR1 only has 0.65 for class good and 0.68 for class vgood."
      ],
      "metadata": {
        "id": "Bjfmu6kq9BNG"
      }
    },
    {
      "cell_type": "markdown",
      "source": [
        "<img src=\"https://encrypted-tbn0.gstatic.com/images?q=tbn:ANd9GcRCA5JrbjKNInMkU7uC3qgX78iOLre2e_jGgq3CPhaH3lgY2e0AnatyBCNZFBFw6EqJ_5c&usqp=CAU\">\n",
        "\n",
        "\n",
        "Source: https://towardsdatascience.com/softmax-activation-function-explained-a7e1bc3ad60"
      ],
      "metadata": {
        "id": "wMVgosBMuBd8"
      }
    },
    {
      "cell_type": "markdown",
      "source": [
        "###Naïve Bayes Model"
      ],
      "metadata": {
        "id": "TGmwgps7I4qQ"
      }
    },
    {
      "cell_type": "markdown",
      "source": [
        "**Naïve Bayes Model 1 (NB1)**\n",
        "\n",
        "- `alpha=0.5` the smoothing parameter. It controls the rate at which the influence of the observations at prior time steps decay exponentially\n",
        "- `fit_prior=True` This means that the classifier will learn class prior probabilities from the training data.\n"
      ],
      "metadata": {
        "id": "h3GV3EnMUYTd"
      }
    },
    {
      "cell_type": "code",
      "source": [
        "pr_curve(ModelNB_1, X_test_nb, y_test_nb, \"NB1\")"
      ],
      "metadata": {
        "id": "LSfVs4ju-xK4",
        "colab": {
          "base_uri": "https://localhost:8080/",
          "height": 472
        },
        "outputId": "0b4d1da7-6972-44f9-c839-f66bbbba8185"
      },
      "execution_count": null,
      "outputs": [
        {
          "output_type": "display_data",
          "data": {
            "text/plain": [
              "<Figure size 640x480 with 1 Axes>"
            ],
            "image/png": "[encoded data removed]"
          },
          "metadata": {}
        }
      ]
    },
    {
      "cell_type": "markdown",
      "source": [
        "**Naïve Bayes Model 2 (NB2)**\n",
        "- `alpha=0`no smoothing is applied.  \n",
        "- `fit_prior=False` uniform prior probabilities will be used.\n",
        "- `force_alpha=True` set True, alpha will remain unchanged. This may cause\n",
        "numerical errors if alpha is too close to 0."
      ],
      "metadata": {
        "id": "h-vn9jejLXjd"
      }
    },
    {
      "cell_type": "code",
      "source": [
        "pr_curve(ModelNB_2,X_test_nb, y_test_nb, \"NB2\")"
      ],
      "metadata": {
        "id": "mBJLpvg7-6YY",
        "colab": {
          "base_uri": "https://localhost:8080/",
          "height": 472
        },
        "outputId": "ee23bd74-378c-458b-e375-61767d3275b6"
      },
      "execution_count": null,
      "outputs": [
        {
          "output_type": "display_data",
          "data": {
            "text/plain": [
              "<Figure size 640x480 with 1 Axes>"
            ],
            "image/png": "[encoded data removed]"
          },
          "metadata": {}
        }
      ]
    },
    {
      "cell_type": "markdown",
      "source": [
        "The softmax function provides a probability distribution over all classes, with the class having the highest probability being the prediction. This helps the model by determining the most likely class it belongs to, ensuring a balanced threshold on all classes. This, in turn, results in fewer overpredictions on one class over the others. As a result, LR2 has a recall of 1 for class \"good\" and 0.96 for class \"very good\", while LR1 only has 0.65 for class \"good\" and 0.68 for class \"very good\"."
      ],
      "metadata": {
        "id": "Zi0F5nqgD3Dt"
      }
    },
    {
      "cell_type": "markdown",
      "source": [
        "###Micro and Macro Averages"
      ],
      "metadata": {
        "id": "P6O6hziIOkNQ"
      }
    },
    {
      "cell_type": "code",
      "source": [
        "df_MacMic_2"
      ],
      "metadata": {
        "colab": {
          "base_uri": "https://localhost:8080/",
          "height": 238
        },
        "id": "fJVbDOIkAiPa",
        "outputId": "7654465f-a8a3-4167-f2da-e0245f532a3e"
      },
      "execution_count": null,
      "outputs": [
        {
          "output_type": "execute_result",
          "data": {
            "text/plain": [
              "      Pre_Mac   Rec_Mac   Pre_Mic   Rec_Mic  ave_accuracy  test_accuracy\n",
              "LR   0.830656  0.694636  0.883681  0.883681      0.915799       0.883681\n",
              "LR1  0.812041  0.789307  0.888889  0.888889      0.891204       0.888889\n",
              "LR2  0.877896  0.951075  0.920139  0.920139      0.898655       0.920139\n",
              "NB   0.719580  0.468692  0.822917  0.822917      0.885851       0.822917\n",
              "NB1  0.737955  0.478308  0.824653  0.824653      0.890625       0.824653\n",
              "NB2  0.769886  0.894978  0.819444  0.819444      0.877025       0.819444"
            ],
            "text/html": [
              "\n",
              "  <div id=\"df-2dddfab0-3e3c-444f-923f-a245448ddaf4\" class=\"colab-df-container\">\n",
              "    <div>\n",
              "<style scoped>\n",
              "    .dataframe tbody tr th:only-of-type {\n",
              "        vertical-align: middle;\n",
              "    }\n",
              "\n",
              "    .dataframe tbody tr th {\n",
              "        vertical-align: top;\n",
              "    }\n",
              "\n",
              "    .dataframe thead th {\n",
              "        text-align: right;\n",
              "    }\n",
              "</style>\n",
              "<table border=\"1\" class=\"dataframe\">\n",
              "  <thead>\n",
              "    <tr style=\"text-align: right;\">\n",
              "      <th></th>\n",
              "      <th>Pre_Mac</th>\n",
              "      <th>Rec_Mac</th>\n",
              "      <th>Pre_Mic</th>\n",
              "      <th>Rec_Mic</th>\n",
              "      <th>ave_accuracy</th>\n",
              "      <th>test_accuracy</th>\n",
              "    </tr>\n",
              "  </thead>\n",
              "  <tbody>\n",
              "    <tr>\n",
              "      <th>LR</th>\n",
              "      <td>0.830656</td>\n",
              "      <td>0.694636</td>\n",
              "      <td>0.883681</td>\n",
              "      <td>0.883681</td>\n",
              "      <td>0.915799</td>\n",
              "      <td>0.883681</td>\n",
              "    </tr>\n",
              "    <tr>\n",
              "      <th>LR1</th>\n",
              "      <td>0.812041</td>\n",
              "      <td>0.789307</td>\n",
              "      <td>0.888889</td>\n",
              "      <td>0.888889</td>\n",
              "      <td>0.891204</td>\n",
              "      <td>0.888889</td>\n",
              "    </tr>\n",
              "    <tr>\n",
              "      <th>LR2</th>\n",
              "      <td>0.877896</td>\n",
              "      <td>0.951075</td>\n",
              "      <td>0.920139</td>\n",
              "      <td>0.920139</td>\n",
              "      <td>0.898655</td>\n",
              "      <td>0.920139</td>\n",
              "    </tr>\n",
              "    <tr>\n",
              "      <th>NB</th>\n",
              "      <td>0.719580</td>\n",
              "      <td>0.468692</td>\n",
              "      <td>0.822917</td>\n",
              "      <td>0.822917</td>\n",
              "      <td>0.885851</td>\n",
              "      <td>0.822917</td>\n",
              "    </tr>\n",
              "    <tr>\n",
              "      <th>NB1</th>\n",
              "      <td>0.737955</td>\n",
              "      <td>0.478308</td>\n",
              "      <td>0.824653</td>\n",
              "      <td>0.824653</td>\n",
              "      <td>0.890625</td>\n",
              "      <td>0.824653</td>\n",
              "    </tr>\n",
              "    <tr>\n",
              "      <th>NB2</th>\n",
              "      <td>0.769886</td>\n",
              "      <td>0.894978</td>\n",
              "      <td>0.819444</td>\n",
              "      <td>0.819444</td>\n",
              "      <td>0.877025</td>\n",
              "      <td>0.819444</td>\n",
              "    </tr>\n",
              "  </tbody>\n",
              "</table>\n",
              "</div>\n",
              "    <div class=\"colab-df-buttons\">\n",
              "\n",
              "  <div class=\"colab-df-container\">\n",
              "    <button class=\"colab-df-convert\" onclick=\"convertToInteractive('df-2dddfab0-3e3c-444f-923f-a245448ddaf4')\"\n",
              "            title=\"Convert this dataframe to an interactive table.\"\n",
              "            style=\"display:none;\">\n",
              "\n",
              "  <svg xmlns=\"http://www.w3.org/2000/svg\" height=\"24px\" viewBox=\"0 -960 960 960\">\n",
              "    <path d=\"M120-120v-720h720v720H120Zm60-500h600v-160H180v160Zm220 220h160v-160H400v160Zm0 220h160v-160H400v160ZM180-400h160v-160H180v160Zm440 0h160v-160H620v160ZM180-180h160v-160H180v160Zm440 0h160v-160H620v160Z\"/>\n",
              "  </svg>\n",
              "    </button>\n",
              "\n",
              "  <style>\n",
              "    .colab-df-container {\n",
              "      display:flex;\n",
              "      gap: 12px;\n",
              "    }\n",
              "\n",
              "    .colab-df-convert {\n",
              "      background-color: #E8F0FE;\n",
              "      border: none;\n",
              "      border-radius: 50%;\n",
              "      cursor: pointer;\n",
              "      display: none;\n",
              "      fill: #1967D2;\n",
              "      height: 32px;\n",
              "      padding: 0 0 0 0;\n",
              "      width: 32px;\n",
              "    }\n",
              "\n",
              "    .colab-df-convert:hover {\n",
              "      background-color: #E2EBFA;\n",
              "      box-shadow: 0px 1px 2px rgba(60, 64, 67, 0.3), 0px 1px 3px 1px rgba(60, 64, 67, 0.15);\n",
              "      fill: #174EA6;\n",
              "    }\n",
              "\n",
              "    .colab-df-buttons div {\n",
              "      margin-bottom: 4px;\n",
              "    }\n",
              "\n",
              "    [theme=dark] .colab-df-convert {\n",
              "      background-color: #3B4455;\n",
              "      fill: #D2E3FC;\n",
              "    }\n",
              "\n",
              "    [theme=dark] .colab-df-convert:hover {\n",
              "      background-color: #434B5C;\n",
              "      box-shadow: 0px 1px 3px 1px rgba(0, 0, 0, 0.15);\n",
              "      filter: drop-shadow(0px 1px 2px rgba(0, 0, 0, 0.3));\n",
              "      fill: #FFFFFF;\n",
              "    }\n",
              "  </style>\n",
              "\n",
              "    <script>\n",
              "      const buttonEl =\n",
              "        document.querySelector('#df-2dddfab0-3e3c-444f-923f-a245448ddaf4 button.colab-df-convert');\n",
              "      buttonEl.style.display =\n",
              "        google.colab.kernel.accessAllowed ? 'block' : 'none';\n",
              "\n",
              "      async function convertToInteractive(key) {\n",
              "        const element = document.querySelector('#df-2dddfab0-3e3c-444f-923f-a245448ddaf4');\n",
              "        const dataTable =\n",
              "          await google.colab.kernel.invokeFunction('convertToInteractive',\n",
              "                                                    [key], {});\n",
              "        if (!dataTable) return;\n",
              "\n",
              "        const docLinkHtml = 'Like what you see? Visit the ' +\n",
              "          '<a target=\"_blank\" href=https://colab.research.google.com/notebooks/data_table.ipynb>data table notebook</a>'\n",
              "          + ' to learn more about interactive tables.';\n",
              "        element.innerHTML = '';\n",
              "        dataTable['output_type'] = 'display_data';\n",
              "        await google.colab.output.renderOutput(dataTable, element);\n",
              "        const docLink = document.createElement('div');\n",
              "        docLink.innerHTML = docLinkHtml;\n",
              "        element.appendChild(docLink);\n",
              "      }\n",
              "    </script>\n",
              "  </div>\n",
              "\n",
              "\n",
              "<div id=\"df-527cf5dc-36e9-48b9-8d6b-5a73b199851c\">\n",
              "  <button class=\"colab-df-quickchart\" onclick=\"quickchart('df-527cf5dc-36e9-48b9-8d6b-5a73b199851c')\"\n",
              "            title=\"Suggest charts.\"\n",
              "            style=\"display:none;\">\n",
              "\n",
              "<svg xmlns=\"http://www.w3.org/2000/svg\" height=\"24px\"viewBox=\"0 0 24 24\"\n",
              "     width=\"24px\">\n",
              "    <g>\n",
              "        <path d=\"M19 3H5c-1.1 0-2 .9-2 2v14c0 1.1.9 2 2 2h14c1.1 0 2-.9 2-2V5c0-1.1-.9-2-2-2zM9 17H7v-7h2v7zm4 0h-2V7h2v10zm4 0h-2v-4h2v4z\"/>\n",
              "    </g>\n",
              "</svg>\n",
              "  </button>\n",
              "\n",
              "<style>\n",
              "  .colab-df-quickchart {\n",
              "      --bg-color: #E8F0FE;\n",
              "      --fill-color: #1967D2;\n",
              "      --hover-bg-color: #E2EBFA;\n",
              "      --hover-fill-color: #174EA6;\n",
              "      --disabled-fill-color: #AAA;\n",
              "      --disabled-bg-color: #DDD;\n",
              "  }\n",
              "\n",
              "  [theme=dark] .colab-df-quickchart {\n",
              "      --bg-color: #3B4455;\n",
              "      --fill-color: #D2E3FC;\n",
              "      --hover-bg-color: #434B5C;\n",
              "      --hover-fill-color: #FFFFFF;\n",
              "      --disabled-bg-color: #3B4455;\n",
              "      --disabled-fill-color: #666;\n",
              "  }\n",
              "\n",
              "  .colab-df-quickchart {\n",
              "    background-color: var(--bg-color);\n",
              "    border: none;\n",
              "    border-radius: 50%;\n",
              "    cursor: pointer;\n",
              "    display: none;\n",
              "    fill: var(--fill-color);\n",
              "    height: 32px;\n",
              "    padding: 0;\n",
              "    width: 32px;\n",
              "  }\n",
              "\n",
              "  .colab-df-quickchart:hover {\n",
              "    background-color: var(--hover-bg-color);\n",
              "    box-shadow: 0 1px 2px rgba(60, 64, 67, 0.3), 0 1px 3px 1px rgba(60, 64, 67, 0.15);\n",
              "    fill: var(--button-hover-fill-color);\n",
              "  }\n",
              "\n",
              "  .colab-df-quickchart-complete:disabled,\n",
              "  .colab-df-quickchart-complete:disabled:hover {\n",
              "    background-color: var(--disabled-bg-color);\n",
              "    fill: var(--disabled-fill-color);\n",
              "    box-shadow: none;\n",
              "  }\n",
              "\n",
              "  .colab-df-spinner {\n",
              "    border: 2px solid var(--fill-color);\n",
              "    border-color: transparent;\n",
              "    border-bottom-color: var(--fill-color);\n",
              "    animation:\n",
              "      spin 1s steps(1) infinite;\n",
              "  }\n",
              "\n",
              "  @keyframes spin {\n",
              "    0% {\n",
              "      border-color: transparent;\n",
              "      border-bottom-color: var(--fill-color);\n",
              "      border-left-color: var(--fill-color);\n",
              "    }\n",
              "    20% {\n",
              "      border-color: transparent;\n",
              "      border-left-color: var(--fill-color);\n",
              "      border-top-color: var(--fill-color);\n",
              "    }\n",
              "    30% {\n",
              "      border-color: transparent;\n",
              "      border-left-color: var(--fill-color);\n",
              "      border-top-color: var(--fill-color);\n",
              "      border-right-color: var(--fill-color);\n",
              "    }\n",
              "    40% {\n",
              "      border-color: transparent;\n",
              "      border-right-color: var(--fill-color);\n",
              "      border-top-color: var(--fill-color);\n",
              "    }\n",
              "    60% {\n",
              "      border-color: transparent;\n",
              "      border-right-color: var(--fill-color);\n",
              "    }\n",
              "    80% {\n",
              "      border-color: transparent;\n",
              "      border-right-color: var(--fill-color);\n",
              "      border-bottom-color: var(--fill-color);\n",
              "    }\n",
              "    90% {\n",
              "      border-color: transparent;\n",
              "      border-bottom-color: var(--fill-color);\n",
              "    }\n",
              "  }\n",
              "</style>\n",
              "\n",
              "  <script>\n",
              "    async function quickchart(key) {\n",
              "      const quickchartButtonEl =\n",
              "        document.querySelector('#' + key + ' button');\n",
              "      quickchartButtonEl.disabled = true;  // To prevent multiple clicks.\n",
              "      quickchartButtonEl.classList.add('colab-df-spinner');\n",
              "      try {\n",
              "        const charts = await google.colab.kernel.invokeFunction(\n",
              "            'suggestCharts', [key], {});\n",
              "      } catch (error) {\n",
              "        console.error('Error during call to suggestCharts:', error);\n",
              "      }\n",
              "      quickchartButtonEl.classList.remove('colab-df-spinner');\n",
              "      quickchartButtonEl.classList.add('colab-df-quickchart-complete');\n",
              "    }\n",
              "    (() => {\n",
              "      let quickchartButtonEl =\n",
              "        document.querySelector('#df-527cf5dc-36e9-48b9-8d6b-5a73b199851c button');\n",
              "      quickchartButtonEl.style.display =\n",
              "        google.colab.kernel.accessAllowed ? 'block' : 'none';\n",
              "    })();\n",
              "  </script>\n",
              "</div>\n",
              "    </div>\n",
              "  </div>\n"
            ]
          },
          "metadata": {},
          "execution_count": 391
        }
      ]
    },
    {
      "cell_type": "markdown",
      "source": [
        "**Average Accuracy vs. Test Accuracy**"
      ],
      "metadata": {
        "id": "l1PHaEkr67zp"
      }
    },
    {
      "cell_type": "markdown",
      "source": [
        "Average accuracy is generally higher than test accuracy because it's the average of accuracy of each validation set during 4-fold cross-validation. Since during the process of cross-validation, each sample has be in the validation set at least once, therefore, the model has already be trained by the some samples in the validation set, resulting in an increase of the accuracy."
      ],
      "metadata": {
        "id": "TAxzA2hx7B0k"
      }
    },
    {
      "cell_type": "markdown",
      "source": [
        "**Micro vs. Macro Averages**"
      ],
      "metadata": {
        "id": "PNz4Ss_A2gn_"
      }
    },
    {
      "cell_type": "markdown",
      "source": [
        "We discussed that when working with an imbalanced dataset, using macro-average evaluation provides a more comprehensive assessment. When comparing the precision/recall micro-average for NB1 and NB2, it appears that they perform similarly. However, upon further analysis, NB1 tends to make more true positive predictions on the majority class, resulting in a very low recall rate for the minority class. In contrast, the macro-average captures this drawback of NB1, leading to a lower recall rate.\n",
        "\n",
        "Furthermore, after comparing different models with varying classifier parameters, we found that LR2 and NB2 performed the best. However, upon comparing the macro-average of the two potential models, LR2 tended to provide better results for this dataset. Therefore, our results suggest that using LR2 as a discriminative classifier will yield the best classification performance."
      ],
      "metadata": {
        "id": "ypLJ8MiU45Ge"
      }
    },
    {
      "cell_type": "markdown",
      "source": [
        "# **References**"
      ],
      "metadata": {
        "id": "EeYEVFU1Y5Zm"
      }
    },
    {
      "cell_type": "markdown",
      "source": [
        "1. https://visualstudiomagazine.com/articles/2023/03/01/naive-bayes-scikit.aspx\n",
        "\n",
        "\n",
        "\n",
        "2. https://www.tutorialspoint.com/logistic_regression_in_python/logistic_regression_in_python_preparing_data.htm\n",
        "\n",
        "\n",
        "3. https://stackoverflow.com/questions/52892099/how-can-i-use-k-fold-cross-validation-in-scikit-learn-to-get-precision-recall-pe\n",
        "\n",
        "4. https://refactored.ai/microcourse/notebook?path=content%2F06-Classification_models_in_Machine_Learning%2F02-Multivariate_Logistic_Regression%2Fmulticlass_logistic-regression.ipynb\n",
        "\n",
        "5. https://www.datacamp.com/tutorial/understanding-logistic-regression-python\n",
        "\n",
        "6. https://levelup.gitconnected.com/a-comprehensive-analysis-of-hyperparameter-optimization-in-logistic-regression-models-521564c1bfc0\n",
        "\n",
        "7. https://saturncloud.io/blog/how-to-access-a-single-fold-in-scikitlearn-kfold/\n",
        "\n",
        "8. https://sklearn-evaluation.ploomber.io/en/latest/classification/micro_macro.html\n",
        "\n",
        "9. https://www.evidentlyai.com/classification-metrics/multi-class-metrics\n",
        "\n",
        "10. https://www.educative.io/answers/what-is-the-difference-between-micro-and-macro-averaging\n",
        "\n",
        "11. http://iamirmasoud.com/2022/06/19/understanding-micro-macro-and-weighted-averages-for-scikit-learn-metrics-in-multi-class-classification-with-example/\n",
        "\n",
        "12. https://levelup.gitconnected.com/a-comprehensive-analysis-of-hyperparameter-optimization-in-logistic-regression-models-521564c1bfc0\n",
        "\n",
        "13. https://medium.com/@sangha_deb/naive-bayes-vs-logistic-regression-a319b07a5d4c#:~:text=Both%20Naive%20Bayes%20and%20Logistic,was%20generated%20given%20the%20results.\n",
        "\n",
        "14. https://www.baeldung.com/cs/naive-bayes-classification-performance\n",
        "\n",
        "15. https://stats.stackexchange.com/questions/313549/why-decision-boundary-differs-between-multinomial-softmax-and-one-vs-rest-logi"
      ],
      "metadata": {
        "id": "lijOPv4AitV9"
      }
    }
  ]
}